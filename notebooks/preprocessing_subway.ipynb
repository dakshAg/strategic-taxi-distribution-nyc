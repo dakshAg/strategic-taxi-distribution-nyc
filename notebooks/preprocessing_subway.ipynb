{
 "cells": [
  {
   "cell_type": "code",
   "execution_count": 149,
   "id": "initial_id",
   "metadata": {
    "collapsed": true,
    "ExecuteTime": {
     "end_time": "2024-08-20T10:09:42.151844Z",
     "start_time": "2024-08-20T10:09:42.112836Z"
    }
   },
   "outputs": [],
   "source": [
    "import geopandas as gpd\n",
    "import pandas as pd\n",
    "import os"
   ]
  },
  {
   "cell_type": "code",
   "outputs": [],
   "source": [
    "df_pd = pd.read_parquet('../data/landing/subway_data/')"
   ],
   "metadata": {
    "collapsed": false,
    "ExecuteTime": {
     "end_time": "2024-08-20T10:09:42.153934Z",
     "start_time": "2024-08-20T10:09:42.124912Z"
    }
   },
   "id": "3ded4ef930d8fdca",
   "execution_count": 150
  },
  {
   "cell_type": "code",
   "outputs": [
    {
     "data": {
      "text/plain": "gtfs_stop_id                     object\nstation_id                       object\ncomplex_id                       object\ndivision                         object\nline                             object\nstop_name                        object\nborough                          object\ncbd                              object\ndaytime_routes                   object\nstructure                        object\ngtfs_latitude                    object\ngtfs_longitude                   object\nnorth_direction_label            object\nsouth_direction_label            object\nada                              object\nada_northbound                   object\nada_southbound                   object\ngeoreference                     object\n:@computed_region_yamh_8v7k      object\n:@computed_region_wbg7_3whc      object\n:@computed_region_kjdx_g34t      object\nada_notes                        object\ngeometry                       geometry\ndtype: object"
     },
     "execution_count": 151,
     "metadata": {},
     "output_type": "execute_result"
    }
   ],
   "source": [
    "df_gpd = gpd.GeoDataFrame(df_pd, geometry=gpd.points_from_xy(df_pd[\"gtfs_longitude\"], df_pd[\"gtfs_latitude\"]))\n",
    "df_gpd.crs = \"+proj=longlat +ellps=WGS84 +datum=WGS84 +no_defs\"\n",
    "df_gpd.dtypes"
   ],
   "metadata": {
    "collapsed": false,
    "ExecuteTime": {
     "end_time": "2024-08-20T10:09:42.168955Z",
     "start_time": "2024-08-20T10:09:42.158219Z"
    }
   },
   "id": "17ac5ac06f9be041",
   "execution_count": 151
  },
  {
   "cell_type": "code",
   "outputs": [],
   "source": [
    "sf = gpd.read_file(\"../data/taxi_zones/taxi_zones.shp\")\n",
    "zones = pd.read_csv(\"../data/taxi_zones/taxi+_zone_lookup.csv\")\n",
    "sf['geometry'] = sf['geometry'].to_crs(\"+proj=longlat +ellps=WGS84 +datum=WGS84 +no_defs\")\n",
    "gdf = gpd.GeoDataFrame(\n",
    "    pd.merge(zones, sf, on='LocationID', how='inner')\n",
    ")"
   ],
   "metadata": {
    "collapsed": false,
    "ExecuteTime": {
     "end_time": "2024-08-20T10:09:42.228917Z",
     "start_time": "2024-08-20T10:09:42.178674Z"
    }
   },
   "id": "3056bd4fdfd2f289",
   "execution_count": 152
  },
  {
   "cell_type": "code",
   "outputs": [],
   "source": [
    "df_gpd = gpd.sjoin(df_gpd, gdf)"
   ],
   "metadata": {
    "collapsed": false,
    "ExecuteTime": {
     "end_time": "2024-08-20T10:09:42.238803Z",
     "start_time": "2024-08-20T10:09:42.230804Z"
    }
   },
   "id": "45d5ce3f0184b94e",
   "execution_count": 153
  },
  {
   "cell_type": "code",
   "outputs": [
    {
     "data": {
      "text/plain": "  gtfs_stop_id station_id complex_id division     line             stop_name  \\\n0          R01          1          1      BMT  Astoria  Astoria-Ditmars Blvd   \n1          R03          2          2      BMT  Astoria          Astoria Blvd   \n2          R04          3          3      BMT  Astoria                 30 Av   \n3          R05          4          4      BMT  Astoria              Broadway   \n4          R06          5          5      BMT  Astoria                 36 Av   \n\n  borough_left    cbd daytime_routes structure  ... index_right LocationID  \\\n0            Q  FALSE            N W  Elevated  ...         222        223   \n1            Q  FALSE            N W  Elevated  ...         222        223   \n2            Q  FALSE            N W  Elevated  ...           6          7   \n3            Q  FALSE            N W  Elevated  ...           6          7   \n4            Q  FALSE            N W  Elevated  ...           6          7   \n\n  Borough      Zone service_zone OBJECTID Shape_Leng Shape_Area      zone  \\\n0  Queens  Steinway    Boro Zone      223   0.166022   0.000764  Steinway   \n1  Queens  Steinway    Boro Zone      223   0.166022   0.000764  Steinway   \n2  Queens   Astoria    Boro Zone        7   0.107417   0.000390   Astoria   \n3  Queens   Astoria    Boro Zone        7   0.107417   0.000390   Astoria   \n4  Queens   Astoria    Boro Zone        7   0.107417   0.000390   Astoria   \n\n  borough_right  \n0        Queens  \n1        Queens  \n2        Queens  \n3        Queens  \n4        Queens  \n\n[5 rows x 33 columns]",
      "text/html": "<div>\n<style scoped>\n    .dataframe tbody tr th:only-of-type {\n        vertical-align: middle;\n    }\n\n    .dataframe tbody tr th {\n        vertical-align: top;\n    }\n\n    .dataframe thead th {\n        text-align: right;\n    }\n</style>\n<table border=\"1\" class=\"dataframe\">\n  <thead>\n    <tr style=\"text-align: right;\">\n      <th></th>\n      <th>gtfs_stop_id</th>\n      <th>station_id</th>\n      <th>complex_id</th>\n      <th>division</th>\n      <th>line</th>\n      <th>stop_name</th>\n      <th>borough_left</th>\n      <th>cbd</th>\n      <th>daytime_routes</th>\n      <th>structure</th>\n      <th>...</th>\n      <th>index_right</th>\n      <th>LocationID</th>\n      <th>Borough</th>\n      <th>Zone</th>\n      <th>service_zone</th>\n      <th>OBJECTID</th>\n      <th>Shape_Leng</th>\n      <th>Shape_Area</th>\n      <th>zone</th>\n      <th>borough_right</th>\n    </tr>\n  </thead>\n  <tbody>\n    <tr>\n      <th>0</th>\n      <td>R01</td>\n      <td>1</td>\n      <td>1</td>\n      <td>BMT</td>\n      <td>Astoria</td>\n      <td>Astoria-Ditmars Blvd</td>\n      <td>Q</td>\n      <td>FALSE</td>\n      <td>N W</td>\n      <td>Elevated</td>\n      <td>...</td>\n      <td>222</td>\n      <td>223</td>\n      <td>Queens</td>\n      <td>Steinway</td>\n      <td>Boro Zone</td>\n      <td>223</td>\n      <td>0.166022</td>\n      <td>0.000764</td>\n      <td>Steinway</td>\n      <td>Queens</td>\n    </tr>\n    <tr>\n      <th>1</th>\n      <td>R03</td>\n      <td>2</td>\n      <td>2</td>\n      <td>BMT</td>\n      <td>Astoria</td>\n      <td>Astoria Blvd</td>\n      <td>Q</td>\n      <td>FALSE</td>\n      <td>N W</td>\n      <td>Elevated</td>\n      <td>...</td>\n      <td>222</td>\n      <td>223</td>\n      <td>Queens</td>\n      <td>Steinway</td>\n      <td>Boro Zone</td>\n      <td>223</td>\n      <td>0.166022</td>\n      <td>0.000764</td>\n      <td>Steinway</td>\n      <td>Queens</td>\n    </tr>\n    <tr>\n      <th>2</th>\n      <td>R04</td>\n      <td>3</td>\n      <td>3</td>\n      <td>BMT</td>\n      <td>Astoria</td>\n      <td>30 Av</td>\n      <td>Q</td>\n      <td>FALSE</td>\n      <td>N W</td>\n      <td>Elevated</td>\n      <td>...</td>\n      <td>6</td>\n      <td>7</td>\n      <td>Queens</td>\n      <td>Astoria</td>\n      <td>Boro Zone</td>\n      <td>7</td>\n      <td>0.107417</td>\n      <td>0.000390</td>\n      <td>Astoria</td>\n      <td>Queens</td>\n    </tr>\n    <tr>\n      <th>3</th>\n      <td>R05</td>\n      <td>4</td>\n      <td>4</td>\n      <td>BMT</td>\n      <td>Astoria</td>\n      <td>Broadway</td>\n      <td>Q</td>\n      <td>FALSE</td>\n      <td>N W</td>\n      <td>Elevated</td>\n      <td>...</td>\n      <td>6</td>\n      <td>7</td>\n      <td>Queens</td>\n      <td>Astoria</td>\n      <td>Boro Zone</td>\n      <td>7</td>\n      <td>0.107417</td>\n      <td>0.000390</td>\n      <td>Astoria</td>\n      <td>Queens</td>\n    </tr>\n    <tr>\n      <th>4</th>\n      <td>R06</td>\n      <td>5</td>\n      <td>5</td>\n      <td>BMT</td>\n      <td>Astoria</td>\n      <td>36 Av</td>\n      <td>Q</td>\n      <td>FALSE</td>\n      <td>N W</td>\n      <td>Elevated</td>\n      <td>...</td>\n      <td>6</td>\n      <td>7</td>\n      <td>Queens</td>\n      <td>Astoria</td>\n      <td>Boro Zone</td>\n      <td>7</td>\n      <td>0.107417</td>\n      <td>0.000390</td>\n      <td>Astoria</td>\n      <td>Queens</td>\n    </tr>\n  </tbody>\n</table>\n<p>5 rows × 33 columns</p>\n</div>"
     },
     "execution_count": 154,
     "metadata": {},
     "output_type": "execute_result"
    }
   ],
   "source": [
    "df_gpd.head()"
   ],
   "metadata": {
    "collapsed": false,
    "ExecuteTime": {
     "end_time": "2024-08-20T10:09:42.248276Z",
     "start_time": "2024-08-20T10:09:42.244456Z"
    }
   },
   "id": "11b4ebe569b8feec",
   "execution_count": 154
  },
  {
   "cell_type": "code",
   "outputs": [
    {
     "data": {
      "text/plain": "gtfs_stop_id                     0\nstation_id                       0\ncomplex_id                       0\ndivision                         0\nline                             0\nstop_name                        0\nborough_left                     0\ncbd                              0\ndaytime_routes                   0\nstructure                        0\ngtfs_latitude                    0\ngtfs_longitude                   0\nnorth_direction_label            0\nsouth_direction_label            0\nada                              0\nada_northbound                   0\nada_southbound                   0\ngeoreference                     0\n:@computed_region_yamh_8v7k      0\n:@computed_region_wbg7_3whc      9\n:@computed_region_kjdx_g34t      3\nada_notes                      488\ngeometry                         0\nindex_right                      0\nLocationID                       0\nBorough                          0\nZone                             0\nservice_zone                     0\nOBJECTID                         0\nShape_Leng                       0\nShape_Area                       0\nzone                             0\nborough_right                    0\ndtype: int64"
     },
     "execution_count": 155,
     "metadata": {},
     "output_type": "execute_result"
    }
   ],
   "source": [
    "df_gpd.isnull().sum()"
   ],
   "metadata": {
    "collapsed": false,
    "ExecuteTime": {
     "end_time": "2024-08-20T10:09:42.259058Z",
     "start_time": "2024-08-20T10:09:42.249481Z"
    }
   },
   "id": "b46863261a554476",
   "execution_count": 155
  },
  {
   "cell_type": "code",
   "outputs": [
    {
     "data": {
      "text/plain": "num_connected_lines\n1    292\n2    154\n3     33\n4     17\nName: count, dtype: int64"
     },
     "execution_count": 156,
     "metadata": {},
     "output_type": "execute_result"
    }
   ],
   "source": [
    "df_gpd[\"num_connected_lines\"] = df_gpd[\"daytime_routes\"].apply(lambda x: len(x.split()))\n",
    "df_gpd[\"num_connected_lines\"].value_counts()"
   ],
   "metadata": {
    "collapsed": false,
    "ExecuteTime": {
     "end_time": "2024-08-20T10:09:42.259477Z",
     "start_time": "2024-08-20T10:09:42.255905Z"
    }
   },
   "id": "116cb312fc187b30",
   "execution_count": 156
  },
  {
   "cell_type": "code",
   "outputs": [],
   "source": [
    "def get_num_connected_lines(lines):\n",
    "    connected_lines = set()\n",
    "    for line in lines:\n",
    "        connected_lines = connected_lines.union(set(line.split()))\n",
    "    return len(connected_lines)"
   ],
   "metadata": {
    "collapsed": false,
    "ExecuteTime": {
     "end_time": "2024-08-20T10:09:42.289367Z",
     "start_time": "2024-08-20T10:09:42.258755Z"
    }
   },
   "id": "aa43b8bc8c01beb8",
   "execution_count": 157
  },
  {
   "cell_type": "code",
   "outputs": [
    {
     "data": {
      "text/plain": "            num_stations  daytime_routes\nLocationID                              \n3                      2               1\n6                      1               1\n7                      5               4\n14                     4               1\n17                     4               2",
      "text/html": "<div>\n<style scoped>\n    .dataframe tbody tr th:only-of-type {\n        vertical-align: middle;\n    }\n\n    .dataframe tbody tr th {\n        vertical-align: top;\n    }\n\n    .dataframe thead th {\n        text-align: right;\n    }\n</style>\n<table border=\"1\" class=\"dataframe\">\n  <thead>\n    <tr style=\"text-align: right;\">\n      <th></th>\n      <th>num_stations</th>\n      <th>daytime_routes</th>\n    </tr>\n    <tr>\n      <th>LocationID</th>\n      <th></th>\n      <th></th>\n    </tr>\n  </thead>\n  <tbody>\n    <tr>\n      <th>3</th>\n      <td>2</td>\n      <td>1</td>\n    </tr>\n    <tr>\n      <th>6</th>\n      <td>1</td>\n      <td>1</td>\n    </tr>\n    <tr>\n      <th>7</th>\n      <td>5</td>\n      <td>4</td>\n    </tr>\n    <tr>\n      <th>14</th>\n      <td>4</td>\n      <td>1</td>\n    </tr>\n    <tr>\n      <th>17</th>\n      <td>4</td>\n      <td>2</td>\n    </tr>\n  </tbody>\n</table>\n</div>"
     },
     "execution_count": 158,
     "metadata": {},
     "output_type": "execute_result"
    }
   ],
   "source": [
    "df_location_aggregated = df_gpd.groupby(\"LocationID\").agg(\n",
    "    {\n",
    "        \"station_id\": \"count\",\n",
    "        \"daytime_routes\": get_num_connected_lines\n",
    "    }\n",
    ")\n",
    "df_location_aggregated = df_location_aggregated.rename(columns={\"station_id\": \"num_stations\"})\n",
    "df_location_aggregated.head()"
   ],
   "metadata": {
    "collapsed": false,
    "ExecuteTime": {
     "end_time": "2024-08-20T10:09:42.293643Z",
     "start_time": "2024-08-20T10:09:42.266167Z"
    }
   },
   "id": "4c6a3e29417d3650",
   "execution_count": 158
  },
  {
   "cell_type": "code",
   "outputs": [],
   "source": [
    "output_relative_dir = '../data/raw/subway_data/'\n",
    "if not os.path.exists(output_relative_dir):\n",
    "    os.makedirs(output_relative_dir)"
   ],
   "metadata": {
    "collapsed": false,
    "ExecuteTime": {
     "end_time": "2024-08-20T10:09:42.315884Z",
     "start_time": "2024-08-20T10:09:42.269235Z"
    }
   },
   "id": "2da575f965c64b6",
   "execution_count": 159
  },
  {
   "cell_type": "code",
   "outputs": [],
   "source": [
    "df_location_aggregated.to_parquet(f\"{output_relative_dir}/data.parquet\")"
   ],
   "metadata": {
    "collapsed": false,
    "ExecuteTime": {
     "end_time": "2024-08-20T10:09:42.316138Z",
     "start_time": "2024-08-20T10:09:42.272647Z"
    }
   },
   "id": "5e22afda24846f6e",
   "execution_count": 160
  }
 ],
 "metadata": {
  "kernelspec": {
   "display_name": "Python 3",
   "language": "python",
   "name": "python3"
  },
  "language_info": {
   "codemirror_mode": {
    "name": "ipython",
    "version": 2
   },
   "file_extension": ".py",
   "mimetype": "text/x-python",
   "name": "python",
   "nbconvert_exporter": "python",
   "pygments_lexer": "ipython2",
   "version": "2.7.6"
  }
 },
 "nbformat": 4,
 "nbformat_minor": 5
}
