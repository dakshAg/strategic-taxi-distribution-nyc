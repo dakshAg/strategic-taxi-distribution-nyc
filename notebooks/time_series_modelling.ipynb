{
 "cells": [
  {
   "cell_type": "code",
   "execution_count": 80,
   "id": "initial_id",
   "metadata": {
    "collapsed": true,
    "ExecuteTime": {
     "end_time": "2024-08-20T23:32:46.402945Z",
     "start_time": "2024-08-20T23:32:46.397993Z"
    }
   },
   "outputs": [],
   "source": [
    "from pyspark.sql import SparkSession\n",
    "from pyspark.sql import SparkSession\n",
    "from pyspark.sql.functions import col, lag, hour\n",
    "from pyspark.sql.window import Window\n",
    "from pyspark.ml.feature import VectorAssembler\n",
    "from pyspark.ml.regression import LinearRegression\n",
    "from pyspark.ml.evaluation import RegressionEvaluator\n",
    "from pyspark.sql.functions import log1p\n",
    "from pyspark.sql.functions import avg"
   ]
  },
  {
   "cell_type": "code",
   "outputs": [],
   "source": [
    "spark = (\n",
    "    SparkSession.builder.appName(\"MAST30034 Tutorial 1\")\n",
    "    .config(\"spark.sql.repl.eagerEval.enabled\", True) \n",
    "    .config(\"spark.sql.parquet.cacheMetadata\", \"true\")\n",
    "    .config(\"spark.sql.session.timeZone\", \"Etc/UTC\")\n",
    "    .config(\"spark.driver.memory\", \"15g\")\n",
    "    .config(\"spark.sql.parquet.enableVectorizedReader\",\"false\")\n",
    "    .getOrCreate()\n",
    ")"
   ],
   "metadata": {
    "collapsed": false,
    "ExecuteTime": {
     "end_time": "2024-08-20T23:32:46.418643Z",
     "start_time": "2024-08-20T23:32:46.406937Z"
    }
   },
   "id": "cb9d8d93dc2e58f9",
   "execution_count": 81
  },
  {
   "cell_type": "code",
   "outputs": [],
   "source": [
    "df = spark.read.parquet('../data/combined_data/')"
   ],
   "metadata": {
    "collapsed": false,
    "ExecuteTime": {
     "end_time": "2024-08-20T23:32:46.560095Z",
     "start_time": "2024-08-20T23:32:46.420672Z"
    }
   },
   "id": "637323913ada4397",
   "execution_count": 82
  },
  {
   "cell_type": "markdown",
   "source": [],
   "metadata": {
    "collapsed": false
   },
   "id": "4a6371ce51c0a13a"
  },
  {
   "cell_type": "code",
   "outputs": [
    {
     "name": "stdout",
     "output_type": "stream",
     "text": [
      "+------------+-------------------+------------------+------------------+------------+------------------+-------------------+---------------------+------------------+------------------+\n",
      "|PULocationID|   hourly_timestamp|pickup_hour_of_day|pickup_day_of_week|pickup_month|         num_trips|pickup_num_stations|pickup_daytime_routes|   num_trips_lag_1|   num_trips_lag_2|\n",
      "+------------+-------------------+------------------+------------------+------------+------------------+-------------------+---------------------+------------------+------------------+\n",
      "|           7|2022-01-01 00:00:00|                 0|                 7|           1| 5.921578419643816|                  5|                    4|              NULL|              NULL|\n",
      "|           7|2022-01-01 01:00:00|                 1|                 7|           1| 6.240275845170769|                  5|                    4| 5.921578419643816|              NULL|\n",
      "|           7|2022-01-01 02:00:00|                 2|                 7|           1| 6.293419278846481|                  5|                    4| 6.240275845170769| 5.921578419643816|\n",
      "|           7|2022-01-01 03:00:00|                 3|                 7|           1| 6.063785208687608|                  5|                    4| 6.293419278846481| 6.240275845170769|\n",
      "|           7|2022-01-01 04:00:00|                 4|                 7|           1| 5.983936280687191|                  5|                    4| 6.063785208687608| 6.293419278846481|\n",
      "|           7|2022-01-01 05:00:00|                 5|                 7|           1| 5.459585514144159|                  5|                    4| 5.983936280687191| 6.063785208687608|\n",
      "|           7|2022-01-01 06:00:00|                 6|                 7|           1|  5.19295685089021|                  5|                    4| 5.459585514144159| 5.983936280687191|\n",
      "|           7|2022-01-01 07:00:00|                 7|                 7|           1|5.0238805208462765|                  5|                    4|  5.19295685089021| 5.459585514144159|\n",
      "|           7|2022-01-01 08:00:00|                 8|                 7|           1| 5.056245805348308|                  5|                    4|5.0238805208462765|  5.19295685089021|\n",
      "|           7|2022-01-01 09:00:00|                 9|                 7|           1| 4.912654885736052|                  5|                    4| 5.056245805348308|5.0238805208462765|\n",
      "+------------+-------------------+------------------+------------------+------------+------------------+-------------------+---------------------+------------------+------------------+\n"
     ]
    }
   ],
   "source": [
    "window_spec = Window.orderBy(\"hourly_timestamp\").partitionBy(\"PULocationID\")\n",
    "df = df.withColumn(\"num_trips\", log1p(\"num_trips\"))\n",
    "df = df.withColumn(\"num_trips_lag_1\", lag(\"num_trips\", 1).over(window_spec))\n",
    "df = df.withColumn(\"num_trips_lag_2\", lag(\"num_trips\", 2).over(window_spec))\n",
    "df.show(10)"
   ],
   "metadata": {
    "collapsed": false,
    "ExecuteTime": {
     "end_time": "2024-08-20T23:32:47.258316Z",
     "start_time": "2024-08-20T23:32:46.562671Z"
    }
   },
   "id": "ffef226d7b48b4e8",
   "execution_count": 83
  },
  {
   "cell_type": "code",
   "outputs": [],
   "source": [
    "# drop rows with null values\n",
    "df = df.dropna()"
   ],
   "metadata": {
    "collapsed": false,
    "ExecuteTime": {
     "end_time": "2024-08-20T23:32:47.269444Z",
     "start_time": "2024-08-20T23:32:47.259812Z"
    }
   },
   "id": "ed5abf7ed7c1a39a",
   "execution_count": 84
  },
  {
   "cell_type": "code",
   "outputs": [],
   "source": [
    "df_location_138 = df.filter(col(\"PULocationID\") == 7)\n",
    "hourly_avg_df = df_location_138.groupBy(\"pickup_hour_of_day\").agg(avg(\"num_trips\").alias(\"avg_hourly_demand\"))\n",
    "df_location_138 = df_location_138.join(hourly_avg_df, on=\"pickup_hour_of_day\", how=\"left\")"
   ],
   "metadata": {
    "collapsed": false,
    "ExecuteTime": {
     "end_time": "2024-08-20T23:32:47.336231Z",
     "start_time": "2024-08-20T23:32:47.269183Z"
    }
   },
   "id": "b0281c6750601ffb",
   "execution_count": 85
  },
  {
   "cell_type": "code",
   "outputs": [],
   "source": [
    "feature_cols = [\"pickup_day_of_week\", \"num_trips_lag_1\", \"num_trips_lag_2\", 'avg_hourly_demand']\n",
    "assembler = VectorAssembler(inputCols=feature_cols, outputCol=\"features\")\n",
    "data_df = assembler.transform(df_location_138)\n",
    "data_df = data_df.withColumnRenamed(\"num_trips\", \"label\")"
   ],
   "metadata": {
    "collapsed": false,
    "ExecuteTime": {
     "end_time": "2024-08-20T23:32:47.410251Z",
     "start_time": "2024-08-20T23:32:47.293706Z"
    }
   },
   "id": "301440ed36145b9b",
   "execution_count": 86
  },
  {
   "cell_type": "code",
   "outputs": [
    {
     "name": "stderr",
     "output_type": "stream",
     "text": [
      "24/08/21 09:32:48 WARN Instrumentation: [13656ae0] regParam is zero, which might cause numerical instability and overfitting.\n"
     ]
    },
    {
     "name": "stdout",
     "output_type": "stream",
     "text": [
      "Root Mean Squared Error (RMSE) on test data: 0.2739300539336457\n",
      "+--------------------+------------------+------------------+\n",
      "|            features|             label|        prediction|\n",
      "+--------------------+------------------+------------------+\n",
      "|[3.0,4.6821312271...| 4.465908118654584| 4.694485874147117|\n",
      "|[7.0,5.6664266881...| 5.641907070938114|5.6085650734971475|\n",
      "|[2.0,5.0172798368...| 4.941642422609304|4.9848500800784326|\n",
      "|[7.0,5.9162020626...|  5.84354441703136| 5.830129887509408|\n",
      "|[6.0,5.1298987149...| 5.153291594497779|5.0811802764988805|\n",
      "|[3.0,4.8675344504...| 4.418840607796598|   4.8813030093079|\n",
      "|[2.0,5.2678581590...| 5.187385805840755| 5.117397516021878|\n",
      "|[1.0,6.1290502100...|6.1903154058531475|   5.8500955622472|\n",
      "|[4.0,5.0998664278...| 4.955827057601261| 5.024327205177554|\n",
      "|[5.0,5.3181199938...| 4.983606621708336| 5.261399064255764|\n",
      "+--------------------+------------------+------------------+\n",
      "only showing top 10 rows\n"
     ]
    }
   ],
   "source": [
    "from pyspark.sql.functions import expm1\n",
    "\n",
    "train_df, test_df = data_df.randomSplit([0.8, 0.2], seed=42)\n",
    "\n",
    "# Initialize and train the Linear Regression model\n",
    "lr = LinearRegression(featuresCol=\"features\", labelCol=\"label\")\n",
    "lr_model = lr.fit(train_df)\n",
    "\n",
    "# Make predictions on the test set\n",
    "log_predictions = lr_model.transform(test_df)\n",
    "# log_predictions = log_predictions.withColumn(\"prediction\", expm1(col(\"prediction\")))\n",
    "\n",
    "# Evaluate the model\n",
    "evaluator = RegressionEvaluator(labelCol=\"label\", predictionCol=\"prediction\", metricName=\"rmse\")\n",
    "rmse = evaluator.evaluate(log_predictions)\n",
    "print(f\"Root Mean Squared Error (RMSE) on test data: {rmse}\")\n",
    "\n",
    "# Show sample predictions\n",
    "log_predictions.select(\"features\", \"label\", \"prediction\").show(10)"
   ],
   "metadata": {
    "collapsed": false,
    "ExecuteTime": {
     "end_time": "2024-08-20T23:32:49.858492Z",
     "start_time": "2024-08-20T23:32:47.341664Z"
    }
   },
   "id": "cf5d3414896e6739",
   "execution_count": 87
  },
  {
   "cell_type": "code",
   "outputs": [
    {
     "name": "stdout",
     "output_type": "stream",
     "text": [
      "Root Mean Squared Error (RMSE) for 0R model: 0.24756905671615428\n"
     ]
    }
   ],
   "source": [
    "from pyspark.sql.functions import col\n",
    "\n",
    "# Create the 0R (persistence) model predictions by shifting the demand column\n",
    "zero_r_df = df_location_138.withColumn(\"zero_r_prediction\", col(\"num_trips_lag_1\"))\n",
    "\n",
    "# Drop the first hour since it will have a null previous hour demand\n",
    "zero_r_df = zero_r_df.dropna()\n",
    "\n",
    "# Select the actual and 0R predicted values\n",
    "zero_r_predictions = zero_r_df.select(col(\"num_trips\").alias(\"label\"), col(\"zero_r_prediction\").alias(\"prediction\").astype(\"double\"))\n",
    "\n",
    "# Evaluate the 0R model using RMSE\n",
    "zero_r_rmse = evaluator.evaluate(zero_r_predictions)\n",
    "print(f\"Root Mean Squared Error (RMSE) for 0R model: {zero_r_rmse}\")"
   ],
   "metadata": {
    "collapsed": false,
    "ExecuteTime": {
     "end_time": "2024-08-20T23:32:50.278908Z",
     "start_time": "2024-08-20T23:32:49.859699Z"
    }
   },
   "id": "c2d356be028e5f3f",
   "execution_count": 88
  },
  {
   "cell_type": "code",
   "outputs": [],
   "source": [],
   "metadata": {
    "collapsed": false,
    "ExecuteTime": {
     "end_time": "2024-08-20T23:32:50.279372Z",
     "start_time": "2024-08-20T23:32:50.275914Z"
    }
   },
   "id": "e90e956d513e8de3",
   "execution_count": 88
  }
 ],
 "metadata": {
  "kernelspec": {
   "display_name": "Python 3",
   "language": "python",
   "name": "python3"
  },
  "language_info": {
   "codemirror_mode": {
    "name": "ipython",
    "version": 2
   },
   "file_extension": ".py",
   "mimetype": "text/x-python",
   "name": "python",
   "nbconvert_exporter": "python",
   "pygments_lexer": "ipython2",
   "version": "2.7.6"
  }
 },
 "nbformat": 4,
 "nbformat_minor": 5
}
