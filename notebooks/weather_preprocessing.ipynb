{
 "cells": [
  {
   "cell_type": "code",
   "outputs": [],
   "source": [
    "from pyspark.sql import SparkSession\n",
    "from pyspark.sql.functions import unix_timestamp\n",
    "from pyspark.sql.functions import hour, dayofweek, month, date_trunc, col, split\n",
    "import os"
   ],
   "metadata": {
    "collapsed": false,
    "ExecuteTime": {
     "end_time": "2024-08-21T11:41:53.770302Z",
     "start_time": "2024-08-21T11:41:53.676414Z"
    }
   },
   "id": "829ef4d68052eec2",
   "execution_count": 1
  },
  {
   "cell_type": "code",
   "outputs": [
    {
     "name": "stderr",
     "output_type": "stream",
     "text": [
      "24/08/21 21:41:55 WARN Utils: Your hostname, coldbrew.local resolves to a loopback address: 127.0.0.1; using 172.16.119.2 instead (on interface en0)\n",
      "24/08/21 21:41:55 WARN Utils: Set SPARK_LOCAL_IP if you need to bind to another address\n",
      "Setting default log level to \"WARN\".\n",
      "To adjust logging level use sc.setLogLevel(newLevel). For SparkR, use setLogLevel(newLevel).\n",
      "24/08/21 21:41:55 WARN NativeCodeLoader: Unable to load native-hadoop library for your platform... using builtin-java classes where applicable\n"
     ]
    }
   ],
   "source": [
    "# Create a spark session (which will run spark jobs)\n",
    "spark = (\n",
    "    SparkSession.builder.appName(\"MAST30034 Tutorial 1\")\n",
    "    .config(\"spark.sql.repl.eagerEval.enabled\", True)\n",
    "    .config(\"spark.sql.parquet.cacheMetadata\", \"true\")\n",
    "    .config(\"spark.sql.session.timeZone\", \"Etc/UTC\")\n",
    "    .config(\"spark.driver.memory\", \"15g\")\n",
    "    .getOrCreate()\n",
    ")"
   ],
   "metadata": {
    "collapsed": false,
    "ExecuteTime": {
     "end_time": "2024-08-21T11:41:56.627971Z",
     "start_time": "2024-08-21T11:41:53.846480Z"
    }
   },
   "id": "aeeae81a8fa38a30",
   "execution_count": 2
  },
  {
   "cell_type": "code",
   "outputs": [
    {
     "name": "stderr",
     "output_type": "stream",
     "text": [
      "                                                                                \r"
     ]
    }
   ],
   "source": [
    "df = spark.read.parquet(\"../data/landing/weather.parquet\")"
   ],
   "metadata": {
    "collapsed": false,
    "ExecuteTime": {
     "end_time": "2024-08-21T11:41:58.740077Z",
     "start_time": "2024-08-21T11:41:56.628637Z"
    }
   },
   "id": "b281de11785024e0",
   "execution_count": 3
  },
  {
   "cell_type": "code",
   "execution_count": 4,
   "id": "initial_id",
   "metadata": {
    "collapsed": true,
    "ExecuteTime": {
     "end_time": "2024-08-21T11:41:59.759746Z",
     "start_time": "2024-08-21T11:41:58.741156Z"
    }
   },
   "outputs": [
    {
     "data": {
      "text/plain": "Row(DATE='2022-01-01T00:15:00', WND='240,5,N,0026,5', VIS='011265,5,N,5', TMP='+0106,5', DEW='+0078,5')"
     },
     "execution_count": 4,
     "metadata": {},
     "output_type": "execute_result"
    }
   ],
   "source": [
    "df = df[['DATE', 'WND', 'VIS', 'TMP', 'DEW']]\n",
    "df.head()"
   ]
  },
  {
   "cell_type": "code",
   "outputs": [],
   "source": [
    "df = df.withColumn(\"DATE\", date_trunc(\"hour\", col(\"DATE\")))\n",
    "df = df.withColumn(\"WND\", split(col(\"WND\"), \",\").getItem(0).cast(\"int\"))\n",
    "df = df.withColumn(\"VIS\", split(col(\"VIS\"), \",\").getItem(0).cast(\"int\"))\n",
    "df = df.withColumn(\"TMP\", split(col(\"TMP\"), \",\").getItem(0).cast(\"int\"))\n",
    "df = df.withColumn(\"DEW\", split(col(\"DEW\"), \",\").getItem(0).cast(\"int\"))"
   ],
   "metadata": {
    "collapsed": false,
    "ExecuteTime": {
     "end_time": "2024-08-21T11:41:59.831088Z",
     "start_time": "2024-08-21T11:41:59.757106Z"
    }
   },
   "id": "4ccec82916d50743",
   "execution_count": 5
  },
  {
   "cell_type": "code",
   "outputs": [
    {
     "data": {
      "text/plain": "[Row(DATE=datetime.datetime(2022, 1, 1, 11, 0), WND=240, VIS=11265, TMP=106, DEW=78),\n Row(DATE=datetime.datetime(2022, 1, 1, 11, 0), WND=190, VIS=11265, TMP=106, DEW=78),\n Row(DATE=datetime.datetime(2022, 1, 1, 12, 0), WND=250, VIS=9656, TMP=110, DEW=80),\n Row(DATE=datetime.datetime(2022, 1, 1, 12, 0), WND=260, VIS=9656, TMP=106, DEW=78),\n Row(DATE=datetime.datetime(2022, 1, 1, 13, 0), WND=999, VIS=12875, TMP=111, DEW=78),\n Row(DATE=datetime.datetime(2022, 1, 1, 14, 0), WND=999, VIS=11265, TMP=106, DEW=83),\n Row(DATE=datetime.datetime(2022, 1, 1, 15, 0), WND=999, VIS=12875, TMP=110, DEW=80),\n Row(DATE=datetime.datetime(2022, 1, 1, 15, 0), WND=999, VIS=12875, TMP=106, DEW=83),\n Row(DATE=datetime.datetime(2022, 1, 1, 15, 0), WND=999, VIS=999999, TMP=9999, DEW=9999),\n Row(DATE=datetime.datetime(2022, 1, 1, 15, 0), WND=999, VIS=999999, TMP=9999, DEW=9999)]"
     },
     "execution_count": 6,
     "metadata": {},
     "output_type": "execute_result"
    }
   ],
   "source": [
    "df.head(10)"
   ],
   "metadata": {
    "collapsed": false,
    "ExecuteTime": {
     "end_time": "2024-08-21T11:42:00.017854Z",
     "start_time": "2024-08-21T11:41:59.831605Z"
    }
   },
   "id": "8713909d23975483",
   "execution_count": 6
  },
  {
   "cell_type": "code",
   "outputs": [],
   "source": [],
   "metadata": {
    "collapsed": false
   },
   "id": "b8299bad45e15543"
  },
  {
   "cell_type": "code",
   "outputs": [],
   "source": [
    "output_relative_dir = \"../data/raw/\"\n",
    "if not os.path.exists(output_relative_dir):\n",
    "    os.makedirs(output_relative_dir)"
   ],
   "metadata": {
    "collapsed": false,
    "ExecuteTime": {
     "end_time": "2024-08-21T11:42:00.021021Z",
     "start_time": "2024-08-21T11:42:00.018306Z"
    }
   },
   "id": "330c5fc88312a673",
   "execution_count": 7
  },
  {
   "cell_type": "code",
   "outputs": [],
   "source": [
    "#df.to_parquet(f\"{output_relative_dir}weather.parquet\")"
   ],
   "metadata": {
    "collapsed": false,
    "ExecuteTime": {
     "end_time": "2024-08-21T11:42:00.024418Z",
     "start_time": "2024-08-21T11:42:00.022371Z"
    }
   },
   "id": "7a1783973d97e017",
   "execution_count": 8
  }
 ],
 "metadata": {
  "kernelspec": {
   "display_name": "Python 3",
   "language": "python",
   "name": "python3"
  },
  "language_info": {
   "codemirror_mode": {
    "name": "ipython",
    "version": 2
   },
   "file_extension": ".py",
   "mimetype": "text/x-python",
   "name": "python",
   "nbconvert_exporter": "python",
   "pygments_lexer": "ipython2",
   "version": "2.7.6"
  }
 },
 "nbformat": 4,
 "nbformat_minor": 5
}
