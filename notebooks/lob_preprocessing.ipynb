{
 "cells": [
  {
   "cell_type": "code",
   "execution_count": 48,
   "id": "initial_id",
   "metadata": {
    "collapsed": true,
    "ExecuteTime": {
     "end_time": "2024-08-21T01:37:32.034726Z",
     "start_time": "2024-08-21T01:37:32.003852Z"
    }
   },
   "outputs": [],
   "source": [
    "import geopandas as gpd\n",
    "import pandas as pd\n",
    "import os"
   ]
  },
  {
   "cell_type": "code",
   "outputs": [],
   "source": [
    "df_pd = pd.read_parquet('../data/landing/lob_data/')"
   ],
   "metadata": {
    "collapsed": false,
    "ExecuteTime": {
     "end_time": "2024-08-21T01:37:44.307017Z",
     "start_time": "2024-08-21T01:37:32.007856Z"
    }
   },
   "id": "3ded4ef930d8fdca",
   "execution_count": 49
  },
  {
   "cell_type": "code",
   "outputs": [
    {
     "data": {
      "text/plain": "license_nbr                      object\nlicense_type                     object\nlic_expir_dd                     object\nlicense_status                   object\nlicense_creation_date            object\nindustry                         object\nbusiness_name                    object\nbusiness_name_2                  object\naddress_building                 object\naddress_street_name              object\naddress_city                     object\naddress_state                    object\naddress_zip                      object\ncontact_phone                    object\naddress_borough                  object\ndetail_2                         object\ndetail                           object\ncommunity_board                  object\ncouncil_district                 object\nbin                              object\nbbl                              object\nnta                              object\ncensus_tract                     object\nlongitude                        object\nlatitude                         object\nlocation                         object\n:@computed_region_efsh_h5xi      object\n:@computed_region_f5dn_yrer      object\n:@computed_region_yeji_bk3q      object\n:@computed_region_92fq_4b7q      object\n:@computed_region_sbqj_enih      object\naddress_street_name_2            object\ngeometry                       geometry\ndtype: object"
     },
     "execution_count": 50,
     "metadata": {},
     "output_type": "execute_result"
    }
   ],
   "source": [
    "df_gpd = gpd.GeoDataFrame(df_pd, geometry=gpd.points_from_xy(df_pd[\"longitude\"], df_pd[\"latitude\"]))\n",
    "df_gpd.crs = \"+proj=longlat +ellps=WGS84 +datum=WGS84 +no_defs\"\n",
    "df_gpd.dtypes"
   ],
   "metadata": {
    "collapsed": false,
    "ExecuteTime": {
     "end_time": "2024-08-21T01:37:51.024981Z",
     "start_time": "2024-08-21T01:37:44.308378Z"
    }
   },
   "id": "17ac5ac06f9be041",
   "execution_count": 50
  },
  {
   "cell_type": "code",
   "outputs": [],
   "source": [
    "sf = gpd.read_file(\"../data/taxi_zones/taxi_zones.shp\")\n",
    "zones = pd.read_csv(\"../data/taxi_zones/taxi+_zone_lookup.csv\")\n",
    "sf['geometry'] = sf['geometry'].to_crs(\"+proj=longlat +ellps=WGS84 +datum=WGS84 +no_defs\")\n",
    "gdf = gpd.GeoDataFrame(\n",
    "    pd.merge(zones, sf, on='LocationID', how='inner')\n",
    ")"
   ],
   "metadata": {
    "collapsed": false,
    "ExecuteTime": {
     "end_time": "2024-08-21T01:37:51.305048Z",
     "start_time": "2024-08-21T01:37:51.076721Z"
    }
   },
   "id": "3056bd4fdfd2f289",
   "execution_count": 51
  },
  {
   "cell_type": "code",
   "outputs": [],
   "source": [
    "df_gpd = gpd.sjoin(df_gpd, gdf)"
   ],
   "metadata": {
    "collapsed": false,
    "ExecuteTime": {
     "end_time": "2024-08-21T01:38:01.110172Z",
     "start_time": "2024-08-21T01:37:51.176643Z"
    }
   },
   "id": "45d5ce3f0184b94e",
   "execution_count": 52
  },
  {
   "cell_type": "code",
   "outputs": [
    {
     "data": {
      "text/plain": "    license_nbr license_type             lic_expir_dd license_status  \\\n18  0365714-DCA     Business  2005-03-31T00:00:00.000       Inactive   \n19  1076184-DCA     Business  2004-12-31T00:00:00.000       Inactive   \n23  2061591-DCA     Business  2021-12-31T00:00:00.000       Inactive   \n24  2009334-DCA     Business  2020-05-23T00:00:00.000       Inactive   \n26  2038840-DCA     Business  2021-07-31T00:00:00.000       Inactive   \n\n      license_creation_date                     industry  \\\n18  1997-04-08T00:00:00.000                       Garage   \n19  2001-04-02T00:00:00.000        Tobacco Retail Dealer   \n23  2017-11-25T00:00:00.000                    Laundries   \n24  2014-06-09T00:00:00.000                Sidewalk Cafe   \n26  2016-06-09T00:00:00.000  Secondhand Dealer - General   \n\n                           business_name       business_name_2  \\\n18  THE GARDENS 75TH STREET OWNERS CORP.                  None   \n19                 JALIL, MOHAMMED ABDUL  SUNRISE DELICATESSEN   \n23              SING WAH LAUNDROMAT INC.                  None   \n24              DCB DELANCEY CORPORATION              SEL ROSE   \n26           MD BROADWAY ELECTRONICS LLC                  None   \n\n   address_building address_street_name  ... index_right LocationID  \\\n18             3538             75TH ST  ...         128        129   \n19             2017          CHURCH AVE  ...          88         89   \n23             6914             4TH AVE  ...          13         14   \n24                1         DELANCEY ST  ...         147        148   \n26             1888          JEROME AVE  ...         168        169   \n\n      Borough                  Zone service_zone OBJECTID Shape_Leng  \\\n18     Queens       Jackson Heights    Boro Zone      129   0.093273   \n19   Brooklyn  Flatbush/Ditmas Park    Boro Zone       89   0.122795   \n23   Brooklyn             Bay Ridge    Boro Zone       14   0.175214   \n24  Manhattan       Lower East Side  Yellow Zone      148   0.039131   \n26      Bronx            Mount Hope    Boro Zone      169   0.060105   \n\n   Shape_Area                  zone    borough  \n18   0.000474       Jackson Heights     Queens  \n19   0.000448  Flatbush/Ditmas Park   Brooklyn  \n23   0.001382             Bay Ridge   Brooklyn  \n24   0.000070       Lower East Side  Manhattan  \n26   0.000146            Mount Hope      Bronx  \n\n[5 rows x 43 columns]",
      "text/html": "<div>\n<style scoped>\n    .dataframe tbody tr th:only-of-type {\n        vertical-align: middle;\n    }\n\n    .dataframe tbody tr th {\n        vertical-align: top;\n    }\n\n    .dataframe thead th {\n        text-align: right;\n    }\n</style>\n<table border=\"1\" class=\"dataframe\">\n  <thead>\n    <tr style=\"text-align: right;\">\n      <th></th>\n      <th>license_nbr</th>\n      <th>license_type</th>\n      <th>lic_expir_dd</th>\n      <th>license_status</th>\n      <th>license_creation_date</th>\n      <th>industry</th>\n      <th>business_name</th>\n      <th>business_name_2</th>\n      <th>address_building</th>\n      <th>address_street_name</th>\n      <th>...</th>\n      <th>index_right</th>\n      <th>LocationID</th>\n      <th>Borough</th>\n      <th>Zone</th>\n      <th>service_zone</th>\n      <th>OBJECTID</th>\n      <th>Shape_Leng</th>\n      <th>Shape_Area</th>\n      <th>zone</th>\n      <th>borough</th>\n    </tr>\n  </thead>\n  <tbody>\n    <tr>\n      <th>18</th>\n      <td>0365714-DCA</td>\n      <td>Business</td>\n      <td>2005-03-31T00:00:00.000</td>\n      <td>Inactive</td>\n      <td>1997-04-08T00:00:00.000</td>\n      <td>Garage</td>\n      <td>THE GARDENS 75TH STREET OWNERS CORP.</td>\n      <td>None</td>\n      <td>3538</td>\n      <td>75TH ST</td>\n      <td>...</td>\n      <td>128</td>\n      <td>129</td>\n      <td>Queens</td>\n      <td>Jackson Heights</td>\n      <td>Boro Zone</td>\n      <td>129</td>\n      <td>0.093273</td>\n      <td>0.000474</td>\n      <td>Jackson Heights</td>\n      <td>Queens</td>\n    </tr>\n    <tr>\n      <th>19</th>\n      <td>1076184-DCA</td>\n      <td>Business</td>\n      <td>2004-12-31T00:00:00.000</td>\n      <td>Inactive</td>\n      <td>2001-04-02T00:00:00.000</td>\n      <td>Tobacco Retail Dealer</td>\n      <td>JALIL, MOHAMMED ABDUL</td>\n      <td>SUNRISE DELICATESSEN</td>\n      <td>2017</td>\n      <td>CHURCH AVE</td>\n      <td>...</td>\n      <td>88</td>\n      <td>89</td>\n      <td>Brooklyn</td>\n      <td>Flatbush/Ditmas Park</td>\n      <td>Boro Zone</td>\n      <td>89</td>\n      <td>0.122795</td>\n      <td>0.000448</td>\n      <td>Flatbush/Ditmas Park</td>\n      <td>Brooklyn</td>\n    </tr>\n    <tr>\n      <th>23</th>\n      <td>2061591-DCA</td>\n      <td>Business</td>\n      <td>2021-12-31T00:00:00.000</td>\n      <td>Inactive</td>\n      <td>2017-11-25T00:00:00.000</td>\n      <td>Laundries</td>\n      <td>SING WAH LAUNDROMAT INC.</td>\n      <td>None</td>\n      <td>6914</td>\n      <td>4TH AVE</td>\n      <td>...</td>\n      <td>13</td>\n      <td>14</td>\n      <td>Brooklyn</td>\n      <td>Bay Ridge</td>\n      <td>Boro Zone</td>\n      <td>14</td>\n      <td>0.175214</td>\n      <td>0.001382</td>\n      <td>Bay Ridge</td>\n      <td>Brooklyn</td>\n    </tr>\n    <tr>\n      <th>24</th>\n      <td>2009334-DCA</td>\n      <td>Business</td>\n      <td>2020-05-23T00:00:00.000</td>\n      <td>Inactive</td>\n      <td>2014-06-09T00:00:00.000</td>\n      <td>Sidewalk Cafe</td>\n      <td>DCB DELANCEY CORPORATION</td>\n      <td>SEL ROSE</td>\n      <td>1</td>\n      <td>DELANCEY ST</td>\n      <td>...</td>\n      <td>147</td>\n      <td>148</td>\n      <td>Manhattan</td>\n      <td>Lower East Side</td>\n      <td>Yellow Zone</td>\n      <td>148</td>\n      <td>0.039131</td>\n      <td>0.000070</td>\n      <td>Lower East Side</td>\n      <td>Manhattan</td>\n    </tr>\n    <tr>\n      <th>26</th>\n      <td>2038840-DCA</td>\n      <td>Business</td>\n      <td>2021-07-31T00:00:00.000</td>\n      <td>Inactive</td>\n      <td>2016-06-09T00:00:00.000</td>\n      <td>Secondhand Dealer - General</td>\n      <td>MD BROADWAY ELECTRONICS LLC</td>\n      <td>None</td>\n      <td>1888</td>\n      <td>JEROME AVE</td>\n      <td>...</td>\n      <td>168</td>\n      <td>169</td>\n      <td>Bronx</td>\n      <td>Mount Hope</td>\n      <td>Boro Zone</td>\n      <td>169</td>\n      <td>0.060105</td>\n      <td>0.000146</td>\n      <td>Mount Hope</td>\n      <td>Bronx</td>\n    </tr>\n  </tbody>\n</table>\n<p>5 rows × 43 columns</p>\n</div>"
     },
     "execution_count": 53,
     "metadata": {},
     "output_type": "execute_result"
    }
   ],
   "source": [
    "df_gpd.head()"
   ],
   "metadata": {
    "collapsed": false,
    "ExecuteTime": {
     "end_time": "2024-08-21T01:38:01.143814Z",
     "start_time": "2024-08-21T01:38:01.114329Z"
    }
   },
   "id": "11b4ebe569b8feec",
   "execution_count": 53
  },
  {
   "cell_type": "code",
   "outputs": [
    {
     "data": {
      "text/plain": "license_nbr                          0\nlicense_type                         0\nlic_expir_dd                     40821\nlicense_status                       0\nlicense_creation_date                0\nindustry                             0\nbusiness_name                       49\nbusiness_name_2                1180089\naddress_building                  9405\naddress_street_name                  0\naddress_city                       129\naddress_state                     2083\naddress_zip                        174\ncontact_phone                    62454\naddress_borough                     12\ndetail_2                       1359390\ndetail                            2134\ncommunity_board                   7665\ncouncil_district                  3048\nbin                              25512\nbbl                              25541\nnta                             309538\ncensus_tract                    309538\nlongitude                            0\nlatitude                             0\nlocation                             0\n:@computed_region_efsh_h5xi       1065\n:@computed_region_f5dn_yrer          0\n:@computed_region_yeji_bk3q          0\n:@computed_region_92fq_4b7q          0\n:@computed_region_sbqj_enih          0\naddress_street_name_2          1612628\ngeometry                             0\nindex_right                          0\nLocationID                           0\nBorough                              0\nZone                                 0\nservice_zone                         0\nOBJECTID                             0\nShape_Leng                           0\nShape_Area                           0\nzone                                 0\nborough                              0\ndtype: int64"
     },
     "execution_count": 54,
     "metadata": {},
     "output_type": "execute_result"
    }
   ],
   "source": [
    "df_gpd.isnull().sum()"
   ],
   "metadata": {
    "collapsed": false,
    "ExecuteTime": {
     "end_time": "2024-08-21T01:38:03.048859Z",
     "start_time": "2024-08-21T01:38:02.454527Z"
    }
   },
   "id": "b46863261a554476",
   "execution_count": 54
  },
  {
   "cell_type": "code",
   "outputs": [
    {
     "data": {
      "text/plain": "industry\nTobacco Retail Dealer             382939\nHome Improvement Contractor       317109\nSecondhand Dealer - General       162588\nElectronics Store                 145348\nStoop Line Stand                   95828\nElectronic & Appliance Service     67726\nLaundry                            67326\nLaundries                          45924\nLaundry Jobber                     42711\nSidewalk Cafe                      37261\nGarage                             34763\nElectronic Cigarette Dealer        31545\nSecondhand Dealer - Auto           28299\nDealer In Products                 26566\nParking Lot                        16883\nTow Truck Company                  15181\nEmployment Agency                  13750\nAmusement Device Temporary         11104\nPawnbroker                         10472\nSpecial Sale                       10174\nAmusement Device Portable           9729\nPedicab Business                    7868\nDebt Collection Agency              7478\nNewsstand                           6408\nCabaret                             5882\nAmusement Device Permanent          4352\nGarage and Parking Lot              3573\nBingo Game Operator                 2933\nGames of Chance                     2905\nProcess Serving Agency              2787\nCar Wash                            2263\nCatering Establishment              2010\nScrap Metal Processor               1956\nPool or Billiard Room               1743\nStorage Warehouse                   1648\nTow Truck Exemption                 1570\nGaming Cafe                         1391\nHorse Drawn Cab Owner               1203\nAuction House Premises               964\nAmusement Arcade                     860\nScale Dealer Repairer                648\nSightseeing Bus                      571\nGeneral Vendor Distributor           251\nTicket Seller Business               238\nBooting Company                      207\nCommercial Lessor                    184\nConstruction Labor Provider          176\nThird Party Food Delivery            138\nSecondhand Dealer - Firearms         112\nName: count, dtype: int64"
     },
     "execution_count": 55,
     "metadata": {},
     "output_type": "execute_result"
    }
   ],
   "source": [
    "df_gpd.value_counts(\"industry\")"
   ],
   "metadata": {
    "collapsed": false,
    "ExecuteTime": {
     "end_time": "2024-08-21T01:38:03.345733Z",
     "start_time": "2024-08-21T01:38:03.065994Z"
    }
   },
   "id": "b25b97e525a485eb",
   "execution_count": 55
  },
  {
   "cell_type": "code",
   "outputs": [
    {
     "data": {
      "text/plain": "            count\nLocationID       \n3            4996\n4            3132\n5            1753\n6            2792\n7           21999\n...           ...\n259          6456\n260          9813\n261          2190\n262          4155\n263          8931\n\n[252 rows x 1 columns]",
      "text/html": "<div>\n<style scoped>\n    .dataframe tbody tr th:only-of-type {\n        vertical-align: middle;\n    }\n\n    .dataframe tbody tr th {\n        vertical-align: top;\n    }\n\n    .dataframe thead th {\n        text-align: right;\n    }\n</style>\n<table border=\"1\" class=\"dataframe\">\n  <thead>\n    <tr style=\"text-align: right;\">\n      <th></th>\n      <th>count</th>\n    </tr>\n    <tr>\n      <th>LocationID</th>\n      <th></th>\n    </tr>\n  </thead>\n  <tbody>\n    <tr>\n      <th>3</th>\n      <td>4996</td>\n    </tr>\n    <tr>\n      <th>4</th>\n      <td>3132</td>\n    </tr>\n    <tr>\n      <th>5</th>\n      <td>1753</td>\n    </tr>\n    <tr>\n      <th>6</th>\n      <td>2792</td>\n    </tr>\n    <tr>\n      <th>7</th>\n      <td>21999</td>\n    </tr>\n    <tr>\n      <th>...</th>\n      <td>...</td>\n    </tr>\n    <tr>\n      <th>259</th>\n      <td>6456</td>\n    </tr>\n    <tr>\n      <th>260</th>\n      <td>9813</td>\n    </tr>\n    <tr>\n      <th>261</th>\n      <td>2190</td>\n    </tr>\n    <tr>\n      <th>262</th>\n      <td>4155</td>\n    </tr>\n    <tr>\n      <th>263</th>\n      <td>8931</td>\n    </tr>\n  </tbody>\n</table>\n<p>252 rows × 1 columns</p>\n</div>"
     },
     "execution_count": 56,
     "metadata": {},
     "output_type": "execute_result"
    }
   ],
   "source": [
    "df_location_aggregated = df_gpd.groupby(\"LocationID\").agg(\n",
    "    count=(\"license_nbr\", \"count\"),\n",
    ")\n",
    "\n",
    "df_location_aggregated = df_location_aggregated.rename(columns={\n",
    "    \"license_nbr\": \"num_businesses\",\n",
    "})\n",
    "df_location_aggregated"
   ],
   "metadata": {
    "collapsed": false,
    "ExecuteTime": {
     "end_time": "2024-08-21T01:38:03.352548Z",
     "start_time": "2024-08-21T01:38:03.339972Z"
    }
   },
   "id": "4c6a3e29417d3650",
   "execution_count": 56
  },
  {
   "cell_type": "code",
   "outputs": [],
   "source": [
    "output_relative_dir = '../data/raw/lob_data/'\n",
    "if not os.path.exists(output_relative_dir):\n",
    "    os.makedirs(output_relative_dir)"
   ],
   "metadata": {
    "collapsed": false,
    "ExecuteTime": {
     "end_time": "2024-08-21T01:38:03.355811Z",
     "start_time": "2024-08-21T01:38:03.352803Z"
    }
   },
   "id": "2da575f965c64b6",
   "execution_count": 57
  },
  {
   "cell_type": "code",
   "outputs": [],
   "source": [
    "df_location_aggregated.to_parquet(f\"{output_relative_dir}/data.parquet\")"
   ],
   "metadata": {
    "collapsed": false,
    "ExecuteTime": {
     "end_time": "2024-08-21T01:38:03.401218Z",
     "start_time": "2024-08-21T01:38:03.362299Z"
    }
   },
   "id": "5e22afda24846f6e",
   "execution_count": 58
  }
 ],
 "metadata": {
  "kernelspec": {
   "display_name": "Python 3",
   "language": "python",
   "name": "python3"
  },
  "language_info": {
   "codemirror_mode": {
    "name": "ipython",
    "version": 2
   },
   "file_extension": ".py",
   "mimetype": "text/x-python",
   "name": "python",
   "nbconvert_exporter": "python",
   "pygments_lexer": "ipython2",
   "version": "2.7.6"
  }
 },
 "nbformat": 4,
 "nbformat_minor": 5
}
