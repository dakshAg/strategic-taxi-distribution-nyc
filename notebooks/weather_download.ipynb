{
 "cells": [
  {
   "cell_type": "markdown",
   "source": [
    "# Download weather data\n",
    "Details and Documentation available at https://open-meteo.com/en/docs/historical-weather-api#latitude=40.71&longitude=-74.01&start_date=2022-08-31&end_date=2024-01-31&hourly=temperature_2m,precipitation,rain,cloudcover,cloudcover_low,cloudcover_mid,cloudcover_high,windspeed_10m,winddirection_10m&timezone=America%2FNew_York"
   ],
   "metadata": {
    "collapsed": false
   },
   "id": "825cfd068626a280"
  },
  {
   "cell_type": "code",
   "outputs": [],
   "source": [
    "import openmeteo_requests\n",
    "\n",
    "import requests_cache\n",
    "\n",
    "from retry_requests import retry\n",
    "import os\n",
    "import pandas as pd"
   ],
   "metadata": {
    "collapsed": false,
    "ExecuteTime": {
     "end_time": "2024-10-05T10:58:54.812260Z",
     "start_time": "2024-10-05T10:58:54.702075Z"
    }
   },
   "id": "1f1df1bea4ce0127",
   "execution_count": 1
  },
  {
   "cell_type": "code",
   "outputs": [],
   "source": [
    "# Setup the Open-Meteo API client with cache and retry on error\n",
    "cache_session = requests_cache.CachedSession('.cache', expire_after=-1)\n",
    "retry_session = retry(cache_session, retries=5, backoff_factor=0.2)\n",
    "openmeteo = openmeteo_requests.Client(session=retry_session)"
   ],
   "metadata": {
    "collapsed": false,
    "ExecuteTime": {
     "end_time": "2024-10-05T10:58:54.816029Z",
     "start_time": "2024-10-05T10:58:54.812934Z"
    }
   },
   "id": "93fb9833cc2cde13",
   "execution_count": 2
  },
  {
   "cell_type": "code",
   "outputs": [],
   "source": [
    "url = \"https://archive-api.open-meteo.com/v1/archive\"\n",
    "params = {\n",
    "    \"latitude\": 40.71,\n",
    "    \"longitude\": -74.01,\n",
    "    \"start_date\": \"2022-01-01\",\n",
    "    \"end_date\": \"2022-07-01\",\n",
    "    \"hourly\": [\"temperature_2m\", \"relative_humidity_2m\", \"rain\", \"snowfall\", \"wind_speed_10m\"],\n",
    "    \"timezone\": \"America/New_York\"\n",
    "}\n",
    "responses = openmeteo.weather_api(url, params=params)\n",
    "response = responses[0]"
   ],
   "metadata": {
    "collapsed": false,
    "ExecuteTime": {
     "end_time": "2024-10-05T10:58:55.172148Z",
     "start_time": "2024-10-05T10:58:54.816653Z"
    }
   },
   "id": "b3800f5f483972fb",
   "execution_count": 3
  },
  {
   "cell_type": "code",
   "outputs": [],
   "source": [],
   "metadata": {
    "collapsed": false,
    "ExecuteTime": {
     "end_time": "2024-10-05T10:58:55.174270Z",
     "start_time": "2024-10-05T10:58:55.172968Z"
    }
   },
   "id": "e4bb7a88ec90d318",
   "execution_count": 3
  },
  {
   "cell_type": "code",
   "outputs": [],
   "source": [
    "# Process hourly data. The order of variables needs to be the same as requested.\n",
    "hourly = response.Hourly()\n",
    "hourly_temperature_2m = hourly.Variables(0).ValuesAsNumpy()\n",
    "hourly_relative_humidity_2m = hourly.Variables(1).ValuesAsNumpy()\n",
    "hourly_rain = hourly.Variables(2).ValuesAsNumpy()\n",
    "hourly_snowfall = hourly.Variables(3).ValuesAsNumpy()\n",
    "hourly_wind_speed_10m = hourly.Variables(4).ValuesAsNumpy()\n",
    "\n",
    "hourly_data = {\"date\": pd.date_range(\n",
    "    start=pd.to_datetime(hourly.Time(), unit=\"s\", utc=True),\n",
    "    end=pd.to_datetime(hourly.TimeEnd(), unit=\"s\", utc=True),\n",
    "    freq=pd.Timedelta(seconds=hourly.Interval()),\n",
    "    inclusive=\"left\"\n",
    "), \"temperature_2m\": hourly_temperature_2m, \"relative_humidity_2m\": hourly_relative_humidity_2m, \"rain\": hourly_rain,\n",
    "    \"snowfall\": hourly_snowfall, \"wind_speed_10m\": hourly_wind_speed_10m}"
   ],
   "metadata": {
    "collapsed": false,
    "ExecuteTime": {
     "end_time": "2024-10-05T10:58:55.187426Z",
     "start_time": "2024-10-05T10:58:55.178392Z"
    }
   },
   "id": "d857fea90af3a186",
   "execution_count": 4
  },
  {
   "cell_type": "code",
   "outputs": [
    {
     "data": {
      "text/plain": "                       date  temperature_2m  relative_humidity_2m  rain  \\\n0 2022-01-01 04:00:00+00:00          7.6785            100.000000   0.0   \n1 2022-01-01 05:00:00+00:00          7.8285             99.660194   0.0   \n2 2022-01-01 06:00:00+00:00          7.9285             99.660461   0.0   \n3 2022-01-01 07:00:00+00:00          7.6285             99.659645   0.0   \n4 2022-01-01 08:00:00+00:00          7.5785             99.659515   0.1   \n\n   snowfall  wind_speed_10m  \n0       0.0        4.198285  \n1       0.0        5.091168  \n2       0.0        4.198285  \n3       0.0        6.369050  \n4       0.0        4.735060  ",
      "text/html": "<div>\n<style scoped>\n    .dataframe tbody tr th:only-of-type {\n        vertical-align: middle;\n    }\n\n    .dataframe tbody tr th {\n        vertical-align: top;\n    }\n\n    .dataframe thead th {\n        text-align: right;\n    }\n</style>\n<table border=\"1\" class=\"dataframe\">\n  <thead>\n    <tr style=\"text-align: right;\">\n      <th></th>\n      <th>date</th>\n      <th>temperature_2m</th>\n      <th>relative_humidity_2m</th>\n      <th>rain</th>\n      <th>snowfall</th>\n      <th>wind_speed_10m</th>\n    </tr>\n  </thead>\n  <tbody>\n    <tr>\n      <th>0</th>\n      <td>2022-01-01 04:00:00+00:00</td>\n      <td>7.6785</td>\n      <td>100.000000</td>\n      <td>0.0</td>\n      <td>0.0</td>\n      <td>4.198285</td>\n    </tr>\n    <tr>\n      <th>1</th>\n      <td>2022-01-01 05:00:00+00:00</td>\n      <td>7.8285</td>\n      <td>99.660194</td>\n      <td>0.0</td>\n      <td>0.0</td>\n      <td>5.091168</td>\n    </tr>\n    <tr>\n      <th>2</th>\n      <td>2022-01-01 06:00:00+00:00</td>\n      <td>7.9285</td>\n      <td>99.660461</td>\n      <td>0.0</td>\n      <td>0.0</td>\n      <td>4.198285</td>\n    </tr>\n    <tr>\n      <th>3</th>\n      <td>2022-01-01 07:00:00+00:00</td>\n      <td>7.6285</td>\n      <td>99.659645</td>\n      <td>0.0</td>\n      <td>0.0</td>\n      <td>6.369050</td>\n    </tr>\n    <tr>\n      <th>4</th>\n      <td>2022-01-01 08:00:00+00:00</td>\n      <td>7.5785</td>\n      <td>99.659515</td>\n      <td>0.1</td>\n      <td>0.0</td>\n      <td>4.735060</td>\n    </tr>\n  </tbody>\n</table>\n</div>"
     },
     "execution_count": 5,
     "metadata": {},
     "output_type": "execute_result"
    }
   ],
   "source": [
    "hourly_dataframe = pd.DataFrame(data = hourly_data)\n",
    "hourly_dataframe.head()"
   ],
   "metadata": {
    "collapsed": false,
    "ExecuteTime": {
     "end_time": "2024-10-05T10:58:55.199742Z",
     "start_time": "2024-10-05T10:58:55.188632Z"
    }
   },
   "id": "75c83b5ee690d78a",
   "execution_count": 5
  },
  {
   "cell_type": "code",
   "outputs": [],
   "source": [
    "output_relative_dir = '../data/landing/weather'\n",
    "if not os.path.exists(output_relative_dir):\n",
    "    os.makedirs(output_relative_dir)"
   ],
   "metadata": {
    "collapsed": false,
    "ExecuteTime": {
     "end_time": "2024-10-05T10:58:55.202540Z",
     "start_time": "2024-10-05T10:58:55.200403Z"
    }
   },
   "id": "5d511ea4dd70ee54",
   "execution_count": 6
  },
  {
   "cell_type": "code",
   "outputs": [],
   "source": [
    "hourly_dataframe.to_csv(f\"{output_relative_dir}/hourly_weather.csv\", index=False)"
   ],
   "metadata": {
    "collapsed": false,
    "ExecuteTime": {
     "end_time": "2024-10-05T10:58:55.225710Z",
     "start_time": "2024-10-05T10:58:55.203288Z"
    }
   },
   "id": "c4c9d703e89456f4",
   "execution_count": 7
  }
 ],
 "metadata": {
  "kernelspec": {
   "display_name": "Python 3",
   "language": "python",
   "name": "python3"
  },
  "language_info": {
   "codemirror_mode": {
    "name": "ipython",
    "version": 2
   },
   "file_extension": ".py",
   "mimetype": "text/x-python",
   "name": "python",
   "nbconvert_exporter": "python",
   "pygments_lexer": "ipython2",
   "version": "2.7.6"
  }
 },
 "nbformat": 4,
 "nbformat_minor": 5
}
