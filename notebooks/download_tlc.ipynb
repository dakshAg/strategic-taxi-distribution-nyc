{
 "cells": [
  {
   "cell_type": "code",
   "outputs": [],
   "source": [
    "import os\n",
    "\n",
    "# from the current `tute_1` directory, go back two levels to the `MAST30034` directory\n",
    "output_relative_dir = '../data/landing/'\n",
    "\n",
    "# check if it exists as it makedir will raise an error if it does exist\n",
    "if not os.path.exists(output_relative_dir):\n",
    "    os.makedirs(output_relative_dir)\n",
    "    \n",
    "# now, for each type of data set we will need, we will create the paths\n",
    "for target_dir in ('wifi_data','tlc_data'): # taxi_zones should already exist\n",
    "    if not os.path.exists(output_relative_dir + target_dir):\n",
    "        os.makedirs(output_relative_dir + target_dir)"
   ],
   "metadata": {
    "collapsed": false,
    "ExecuteTime": {
     "end_time": "2024-08-18T10:30:25.080046Z",
     "start_time": "2024-08-18T10:30:25.075449Z"
    }
   },
   "id": "f28ba828b0d7b05e",
   "execution_count": 1
  },
  {
   "cell_type": "code",
   "outputs": [],
   "source": [
    "DATA_RANGE = {\n",
    "    '2022': range(1, 7),\n",
    "}\n",
    "# this is the URL template as of 07/2023\n",
    "URL_TEMPLATE = \"https://d37ci6vzurychx.cloudfront.net/trip-data/fhvhv_tripdata_\"#year-month.parquet"
   ],
   "metadata": {
    "collapsed": false,
    "ExecuteTime": {
     "end_time": "2024-08-18T10:30:25.080517Z",
     "start_time": "2024-08-18T10:30:25.077914Z"
    }
   },
   "id": "a55d7ffc82e823fa",
   "execution_count": 2
  },
  {
   "cell_type": "code",
   "outputs": [
    {
     "name": "stdout",
     "output_type": "stream",
     "text": [
      "Begin month 01\n",
      "Completed 01-2022\n",
      "Begin month 02\n",
      "Completed 02-2022\n",
      "Begin month 03\n",
      "Completed 03-2022\n",
      "Begin month 04\n",
      "Completed 04-2022\n",
      "Begin month 05\n",
      "Completed 05-2022\n",
      "Begin month 06\n",
      "Completed 06-2022\n"
     ]
    }
   ],
   "source": [
    "from urllib.request import urlretrieve\n",
    "tlc_output_dir = output_relative_dir + 'tlc_data'\n",
    "\n",
    "for year in DATA_RANGE:\n",
    "    for month in DATA_RANGE[year]:\n",
    "        # 0-fill i.e 1 -> 01, 2 -> 02, etc\n",
    "        month = str(month).zfill(2) \n",
    "        print(f\"Begin month {month}\")\n",
    "        \n",
    "        # generate url\n",
    "        url = f'{URL_TEMPLATE}{year}-{month}.parquet'\n",
    "        # generate output location and filename\n",
    "        output_dir = f\"{tlc_output_dir}/{year}-{month}.parquet\"\n",
    "        # download\n",
    "        urlretrieve(url, output_dir) \n",
    "        \n",
    "        print(f\"Completed {month}-{year}\")"
   ],
   "metadata": {
    "collapsed": false,
    "ExecuteTime": {
     "end_time": "2024-08-18T10:34:11.021448Z",
     "start_time": "2024-08-18T10:30:25.081557Z"
    }
   },
   "id": "2d9daf2064093b3e",
   "execution_count": 3
  },
  {
   "cell_type": "code",
   "outputs": [],
   "source": [
    "NUM_ROWS_PLUTO = 3319\n",
    "MAX_ROWS_PER_CALL = 1000\n",
    "RELEVANT_COLUMNS = [\"latitude\", \"longitude\",\"Activated\",\"OBJECTID\"]"
   ],
   "metadata": {
    "collapsed": false,
    "ExecuteTime": {
     "end_time": "2024-08-18T10:34:11.039559Z",
     "start_time": "2024-08-18T10:34:11.033393Z"
    }
   },
   "id": "8dc8884c30898070",
   "execution_count": 4
  },
  {
   "cell_type": "code",
   "outputs": [
    {
     "name": "stderr",
     "output_type": "stream",
     "text": [
      "WARNING:root:Requests made without an app_token will be subject to strict throttling limits.\n",
      "100%|██████████| 4/4 [00:05<00:00,  1.31s/it]\n"
     ]
    }
   ],
   "source": [
    "import pandas as pd\n",
    "from sodapy import Socrata\n",
    "from tqdm import tqdm\n",
    "\n",
    "# Unauthenticated client only works with public data sets. Note 'None'\n",
    "# in place of application token, and no username or password:\n",
    "client = Socrata(\"data.cityofnewyork.us\", None)\n",
    "\n",
    "for i in tqdm(range(0, NUM_ROWS_PLUTO, MAX_ROWS_PER_CALL)):\n",
    "    # print(f\"Downloading {i} to {i + MAX_ROWS_PER_CALL} of {NUM_ROWS_PLUTO}\")\n",
    "    results = client.get(\"yjub-udmw\", limit=MAX_ROWS_PER_CALL, offset=i, select=\",\".join(RELEVANT_COLUMNS))\n",
    "    results_df = pd.DataFrame.from_records(results)\n",
    "    results_df.to_parquet(f\"{output_relative_dir}wifi_data/wifi_data_{i}.parquet\", index=False)"
   ],
   "metadata": {
    "collapsed": false,
    "ExecuteTime": {
     "end_time": "2024-08-18T10:34:16.488109Z",
     "start_time": "2024-08-18T10:34:11.038241Z"
    }
   },
   "id": "108fcb1dfc34c198",
   "execution_count": 5
  },
  {
   "cell_type": "code",
   "outputs": [],
   "source": [],
   "metadata": {
    "collapsed": false,
    "ExecuteTime": {
     "end_time": "2024-08-18T10:34:16.488590Z",
     "start_time": "2024-08-18T10:34:16.483993Z"
    }
   },
   "id": "524afb3ae3eb19e",
   "execution_count": 5
  }
 ],
 "metadata": {
  "kernelspec": {
   "display_name": "Python 3",
   "language": "python",
   "name": "python3"
  },
  "language_info": {
   "codemirror_mode": {
    "name": "ipython",
    "version": 2
   },
   "file_extension": ".py",
   "mimetype": "text/x-python",
   "name": "python",
   "nbconvert_exporter": "python",
   "pygments_lexer": "ipython2",
   "version": "2.7.6"
  }
 },
 "nbformat": 4,
 "nbformat_minor": 5
}
