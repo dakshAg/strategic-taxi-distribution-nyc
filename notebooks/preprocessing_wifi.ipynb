{
 "cells": [
  {
   "cell_type": "code",
   "execution_count": null,
   "id": "initial_id",
   "metadata": {
    "collapsed": true
   },
   "outputs": [],
   "source": [
    "import geopandas as gpd\n",
    "import pandas as pd"
   ]
  },
  {
   "cell_type": "code",
   "outputs": [],
   "source": [
    "wifi_all_pd = pd.read_parquet('../data/raw/wifi_data/')"
   ],
   "metadata": {
    "collapsed": false
   },
   "id": "957f4badace2060f"
  },
  {
   "cell_type": "code",
   "outputs": [],
   "source": [
    "wifi_all_pd = gpd.GeoDataFrame(wifi_all_pd, geometry=gpd.points_from_xy(wifi_all_pd[\"longitude\"], wifi_all_pd[\"latitude\"]))\n",
    "wifi_all_pd.dtypes"
   ],
   "metadata": {
    "collapsed": false
   },
   "id": "611e2f80e21a4d03"
  },
  {
   "cell_type": "code",
   "outputs": [],
   "source": [
    "sf = gpd.read_file(\"../data/taxi_zones/taxi_zones.shp\")\n",
    "zones = pd.read_csv(\"../data/taxi_zones/taxi+_zone_lookup.csv\")\n",
    "sf['geometry'] = sf['geometry'].to_crs(\"+proj=longlat +ellps=WGS84 +datum=WGS84 +no_defs\")\n",
    "gdf = gpd.GeoDataFrame(\n",
    "    pd.merge(zones, sf, on='LocationID', how='inner')\n",
    ")\n",
    "wifi_all_gpd = gpd.sjoin(wifi_all_pd, gdf)"
   ],
   "metadata": {
    "collapsed": false
   },
   "id": "f187eac7102739b4"
  },
  {
   "cell_type": "code",
   "outputs": [],
   "source": [
    "wifi_all_pd.head()"
   ],
   "metadata": {
    "collapsed": false
   },
   "id": "3a6a095eb1e0c8e1"
  },
  {
   "cell_type": "code",
   "outputs": [],
   "source": [
    "import numpy as np\n",
    "\n",
    "proportions = wifi_all_pd[['LocationID', 'wifi_id','borough']] \\\n",
    "    .groupby(['LocationID', 'borough']) \\\n",
    "    .agg(\n",
    "    {\n",
    "        'wifi_id': 'count',  # sum over total amount earned\n",
    "    }\n",
    ") \\\n",
    "    .rename({'wifi_id': 'num_wifi'}, axis=1)\\\n",
    "    .rename({'LocationID': 'PULocationID'}, axis=1)\n",
    "\n",
    "proportions[\"log_num_wifi\"] = np.log(proportions[\"num_wifi\"])\n",
    "proportions.head()"
   ],
   "metadata": {
    "collapsed": false
   },
   "id": "711f23a0725b131c"
  }
 ],
 "metadata": {
  "kernelspec": {
   "display_name": "Python 3",
   "language": "python",
   "name": "python3"
  },
  "language_info": {
   "codemirror_mode": {
    "name": "ipython",
    "version": 2
   },
   "file_extension": ".py",
   "mimetype": "text/x-python",
   "name": "python",
   "nbconvert_exporter": "python",
   "pygments_lexer": "ipython2",
   "version": "2.7.6"
  }
 },
 "nbformat": 4,
 "nbformat_minor": 5
}
