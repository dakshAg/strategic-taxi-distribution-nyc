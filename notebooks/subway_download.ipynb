{
 "cells": [
  {
   "cell_type": "code",
   "execution_count": 10,
   "id": "initial_id",
   "metadata": {
    "collapsed": true,
    "ExecuteTime": {
     "end_time": "2024-08-20T09:44:25.370949Z",
     "start_time": "2024-08-20T09:44:25.359034Z"
    }
   },
   "outputs": [],
   "source": [
    "import pandas as pd\n",
    "from sodapy import Socrata\n",
    "import os"
   ]
  },
  {
   "cell_type": "code",
   "outputs": [],
   "source": [
    "output_relative_dir = '../data/landing/subway_data'\n",
    "if not os.path.exists(output_relative_dir):\n",
    "    os.makedirs(output_relative_dir)"
   ],
   "metadata": {
    "collapsed": false,
    "ExecuteTime": {
     "end_time": "2024-08-20T09:44:25.371326Z",
     "start_time": "2024-08-20T09:44:25.362809Z"
    }
   },
   "id": "91a93946969b8fc",
   "execution_count": 11
  },
  {
   "cell_type": "code",
   "outputs": [
    {
     "name": "stderr",
     "output_type": "stream",
     "text": [
      "WARNING:root:Requests made without an app_token will be subject to strict throttling limits.\n"
     ]
    }
   ],
   "source": [
    "client = Socrata(\"data.ny.gov\", None)\n",
    "\n",
    "results = client.get(\"39hk-dx4f\",)\n",
    "results_df = pd.DataFrame.from_records(results)\n",
    "results_df.to_parquet(f\"{output_relative_dir}/set1.parquet\", index=False)"
   ],
   "metadata": {
    "collapsed": false,
    "ExecuteTime": {
     "end_time": "2024-08-20T09:44:26.742920Z",
     "start_time": "2024-08-20T09:44:25.367703Z"
    }
   },
   "id": "a087fe032b3def5b",
   "execution_count": 12
  },
  {
   "cell_type": "code",
   "outputs": [
    {
     "data": {
      "text/plain": "  gtfs_stop_id station_id complex_id division     line             stop_name  \\\n0          R01          1          1      BMT  Astoria  Astoria-Ditmars Blvd   \n1          R03          2          2      BMT  Astoria          Astoria Blvd   \n2          R04          3          3      BMT  Astoria                 30 Av   \n3          R05          4          4      BMT  Astoria              Broadway   \n4          R06          5          5      BMT  Astoria                 36 Av   \n\n  borough    cbd daytime_routes structure  ... north_direction_label  \\\n0       Q  FALSE            N W  Elevated  ...             Last Stop   \n1       Q  FALSE            N W  Elevated  ...               Astoria   \n2       Q  FALSE            N W  Elevated  ...               Astoria   \n3       Q  FALSE            N W  Elevated  ...               Astoria   \n4       Q  FALSE            N W  Elevated  ...               Astoria   \n\n  south_direction_label ada ada_northbound ada_southbound  \\\n0             Manhattan   0              0              0   \n1             Manhattan   1              1              1   \n2             Manhattan   0              0              0   \n3             Manhattan   0              0              0   \n4             Manhattan   0              0              0   \n\n                                        georeference  \\\n0  {'type': 'Point', 'coordinates': [-73.912034, ...   \n1  {'type': 'Point', 'coordinates': [-73.917843, ...   \n2  {'type': 'Point', 'coordinates': [-73.921479, ...   \n3  {'type': 'Point', 'coordinates': [-73.925508, ...   \n4  {'type': 'Point', 'coordinates': [-73.929575, ...   \n\n  :@computed_region_yamh_8v7k :@computed_region_wbg7_3whc  \\\n0                         196                         877   \n1                         196                         874   \n2                         196                         874   \n3                         196                         878   \n4                         196                         878   \n\n  :@computed_region_kjdx_g34t ada_notes  \n0                        2137       NaN  \n1                        2137       NaN  \n2                        2137       NaN  \n3                        2137       NaN  \n4                        2137       NaN  \n\n[5 rows x 22 columns]",
      "text/html": "<div>\n<style scoped>\n    .dataframe tbody tr th:only-of-type {\n        vertical-align: middle;\n    }\n\n    .dataframe tbody tr th {\n        vertical-align: top;\n    }\n\n    .dataframe thead th {\n        text-align: right;\n    }\n</style>\n<table border=\"1\" class=\"dataframe\">\n  <thead>\n    <tr style=\"text-align: right;\">\n      <th></th>\n      <th>gtfs_stop_id</th>\n      <th>station_id</th>\n      <th>complex_id</th>\n      <th>division</th>\n      <th>line</th>\n      <th>stop_name</th>\n      <th>borough</th>\n      <th>cbd</th>\n      <th>daytime_routes</th>\n      <th>structure</th>\n      <th>...</th>\n      <th>north_direction_label</th>\n      <th>south_direction_label</th>\n      <th>ada</th>\n      <th>ada_northbound</th>\n      <th>ada_southbound</th>\n      <th>georeference</th>\n      <th>:@computed_region_yamh_8v7k</th>\n      <th>:@computed_region_wbg7_3whc</th>\n      <th>:@computed_region_kjdx_g34t</th>\n      <th>ada_notes</th>\n    </tr>\n  </thead>\n  <tbody>\n    <tr>\n      <th>0</th>\n      <td>R01</td>\n      <td>1</td>\n      <td>1</td>\n      <td>BMT</td>\n      <td>Astoria</td>\n      <td>Astoria-Ditmars Blvd</td>\n      <td>Q</td>\n      <td>FALSE</td>\n      <td>N W</td>\n      <td>Elevated</td>\n      <td>...</td>\n      <td>Last Stop</td>\n      <td>Manhattan</td>\n      <td>0</td>\n      <td>0</td>\n      <td>0</td>\n      <td>{'type': 'Point', 'coordinates': [-73.912034, ...</td>\n      <td>196</td>\n      <td>877</td>\n      <td>2137</td>\n      <td>NaN</td>\n    </tr>\n    <tr>\n      <th>1</th>\n      <td>R03</td>\n      <td>2</td>\n      <td>2</td>\n      <td>BMT</td>\n      <td>Astoria</td>\n      <td>Astoria Blvd</td>\n      <td>Q</td>\n      <td>FALSE</td>\n      <td>N W</td>\n      <td>Elevated</td>\n      <td>...</td>\n      <td>Astoria</td>\n      <td>Manhattan</td>\n      <td>1</td>\n      <td>1</td>\n      <td>1</td>\n      <td>{'type': 'Point', 'coordinates': [-73.917843, ...</td>\n      <td>196</td>\n      <td>874</td>\n      <td>2137</td>\n      <td>NaN</td>\n    </tr>\n    <tr>\n      <th>2</th>\n      <td>R04</td>\n      <td>3</td>\n      <td>3</td>\n      <td>BMT</td>\n      <td>Astoria</td>\n      <td>30 Av</td>\n      <td>Q</td>\n      <td>FALSE</td>\n      <td>N W</td>\n      <td>Elevated</td>\n      <td>...</td>\n      <td>Astoria</td>\n      <td>Manhattan</td>\n      <td>0</td>\n      <td>0</td>\n      <td>0</td>\n      <td>{'type': 'Point', 'coordinates': [-73.921479, ...</td>\n      <td>196</td>\n      <td>874</td>\n      <td>2137</td>\n      <td>NaN</td>\n    </tr>\n    <tr>\n      <th>3</th>\n      <td>R05</td>\n      <td>4</td>\n      <td>4</td>\n      <td>BMT</td>\n      <td>Astoria</td>\n      <td>Broadway</td>\n      <td>Q</td>\n      <td>FALSE</td>\n      <td>N W</td>\n      <td>Elevated</td>\n      <td>...</td>\n      <td>Astoria</td>\n      <td>Manhattan</td>\n      <td>0</td>\n      <td>0</td>\n      <td>0</td>\n      <td>{'type': 'Point', 'coordinates': [-73.925508, ...</td>\n      <td>196</td>\n      <td>878</td>\n      <td>2137</td>\n      <td>NaN</td>\n    </tr>\n    <tr>\n      <th>4</th>\n      <td>R06</td>\n      <td>5</td>\n      <td>5</td>\n      <td>BMT</td>\n      <td>Astoria</td>\n      <td>36 Av</td>\n      <td>Q</td>\n      <td>FALSE</td>\n      <td>N W</td>\n      <td>Elevated</td>\n      <td>...</td>\n      <td>Astoria</td>\n      <td>Manhattan</td>\n      <td>0</td>\n      <td>0</td>\n      <td>0</td>\n      <td>{'type': 'Point', 'coordinates': [-73.929575, ...</td>\n      <td>196</td>\n      <td>878</td>\n      <td>2137</td>\n      <td>NaN</td>\n    </tr>\n  </tbody>\n</table>\n<p>5 rows × 22 columns</p>\n</div>"
     },
     "execution_count": 13,
     "metadata": {},
     "output_type": "execute_result"
    }
   ],
   "source": [
    "results_df.head()"
   ],
   "metadata": {
    "collapsed": false,
    "ExecuteTime": {
     "end_time": "2024-08-20T09:44:26.764836Z",
     "start_time": "2024-08-20T09:44:26.743335Z"
    }
   },
   "id": "ef602ab3a993877c",
   "execution_count": 13
  }
 ],
 "metadata": {
  "kernelspec": {
   "display_name": "Python 3",
   "language": "python",
   "name": "python3"
  },
  "language_info": {
   "codemirror_mode": {
    "name": "ipython",
    "version": 2
   },
   "file_extension": ".py",
   "mimetype": "text/x-python",
   "name": "python",
   "nbconvert_exporter": "python",
   "pygments_lexer": "ipython2",
   "version": "2.7.6"
  }
 },
 "nbformat": 4,
 "nbformat_minor": 5
}
