{
 "cells": [
  {
   "cell_type": "code",
   "execution_count": 191,
   "id": "initial_id",
   "metadata": {
    "collapsed": true,
    "ExecuteTime": {
     "end_time": "2024-08-21T00:37:27.227710Z",
     "start_time": "2024-08-21T00:37:27.206004Z"
    }
   },
   "outputs": [],
   "source": [
    "from pyspark.ml import Pipeline\n",
    "from pyspark.ml.evaluation import RegressionEvaluator\n",
    "from pyspark.ml.feature import VectorAssembler, StringIndexer, OneHotEncoder, StandardScaler\n",
    "from pyspark.ml.regression import LinearRegression\n",
    "from pyspark.sql import SparkSession\n",
    "from pyspark.sql.functions import expm1\n",
    "from pyspark.sql.functions import log1p\n",
    "from pyspark.sql.functions import col"
   ]
  },
  {
   "cell_type": "code",
   "outputs": [],
   "source": [
    "spark = (\n",
    "    SparkSession.builder.appName(\"MAST30034 Tutorial 1\")\n",
    "    .config(\"spark.sql.repl.eagerEval.enabled\", True) \n",
    "    .config(\"spark.sql.parquet.cacheMetadata\", \"true\")\n",
    "    .config(\"spark.sql.session.timeZone\", \"Etc/UTC\")\n",
    "    .config(\"spark.driver.memory\", \"15g\")\n",
    "    .config(\"spark.sql.parquet.enableVectorizedReader\",\"false\")\n",
    "    .getOrCreate()\n",
    ")"
   ],
   "metadata": {
    "collapsed": false,
    "ExecuteTime": {
     "end_time": "2024-08-21T00:37:27.228246Z",
     "start_time": "2024-08-21T00:37:27.212403Z"
    }
   },
   "id": "9a01b74794b19576",
   "execution_count": 192
  },
  {
   "cell_type": "code",
   "outputs": [
    {
     "data": {
      "text/plain": "['PULocationID',\n 'hourly_timestamp',\n 'pickup_hour_of_day',\n 'pickup_day_of_week',\n 'pickup_month',\n 'pickup_borough',\n 'num_trips',\n 'pickup_num_stations',\n 'pickup_daytime_routes']"
     },
     "execution_count": 193,
     "metadata": {},
     "output_type": "execute_result"
    }
   ],
   "source": [
    "data = spark.read.parquet('../data/combined_data/')\n",
    "data.columns"
   ],
   "metadata": {
    "collapsed": false,
    "ExecuteTime": {
     "end_time": "2024-08-21T00:37:27.403034Z",
     "start_time": "2024-08-21T00:37:27.231804Z"
    }
   },
   "id": "ac56c193b58a777b",
   "execution_count": 193
  },
  {
   "cell_type": "code",
   "outputs": [],
   "source": [
    "data = data.withColumn(\"log_num_trips\", log1p(\"num_trips\"))"
   ],
   "metadata": {
    "collapsed": false,
    "ExecuteTime": {
     "end_time": "2024-08-21T00:37:27.412504Z",
     "start_time": "2024-08-21T00:37:27.398089Z"
    }
   },
   "id": "23eac040c8065136",
   "execution_count": 194
  },
  {
   "cell_type": "code",
   "outputs": [],
   "source": [
    "data = data.filter(col(\"PULocationID\")== 100)"
   ],
   "metadata": {
    "collapsed": false,
    "ExecuteTime": {
     "end_time": "2024-08-21T00:37:27.441119Z",
     "start_time": "2024-08-21T00:37:27.414244Z"
    }
   },
   "id": "4aa3e4a7475f0026",
   "execution_count": 195
  },
  {
   "cell_type": "code",
   "outputs": [],
   "source": [
    "train_data = data.filter(data['pickup_month'] <= 5)  # Months 1-5 for training\n",
    "test_data = data.filter(data['pickup_month'] > 5)    # Month 6 for testing"
   ],
   "metadata": {
    "collapsed": false,
    "ExecuteTime": {
     "end_time": "2024-08-21T00:37:27.441588Z",
     "start_time": "2024-08-21T00:37:27.421029Z"
    }
   },
   "id": "68ab59ad6e2deb3b",
   "execution_count": 196
  },
  {
   "cell_type": "code",
   "outputs": [],
   "source": [
    "feature_columns = [\n",
    "    'pickup_hour_of_day',\n",
    "    'pickup_day_of_week',\n",
    "    'pickup_num_stations',\n",
    "    'pickup_daytime_routes'\n",
    "]"
   ],
   "metadata": {
    "collapsed": false,
    "ExecuteTime": {
     "end_time": "2024-08-21T00:37:27.441993Z",
     "start_time": "2024-08-21T00:37:27.428890Z"
    }
   },
   "id": "49860eaaedb94491",
   "execution_count": 197
  },
  {
   "cell_type": "code",
   "outputs": [],
   "source": [
    "# Index and One-Hot Encode categorical features if necessary\n",
    "indexers = [\n",
    "    StringIndexer(inputCol=column, outputCol=f\"{column}_index\").setHandleInvalid(\"keep\")\n",
    "    for column in ['pickup_hour_of_day', 'pickup_day_of_week']\n",
    "]\n",
    "\n",
    "encoders = [\n",
    "    OneHotEncoder(inputCol=f\"{column}_index\", outputCol=f\"{column}_ohe\").setHandleInvalid(\"keep\")\n",
    "    for column in ['pickup_hour_of_day', 'pickup_day_of_week']\n",
    "]"
   ],
   "metadata": {
    "collapsed": false,
    "ExecuteTime": {
     "end_time": "2024-08-21T00:37:27.451615Z",
     "start_time": "2024-08-21T00:37:27.437045Z"
    }
   },
   "id": "11989309dedc761a",
   "execution_count": 198
  },
  {
   "cell_type": "code",
   "outputs": [],
   "source": [
    "assembler = VectorAssembler(\n",
    "    inputCols=[\n",
    "        'pickup_hour_of_day_ohe',\n",
    "        'pickup_day_of_week_ohe',\n",
    "        'pickup_num_stations',\n",
    "        'pickup_daytime_routes'\n",
    "    ],\n",
    "    outputCol=\"features\"\n",
    ").setHandleInvalid(\"keep\")"
   ],
   "metadata": {
    "collapsed": false,
    "ExecuteTime": {
     "end_time": "2024-08-21T00:37:27.452545Z",
     "start_time": "2024-08-21T00:37:27.448056Z"
    }
   },
   "id": "83d1f2cff2d01cc3",
   "execution_count": 199
  },
  {
   "cell_type": "code",
   "outputs": [],
   "source": [
    "scaler = StandardScaler(inputCol=\"features\", outputCol=\"scaled_features\")"
   ],
   "metadata": {
    "collapsed": false,
    "ExecuteTime": {
     "end_time": "2024-08-21T00:37:27.458761Z",
     "start_time": "2024-08-21T00:37:27.454191Z"
    }
   },
   "id": "edc05e0f1dcc1184",
   "execution_count": 200
  },
  {
   "cell_type": "code",
   "outputs": [],
   "source": [
    "lr = LinearRegression(featuresCol='scaled_features', labelCol='log_num_trips')"
   ],
   "metadata": {
    "collapsed": false,
    "ExecuteTime": {
     "end_time": "2024-08-21T00:37:27.464577Z",
     "start_time": "2024-08-21T00:37:27.460138Z"
    }
   },
   "id": "e6267cdcd1fe0ba4",
   "execution_count": 201
  },
  {
   "cell_type": "code",
   "outputs": [],
   "source": [
    "pipeline = Pipeline(stages=indexers + encoders + [assembler, scaler, lr])"
   ],
   "metadata": {
    "collapsed": false,
    "ExecuteTime": {
     "end_time": "2024-08-21T00:37:27.470102Z",
     "start_time": "2024-08-21T00:37:27.467028Z"
    }
   },
   "id": "daecb98e3ee1ec86",
   "execution_count": 202
  },
  {
   "cell_type": "code",
   "outputs": [
    {
     "name": "stderr",
     "output_type": "stream",
     "text": [
      "24/08/21 10:37:29 WARN Instrumentation: [68097103] regParam is zero, which might cause numerical instability and overfitting.\n",
      "24/08/21 10:37:29 WARN Instrumentation: [68097103] Cholesky solver failed due to singular covariance matrix. Retrying with Quasi-Newton solver.\n"
     ]
    }
   ],
   "source": [
    "model = pipeline.fit(train_data)"
   ],
   "metadata": {
    "collapsed": false,
    "ExecuteTime": {
     "end_time": "2024-08-21T00:37:30.109681Z",
     "start_time": "2024-08-21T00:37:27.468827Z"
    }
   },
   "id": "27532f1de6741a7a",
   "execution_count": 203
  },
  {
   "cell_type": "code",
   "outputs": [],
   "source": [
    "predictions = model.transform(test_data)\n",
    "predictions = predictions.withColumn(\"predicted_trip_count\", expm1(predictions[\"prediction\"]))"
   ],
   "metadata": {
    "collapsed": false,
    "ExecuteTime": {
     "end_time": "2024-08-21T00:37:30.189791Z",
     "start_time": "2024-08-21T00:37:30.110213Z"
    }
   },
   "id": "900d2d724c6168db",
   "execution_count": 204
  },
  {
   "cell_type": "code",
   "outputs": [
    {
     "name": "stdout",
     "output_type": "stream",
     "text": [
      "Root Mean Squared Error (RMSE) on test data = 56.5345818534193\n",
      "R2 on test data = 0.4963869905948973\n"
     ]
    }
   ],
   "source": [
    "evaluator = RegressionEvaluator(\n",
    "    labelCol=\"num_trips\", predictionCol=\"predicted_trip_count\", metricName=\"rmse\")\n",
    "\n",
    "rmse = evaluator.evaluate(predictions)\n",
    "r2 = evaluator.evaluate(predictions, {evaluator.metricName: \"r2\"})\n",
    "\n",
    "print(f\"Root Mean Squared Error (RMSE) on test data = {rmse}\")\n",
    "print(f\"R2 on test data = {r2}\")"
   ],
   "metadata": {
    "collapsed": false,
    "ExecuteTime": {
     "end_time": "2024-08-21T00:37:30.658762Z",
     "start_time": "2024-08-21T00:37:30.191223Z"
    }
   },
   "id": "aec3d24996644825",
   "execution_count": 205
  },
  {
   "cell_type": "code",
   "outputs": [
    {
     "name": "stdout",
     "output_type": "stream",
     "text": [
      "+------------------+------------------+------------+-------------------+---------------------+---------+--------------------+\n",
      "|pickup_hour_of_day|pickup_day_of_week|pickup_month|pickup_num_stations|pickup_daytime_routes|num_trips|predicted_trip_count|\n",
      "+------------------+------------------+------------+-------------------+---------------------+---------+--------------------+\n",
      "|                20|                 2|           6|                  5|                   15|      266|  167.15795632577772|\n",
      "|                 0|                 5|           6|                  5|                   15|      139|  140.59345846088226|\n",
      "|                 3|                 3|           6|                  5|                   15|       22|   33.08956689445341|\n",
      "|                 0|                 6|           6|                  5|                   15|      213|    146.032548120454|\n",
      "|                20|                 7|           6|                  5|                   15|      211|    226.990638442634|\n",
      "|                15|                 4|           6|                  5|                   15|      207|  160.55721229973003|\n",
      "|                22|                 7|           6|                  5|                   15|      229|  230.17452186326008|\n",
      "|                 3|                 7|           6|                  5|                   15|      129|  45.049197140293906|\n",
      "|                22|                 1|           6|                  5|                   15|      142|  208.82563829062386|\n",
      "|                 6|                 7|           6|                  5|                   15|       37|   50.49054814505667|\n",
      "|                19|                 7|           6|                  5|                   15|      225|  235.53795242440336|\n",
      "|                 5|                 5|           6|                  5|                   15|       26|  30.485261693097645|\n",
      "|                 6|                 2|           6|                  5|                   15|       42|   36.97763542096234|\n",
      "|                 7|                 7|           6|                  5|                   15|       46|   65.83992936023034|\n",
      "|                11|                 4|           6|                  5|                   15|      142|  139.03166680994934|\n",
      "|                21|                 2|           6|                  5|                   15|      203|  164.16192893539315|\n",
      "|                21|                 4|           6|                  5|                   15|      288|  199.15452409220913|\n",
      "|                 7|                 4|           6|                  5|                   15|      103|   58.74366384060825|\n",
      "|                10|                 4|           6|                  5|                   15|      121|  118.37132550036068|\n",
      "|                22|                 5|           6|                  5|                   15|      275|  205.41174028637468|\n",
      "+------------------+------------------+------------+-------------------+---------------------+---------+--------------------+\n"
     ]
    }
   ],
   "source": [
    "predictions.select('pickup_hour_of_day', 'pickup_day_of_week', 'pickup_month', 'pickup_num_stations', 'pickup_daytime_routes', 'num_trips', 'predicted_trip_count').show()"
   ],
   "metadata": {
    "collapsed": false,
    "ExecuteTime": {
     "end_time": "2024-08-21T00:37:30.760980Z",
     "start_time": "2024-08-21T00:37:30.657118Z"
    }
   },
   "id": "57246b5e5e5d08d1",
   "execution_count": 206
  },
  {
   "cell_type": "code",
   "outputs": [],
   "source": [],
   "metadata": {
    "collapsed": false,
    "ExecuteTime": {
     "end_time": "2024-08-21T00:37:30.761502Z",
     "start_time": "2024-08-21T00:37:30.758265Z"
    }
   },
   "id": "9d36b283a486bd67",
   "execution_count": 206
  }
 ],
 "metadata": {
  "kernelspec": {
   "display_name": "Python 3",
   "language": "python",
   "name": "python3"
  },
  "language_info": {
   "codemirror_mode": {
    "name": "ipython",
    "version": 2
   },
   "file_extension": ".py",
   "mimetype": "text/x-python",
   "name": "python",
   "nbconvert_exporter": "python",
   "pygments_lexer": "ipython2",
   "version": "2.7.6"
  }
 },
 "nbformat": 4,
 "nbformat_minor": 5
}
