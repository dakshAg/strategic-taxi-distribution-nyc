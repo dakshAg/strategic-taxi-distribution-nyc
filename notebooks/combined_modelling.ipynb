{
 "cells": [
  {
   "cell_type": "code",
   "execution_count": 307,
   "id": "initial_id",
   "metadata": {
    "collapsed": true,
    "ExecuteTime": {
     "end_time": "2024-08-22T02:53:46.787399Z",
     "start_time": "2024-08-22T02:53:46.737490Z"
    }
   },
   "outputs": [],
   "source": [
    "from pyspark.ml import Pipeline\n",
    "from pyspark.ml.evaluation import RegressionEvaluator\n",
    "from pyspark.ml.feature import VectorAssembler, StringIndexer, OneHotEncoder, StandardScaler\n",
    "from pyspark.ml.regression import LinearRegression\n",
    "from pyspark.sql import SparkSession\n",
    "from pyspark.sql.functions import expm1\n",
    "from pyspark.sql.functions import log1p\n",
    "from pyspark.sql.functions import col\n",
    "from pyspark.ml.regression import DecisionTreeRegressor\n",
    "from pyspark.sql.functions import sin\n",
    "from pyspark.sql.functions import cos\n",
    "from pyspark.sql.functions import monotonically_increasing_id\n",
    "import math\n",
    "from xgboost.spark import SparkXGBRegressor"
   ]
  },
  {
   "cell_type": "code",
   "outputs": [],
   "source": [
    "spark = (\n",
    "    SparkSession.builder.appName(\"MAST30034 Tutorial 1\")\n",
    "    .config(\"spark.sql.repl.eagerEval.enabled\", True)\n",
    "    .config(\"spark.sql.parquet.cacheMetadata\", \"true\")\n",
    "    .config(\"spark.sql.session.timeZone\", \"Etc/UTC\")\n",
    "    .config(\"spark.driver.memory\", \"15g\")\n",
    "    .config(\"spark.sql.parquet.enableVectorizedReader\", \"false\")\n",
    "    .getOrCreate()\n",
    ")"
   ],
   "metadata": {
    "collapsed": false,
    "ExecuteTime": {
     "end_time": "2024-08-22T02:53:46.918575Z",
     "start_time": "2024-08-22T02:53:46.804455Z"
    }
   },
   "id": "9a01b74794b19576",
   "execution_count": 308
  },
  {
   "cell_type": "code",
   "outputs": [
    {
     "data": {
      "text/plain": "['hourly_timestamp',\n 'PULocationID',\n 'pickup_hour_of_day',\n 'pickup_day_of_week',\n 'pickup_month',\n 'pickup_borough',\n 'is_weekend',\n 'pickup_at_airport',\n 'num_trips',\n 'pickup_num_businesses',\n 'temperature_2m',\n 'relative_humidity_2m',\n 'rain',\n 'snowfall',\n 'wind_speed_10m']"
     },
     "execution_count": 309,
     "metadata": {},
     "output_type": "execute_result"
    }
   ],
   "source": [
    "data = spark.read.parquet('../data/combined_data/')\n",
    "data.columns"
   ],
   "metadata": {
    "collapsed": false,
    "ExecuteTime": {
     "end_time": "2024-08-22T02:53:47.740767Z",
     "start_time": "2024-08-22T02:53:46.921698Z"
    }
   },
   "id": "ac56c193b58a777b",
   "execution_count": 309
  },
  {
   "cell_type": "code",
   "outputs": [],
   "source": [
    "data = data.withColumn(\"log_num_trips\", log1p(\"num_trips\"))"
   ],
   "metadata": {
    "collapsed": false,
    "ExecuteTime": {
     "end_time": "2024-08-22T02:53:47.807568Z",
     "start_time": "2024-08-22T02:53:47.747926Z"
    }
   },
   "id": "23eac040c8065136",
   "execution_count": 310
  },
  {
   "cell_type": "code",
   "outputs": [],
   "source": [
    "# data = data.filter(col(\"PULocationID\")== 102)\n",
    "# data = data.filter(col(\"pickup_borough\") == \"Manhattan\")"
   ],
   "metadata": {
    "collapsed": false,
    "ExecuteTime": {
     "end_time": "2024-08-22T02:53:47.808360Z",
     "start_time": "2024-08-22T02:53:47.780231Z"
    }
   },
   "id": "4aa3e4a7475f0026",
   "execution_count": 311
  },
  {
   "cell_type": "code",
   "outputs": [],
   "source": [
    "train_data = data.filter(data['pickup_month'] <= 5)  # Months 1-5 for training\n",
    "test_data = data.filter(data['pickup_month'] > 5)  # Month 6 for testing"
   ],
   "metadata": {
    "collapsed": false,
    "ExecuteTime": {
     "end_time": "2024-08-22T02:53:47.809512Z",
     "start_time": "2024-08-22T02:53:47.785811Z"
    }
   },
   "id": "68ab59ad6e2deb3b",
   "execution_count": 312
  },
  {
   "cell_type": "code",
   "outputs": [],
   "source": [
    "# Index and One-Hot Encode categorical features if necessary\n",
    "indexers = [\n",
    "    StringIndexer(inputCol=column, outputCol=f\"{column}_index\").setHandleInvalid(\"keep\")\n",
    "    for column in ['pickup_day_of_week']\n",
    "]\n",
    "\n",
    "encoders = [\n",
    "    OneHotEncoder(inputCol=f\"{column}_index\", outputCol=f\"{column}_ohe\").setHandleInvalid(\"keep\")\n",
    "    for column in ['pickup_day_of_week']\n",
    "]"
   ],
   "metadata": {
    "collapsed": false,
    "ExecuteTime": {
     "end_time": "2024-08-22T02:53:47.826164Z",
     "start_time": "2024-08-22T02:53:47.809268Z"
    }
   },
   "id": "11989309dedc761a",
   "execution_count": 313
  },
  {
   "cell_type": "code",
   "outputs": [],
   "source": [
    "assembler = VectorAssembler(\n",
    "    inputCols=[\n",
    "        'pickup_hour_of_day',\n",
    "        'pickup_day_of_week_ohe',\n",
    "        'is_weekend',\n",
    "        \"pickup_at_airport\",\n",
    "        'pickup_num_businesses',\n",
    "        'temperature_2m',\n",
    "        'relative_humidity_2m',\n",
    "        'rain',\n",
    "        'snowfall',\n",
    "        'wind_speed_10m'\n",
    "    ],\n",
    "    outputCol=\"features\"\n",
    ").setHandleInvalid(\"keep\")"
   ],
   "metadata": {
    "collapsed": false,
    "ExecuteTime": {
     "end_time": "2024-08-22T02:53:47.839353Z",
     "start_time": "2024-08-22T02:53:47.825891Z"
    }
   },
   "id": "83d1f2cff2d01cc3",
   "execution_count": 314
  },
  {
   "cell_type": "code",
   "outputs": [],
   "source": [
    "scaler = StandardScaler(inputCol=\"features\", outputCol=\"scaled_features\")"
   ],
   "metadata": {
    "collapsed": false,
    "ExecuteTime": {
     "end_time": "2024-08-22T02:53:47.839991Z",
     "start_time": "2024-08-22T02:53:47.832329Z"
    }
   },
   "id": "edc05e0f1dcc1184",
   "execution_count": 315
  },
  {
   "cell_type": "code",
   "outputs": [],
   "source": [
    "lr = LinearRegression(featuresCol='scaled_features', labelCol='log_num_trips', elasticNetParam=1)"
   ],
   "metadata": {
    "collapsed": false,
    "ExecuteTime": {
     "end_time": "2024-08-22T02:53:47.861144Z",
     "start_time": "2024-08-22T02:53:47.840769Z"
    }
   },
   "id": "e6267cdcd1fe0ba4",
   "execution_count": 316
  },
  {
   "cell_type": "code",
   "outputs": [],
   "source": [
    "pipeline_lr = Pipeline(stages=indexers + encoders + [assembler, scaler, lr])"
   ],
   "metadata": {
    "collapsed": false,
    "ExecuteTime": {
     "end_time": "2024-08-22T02:53:47.861701Z",
     "start_time": "2024-08-22T02:53:47.847890Z"
    }
   },
   "id": "daecb98e3ee1ec86",
   "execution_count": 317
  },
  {
   "cell_type": "code",
   "outputs": [
    {
     "name": "stderr",
     "output_type": "stream",
     "text": [
      "24/08/22 12:53:50 WARN Instrumentation: [3deb1c8c] regParam is zero, which might cause numerical instability and overfitting.\n",
      "24/08/22 12:53:52 WARN Instrumentation: [3deb1c8c] Cholesky solver failed due to singular covariance matrix. Retrying with Quasi-Newton solver.\n",
      "                                                                                \r"
     ]
    }
   ],
   "source": [
    "model = pipeline_lr.fit(train_data)"
   ],
   "metadata": {
    "collapsed": false,
    "ExecuteTime": {
     "end_time": "2024-08-22T02:53:54.255659Z",
     "start_time": "2024-08-22T02:53:47.851651Z"
    }
   },
   "id": "27532f1de6741a7a",
   "execution_count": 318
  },
  {
   "cell_type": "code",
   "outputs": [
    {
     "data": {
      "text/plain": "DenseVector([0.3516, -0.0033, -0.0296, -0.0324, 0.0357, 0.0453, 0.0034, -0.0186, 0.0, 0.0251, 0.2007, 0.5941, 0.0158, 0.0132, -0.0042, -0.0203, -0.0113])"
     },
     "execution_count": 319,
     "metadata": {},
     "output_type": "execute_result"
    }
   ],
   "source": [
    "model.stages[-1].coefficients"
   ],
   "metadata": {
    "collapsed": false,
    "ExecuteTime": {
     "end_time": "2024-08-22T02:53:54.297916Z",
     "start_time": "2024-08-22T02:53:54.250447Z"
    }
   },
   "id": "904153d6d1987540",
   "execution_count": 319
  },
  {
   "cell_type": "code",
   "outputs": [],
   "source": [
    "predictions = model.transform(test_data)\n",
    "predictions = predictions.withColumn(\"lr_prediction\", expm1(predictions[\"prediction\"]))"
   ],
   "metadata": {
    "collapsed": false,
    "ExecuteTime": {
     "end_time": "2024-08-22T02:53:54.369542Z",
     "start_time": "2024-08-22T02:53:54.286450Z"
    }
   },
   "id": "900d2d724c6168db",
   "execution_count": 320
  },
  {
   "cell_type": "code",
   "outputs": [
    {
     "name": "stderr",
     "output_type": "stream",
     "text": [
      "[Stage 496:>                                                        (0 + 8) / 8]\r"
     ]
    },
    {
     "name": "stdout",
     "output_type": "stream",
     "text": [
      "Root Mean Squared Error (RMSE) on test data = 108.75150745926629\n",
      "R2 on test data = 0.025550634897025026\n"
     ]
    },
    {
     "name": "stderr",
     "output_type": "stream",
     "text": [
      "                                                                                \r"
     ]
    }
   ],
   "source": [
    "evaluator = RegressionEvaluator(\n",
    "    labelCol=\"num_trips\", predictionCol=\"lr_prediction\", metricName=\"rmse\")\n",
    "\n",
    "rmse = evaluator.evaluate(predictions)\n",
    "r2 = evaluator.evaluate(predictions, {evaluator.metricName: \"r2\"})\n",
    "\n",
    "print(f\"Root Mean Squared Error (RMSE) on test data = {rmse}\")\n",
    "print(f\"R2 on test data = {r2}\")"
   ],
   "metadata": {
    "collapsed": false,
    "ExecuteTime": {
     "end_time": "2024-08-22T02:53:55.870579Z",
     "start_time": "2024-08-22T02:53:54.373857Z"
    }
   },
   "id": "aec3d24996644825",
   "execution_count": 321
  },
  {
   "cell_type": "code",
   "outputs": [],
   "source": [
    "errors = predictions.select('pickup_hour_of_day', 'pickup_day_of_week', 'pickup_month', 'num_trips', 'lr_prediction',\n",
    "                            'pickup_num_businesses', \"PULocationID\")"
   ],
   "metadata": {
    "collapsed": false,
    "ExecuteTime": {
     "end_time": "2024-08-22T02:53:55.923574Z",
     "start_time": "2024-08-22T02:53:55.876830Z"
    }
   },
   "id": "57246b5e5e5d08d1",
   "execution_count": 322
  },
  {
   "cell_type": "code",
   "outputs": [],
   "source": [
    "xgb_regressor = SparkXGBRegressor(\n",
    "    features_col=\"scaled_features\",\n",
    "    label_col=\"log_num_trips\",\n",
    "    num_workers=2,\n",
    ")"
   ],
   "metadata": {
    "collapsed": false,
    "ExecuteTime": {
     "end_time": "2024-08-22T02:53:55.924733Z",
     "start_time": "2024-08-22T02:53:55.920355Z"
    }
   },
   "id": "827d91cbfd5b81fd",
   "execution_count": 323
  },
  {
   "cell_type": "code",
   "outputs": [],
   "source": [
    "pipeline_xgb = Pipeline(stages=indexers + encoders + [assembler, scaler, xgb_regressor])"
   ],
   "metadata": {
    "collapsed": false,
    "ExecuteTime": {
     "end_time": "2024-08-22T02:53:55.928806Z",
     "start_time": "2024-08-22T02:53:55.925548Z"
    }
   },
   "id": "2954f77185a3b728",
   "execution_count": 324
  },
  {
   "cell_type": "code",
   "outputs": [
    {
     "name": "stderr",
     "output_type": "stream",
     "text": [
      "2024-08-22 12:53:58,199 INFO XGBoost-PySpark: _fit Running xgboost-2.1.1 on 2 workers with\n",
      "\tbooster params: {'objective': 'reg:squarederror', 'device': 'cpu', 'nthread': 1}\n",
      "\ttrain_call_kwargs_params: {'verbose_eval': True, 'num_boost_round': 100}\n",
      "\tdmatrix_kwargs: {'nthread': 1, 'missing': nan}\n",
      "2024-08-22 12:54:02,806 INFO XGBoost-PySpark: _train_booster Training on CPUs 2]\n",
      "[12:54:03] Task 0 got rank 0\n",
      "[12:54:03] Task 1 got rank 1\n",
      "2024-08-22 12:54:07,625 INFO XGBoost-PySpark: _fit Finished xgboost training!   \n"
     ]
    }
   ],
   "source": [
    "model = pipeline_xgb.fit(train_data)"
   ],
   "metadata": {
    "collapsed": false,
    "ExecuteTime": {
     "end_time": "2024-08-22T02:54:07.728265Z",
     "start_time": "2024-08-22T02:53:55.931634Z"
    }
   },
   "id": "b46e87e9f8b5d314",
   "execution_count": 325
  },
  {
   "cell_type": "code",
   "outputs": [],
   "source": [
    "predictions = model.transform(test_data)\n",
    "predictions = predictions.withColumn(\"xgb_prediction\", expm1(predictions[\"prediction\"]))"
   ],
   "metadata": {
    "collapsed": false,
    "ExecuteTime": {
     "end_time": "2024-08-22T02:54:07.862521Z",
     "start_time": "2024-08-22T02:54:07.725099Z"
    }
   },
   "id": "ec9bcfeb4c09eb9",
   "execution_count": 326
  },
  {
   "cell_type": "code",
   "outputs": [
    {
     "name": "stderr",
     "output_type": "stream",
     "text": [
      "2024-08-22 12:54:10,314 INFO XGBoost-PySpark: predict_udf Do the inference on the CPUs\n",
      "2024-08-22 12:54:10,965 INFO XGBoost-PySpark: predict_udf Do the inference on the CPUs\n",
      "[Stage 509:>                                                        (0 + 8) / 8]\r"
     ]
    },
    {
     "name": "stdout",
     "output_type": "stream",
     "text": [
      "Root Mean Squared Error (RMSE) on test data = 45.34797838647364\n",
      "R2 on test data = 0.8305644379452911\n"
     ]
    },
    {
     "name": "stderr",
     "output_type": "stream",
     "text": [
      "                                                                                \r"
     ]
    }
   ],
   "source": [
    "evaluator = RegressionEvaluator(\n",
    "    labelCol=\"num_trips\", predictionCol=\"xgb_prediction\", metricName=\"rmse\")\n",
    "\n",
    "rmse = evaluator.evaluate(predictions)\n",
    "r2 = evaluator.evaluate(predictions, {evaluator.metricName: \"r2\"})\n",
    "\n",
    "print(f\"Root Mean Squared Error (RMSE) on test data = {rmse}\")\n",
    "print(f\"R2 on test data = {r2}\")"
   ],
   "metadata": {
    "collapsed": false,
    "ExecuteTime": {
     "end_time": "2024-08-22T02:54:12.004733Z",
     "start_time": "2024-08-22T02:54:07.858651Z"
    }
   },
   "id": "3e9aeb7d8eec84b6",
   "execution_count": 327
  },
  {
   "cell_type": "code",
   "outputs": [],
   "source": [
    "# Add XGBoost predictions to errors dataframe based on index\n",
    "errors = errors.withColumn(\"index\", monotonically_increasing_id())\n",
    "predictions = predictions.withColumn(\"index\", monotonically_increasing_id())\n",
    "errors = errors.join(predictions.select(\"index\", \"xgb_prediction\"), \"index\", \"left\").drop(\"index\")"
   ],
   "metadata": {
    "collapsed": false,
    "ExecuteTime": {
     "end_time": "2024-08-22T02:54:12.123705Z",
     "start_time": "2024-08-22T02:54:11.997651Z"
    }
   },
   "id": "d04ec33190c3dc79",
   "execution_count": 328
  },
  {
   "cell_type": "code",
   "outputs": [],
   "source": [
    "decision_tree_regressor = DecisionTreeRegressor(\n",
    "    featuresCol=\"scaled_features\",\n",
    "    labelCol=\"log_num_trips\"\n",
    ")"
   ],
   "metadata": {
    "collapsed": false,
    "ExecuteTime": {
     "end_time": "2024-08-22T02:54:12.142934Z",
     "start_time": "2024-08-22T02:54:12.094811Z"
    }
   },
   "id": "35ba99bf9965c890",
   "execution_count": 329
  },
  {
   "cell_type": "code",
   "outputs": [],
   "source": [
    "pipeline_dt = Pipeline(stages=indexers + encoders + [assembler, scaler, decision_tree_regressor])"
   ],
   "metadata": {
    "collapsed": false,
    "ExecuteTime": {
     "end_time": "2024-08-22T02:54:12.157211Z",
     "start_time": "2024-08-22T02:54:12.142708Z"
    }
   },
   "id": "938cb7bd5f4becfa",
   "execution_count": 330
  },
  {
   "cell_type": "code",
   "outputs": [
    {
     "name": "stderr",
     "output_type": "stream",
     "text": [
      "                                                                                \r"
     ]
    }
   ],
   "source": [
    "model = pipeline_dt.fit(train_data)"
   ],
   "metadata": {
    "collapsed": false,
    "ExecuteTime": {
     "end_time": "2024-08-22T02:54:26.377059Z",
     "start_time": "2024-08-22T02:54:12.145462Z"
    }
   },
   "id": "83c5b7995916fdb7",
   "execution_count": 331
  },
  {
   "cell_type": "code",
   "outputs": [],
   "source": [
    "predictions = model.transform(test_data)\n",
    "predictions = predictions.withColumn(\"dt_prediction\", expm1(predictions[\"prediction\"]))"
   ],
   "metadata": {
    "collapsed": false,
    "ExecuteTime": {
     "end_time": "2024-08-22T02:54:26.470218Z",
     "start_time": "2024-08-22T02:54:26.380196Z"
    }
   },
   "id": "2eb09b8d20f56d8",
   "execution_count": 332
  },
  {
   "cell_type": "code",
   "outputs": [
    {
     "name": "stdout",
     "output_type": "stream",
     "text": [
      "Root Mean Squared Error (RMSE) on test data = 90.82584896577947\n",
      "R2 on test data = 0.3203150749645355\n"
     ]
    }
   ],
   "source": [
    "evaluator = RegressionEvaluator(\n",
    "    labelCol=\"num_trips\", predictionCol=\"dt_prediction\", metricName=\"rmse\")\n",
    "\n",
    "rmse = evaluator.evaluate(predictions)\n",
    "r2 = evaluator.evaluate(predictions, {evaluator.metricName: \"r2\"})\n",
    "\n",
    "print(f\"Root Mean Squared Error (RMSE) on test data = {rmse}\")\n",
    "print(f\"R2 on test data = {r2}\")"
   ],
   "metadata": {
    "collapsed": false,
    "ExecuteTime": {
     "end_time": "2024-08-22T02:54:27.622317Z",
     "start_time": "2024-08-22T02:54:26.473662Z"
    }
   },
   "id": "ffba29bd87d40868",
   "execution_count": 333
  },
  {
   "cell_type": "code",
   "outputs": [],
   "source": [
    "# Add Decision Tree Regressor predictions to errors dataframe based on index\n",
    "errors = errors.withColumn(\"index\", monotonically_increasing_id())\n",
    "predictions = predictions.withColumn(\"index\", monotonically_increasing_id())\n",
    "errors = errors.join(predictions.select(\"index\", \"dt_prediction\"), \"index\", \"left\").drop(\"index\")"
   ],
   "metadata": {
    "collapsed": false,
    "ExecuteTime": {
     "end_time": "2024-08-22T02:54:27.841286Z",
     "start_time": "2024-08-22T02:54:27.623142Z"
    }
   },
   "id": "895cdc77903e155c",
   "execution_count": 334
  },
  {
   "cell_type": "code",
   "outputs": [
    {
     "name": "stderr",
     "output_type": "stream",
     "text": [
      "2024-08-22 12:54:28,984 INFO XGBoost-PySpark: predict_udf Do the inference on the CPUs\n",
      "                                                                                \r"
     ]
    }
   ],
   "source": [
    "errors.write.mode('overwrite').parquet('../data/errors/')"
   ],
   "metadata": {
    "collapsed": false,
    "ExecuteTime": {
     "end_time": "2024-08-22T02:54:30.941023Z",
     "start_time": "2024-08-22T02:54:27.665526Z"
    }
   },
   "id": "899b230c0e5025a1",
   "execution_count": 335
  }
 ],
 "metadata": {
  "kernelspec": {
   "display_name": "Python 3",
   "language": "python",
   "name": "python3"
  },
  "language_info": {
   "codemirror_mode": {
    "name": "ipython",
    "version": 2
   },
   "file_extension": ".py",
   "mimetype": "text/x-python",
   "name": "python",
   "nbconvert_exporter": "python",
   "pygments_lexer": "ipython2",
   "version": "2.7.6"
  }
 },
 "nbformat": 4,
 "nbformat_minor": 5
}
