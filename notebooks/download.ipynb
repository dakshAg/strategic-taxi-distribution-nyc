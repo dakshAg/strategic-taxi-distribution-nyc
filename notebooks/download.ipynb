{
 "cells": [
  {
   "cell_type": "code",
   "outputs": [],
   "source": [
    "import os\n",
    "\n",
    "# from the current `tute_1` directory, go back two levels to the `MAST30034` directory\n",
    "output_relative_dir = '../data/landing/'\n",
    "\n",
    "# check if it exists as it makedir will raise an error if it does exist\n",
    "if not os.path.exists(output_relative_dir):\n",
    "    os.makedirs(output_relative_dir)\n",
    "    \n",
    "# now, for each type of data set we will need, we will create the paths\n",
    "for target_dir in ('tlc_data',): # taxi_zones should already exist\n",
    "    if not os.path.exists(output_relative_dir + target_dir):\n",
    "        os.makedirs(output_relative_dir + target_dir)"
   ],
   "metadata": {
    "collapsed": false,
    "ExecuteTime": {
     "end_time": "2024-08-04T01:34:18.341503Z",
     "start_time": "2024-08-04T01:34:18.336709Z"
    }
   },
   "id": "f28ba828b0d7b05e",
   "execution_count": 4
  },
  {
   "cell_type": "code",
   "execution_count": 5,
   "id": "initial_id",
   "metadata": {
    "collapsed": true,
    "ExecuteTime": {
     "end_time": "2024-08-04T01:34:18.343076Z",
     "start_time": "2024-08-04T01:34:18.340708Z"
    }
   },
   "outputs": [],
   "source": [
    "DATA_RANGE = {\n",
    "    \"2023\": range(7, 13),\n",
    "    \"2024\": range(1, 4),\n",
    "}\n",
    "\n",
    "# this is the URL template as of 07/2023\n",
    "URL_TEMPLATE = \"https://d37ci6vzurychx.cloudfront.net/trip-data/yellow_tripdata_\"#year-month.parquet"
   ]
  },
  {
   "cell_type": "code",
   "outputs": [
    {
     "name": "stdout",
     "output_type": "stream",
     "text": [
      "Begin 07 2023\n",
      "Completed 07 2023\n",
      "Begin 08 2023\n",
      "Completed 08 2023\n",
      "Begin 09 2023\n",
      "Completed 09 2023\n",
      "Begin 10 2023\n",
      "Completed 10 2023\n",
      "Begin 11 2023\n",
      "Completed 11 2023\n",
      "Begin 12 2023\n",
      "Completed 12 2023\n",
      "Begin 01 2024\n",
      "Completed 01 2024\n",
      "Begin 02 2024\n",
      "Completed 02 2024\n",
      "Begin 03 2024\n",
      "Completed 03 2024\n"
     ]
    }
   ],
   "source": [
    "from urllib.request import urlretrieve\n",
    "\n",
    "# data output directory is `data/tlc_data/`\n",
    "tlc_output_dir = output_relative_dir + 'tlc_data'\n",
    "\n",
    "for year in DATA_RANGE:\n",
    "    for month in DATA_RANGE[year]:\n",
    "        # 0-fill i.e 1 -> 01, 2 -> 02, etc\n",
    "        month = str(month).zfill(2) \n",
    "        print(f\"Begin {month} {year}\")\n",
    "        \n",
    "        # generate url\n",
    "        url = f'{URL_TEMPLATE}{year}-{month}.parquet'\n",
    "        # generate output location and filename\n",
    "        output_dir = f\"{tlc_output_dir}/{year}-{month}.parquet\"\n",
    "        # download\n",
    "        urlretrieve(url, output_dir) \n",
    "        \n",
    "        print(f\"Completed {month} {year}\")"
   ],
   "metadata": {
    "collapsed": false,
    "ExecuteTime": {
     "end_time": "2024-08-04T01:35:13.217887Z",
     "start_time": "2024-08-04T01:34:18.343778Z"
    }
   },
   "id": "a995d2e78f167ca5",
   "execution_count": 6
  }
 ],
 "metadata": {
  "kernelspec": {
   "display_name": "Python 3",
   "language": "python",
   "name": "python3"
  },
  "language_info": {
   "codemirror_mode": {
    "name": "ipython",
    "version": 2
   },
   "file_extension": ".py",
   "mimetype": "text/x-python",
   "name": "python",
   "nbconvert_exporter": "python",
   "pygments_lexer": "ipython2",
   "version": "2.7.6"
  }
 },
 "nbformat": 4,
 "nbformat_minor": 5
}
