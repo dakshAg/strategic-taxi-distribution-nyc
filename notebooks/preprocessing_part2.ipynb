{
 "cells": [
  {
   "cell_type": "code",
   "execution_count": 25,
   "id": "initial_id",
   "metadata": {
    "collapsed": true,
    "ExecuteTime": {
     "end_time": "2024-08-10T05:36:01.014575Z",
     "start_time": "2024-08-10T05:36:00.982454Z"
    }
   },
   "outputs": [],
   "source": [
    "from pyspark.sql import SparkSession\n",
    "\n",
    "# Create a spark session (which will run spark jobs)\n",
    "spark = (\n",
    "    SparkSession.builder.appName(\"MAST30034 Tutorial 1\")\n",
    "    .config(\"spark.sql.repl.eagerEval.enabled\", True) \n",
    "    .config(\"spark.sql.parquet.cacheMetadata\", \"true\")\n",
    "    .config(\"spark.sql.session.timeZone\", \"Etc/UTC\")\n",
    "    .getOrCreate()\n",
    ")"
   ]
  },
  {
   "cell_type": "code",
   "outputs": [],
   "source": [
    "sdf_all = spark.read.parquet('../data/raw/tlc_data/')"
   ],
   "metadata": {
    "collapsed": false,
    "ExecuteTime": {
     "end_time": "2024-08-10T05:36:01.248594Z",
     "start_time": "2024-08-10T05:36:01.010719Z"
    }
   },
   "id": "1182aa7f1cbd8cbe",
   "execution_count": 26
  },
  {
   "cell_type": "markdown",
   "source": [
    "## Feature Engineering"
   ],
   "metadata": {
    "collapsed": false
   },
   "id": "96e7680e6617c863"
  },
  {
   "cell_type": "code",
   "outputs": [
    {
     "name": "stdout",
     "output_type": "stream",
     "text": [
      "+--------+--------------------+---------------------+---------------+-------------+----------+------------------+------------+------------+------------+-----------+-----+-------+----------+------------+---------------------+------------+--------------------+-----------+--------+\n",
      "|VendorID|tpep_pickup_datetime|tpep_dropoff_datetime|passenger_count|trip_distance|RatecodeID|store_and_fwd_flag|PULocationID|DOLocationID|payment_type|fare_amount|extra|mta_tax|tip_amount|tolls_amount|improvement_surcharge|total_amount|congestion_surcharge|Airport_fee|duration|\n",
      "+--------+--------------------+---------------------+---------------+-------------+----------+------------------+------------+------------+------------+-----------+-----+-------+----------+------------+---------------------+------------+--------------------+-----------+--------+\n",
      "|       1| 2023-10-01 00:21:18|  2023-10-01 00:27:31|              1|          0.9|         1|                 N|         161|         186|           1|        6.5|  3.5|    0.5|       2.9|         0.0|                  1.0|        14.4|                 2.5|        0.0|     373|\n",
      "|       2| 2023-10-01 00:16:15|  2023-10-01 00:22:57|              2|         1.41|         1|                 N|         151|         239|           1|       10.0|  1.0|    0.5|       3.0|         0.0|                  1.0|        18.0|                 2.5|        0.0|     402|\n",
      "|       2| 2023-10-01 00:33:14|  2023-10-01 00:52:12|              1|         3.15|         1|                 N|         238|         246|           1|       19.8|  1.0|    0.5|      4.46|         0.0|                  1.0|       29.26|                 2.5|        0.0|    1138|\n",
      "|       2| 2023-10-01 00:58:18|  2023-10-01 01:01:20|              2|         0.67|         1|                 N|          50|          50|           1|        5.8|  1.0|    0.5|      2.16|         0.0|                  1.0|       12.96|                 2.5|        0.0|     182|\n",
      "|       2| 2023-10-01 00:11:29|  2023-10-01 00:32:55|              2|        14.93|         1|                 N|         208|         239|           1|       37.3|  1.0|    0.5|     14.77|        6.94|                  1.0|       65.76|                 2.5|       1.75|    1286|\n",
      "+--------+--------------------+---------------------+---------------+-------------+----------+------------------+------------+------------+------------+-----------+-----+-------+----------+------------+---------------------+------------+--------------------+-----------+--------+\n"
     ]
    }
   ],
   "source": [
    "from pyspark.sql.functions import col\n",
    "from pyspark.sql.functions import unix_timestamp\n",
    "\n",
    "sdf_all = sdf_all.withColumn(\"duration\", unix_timestamp(col(\"tpep_dropoff_datetime\"))-unix_timestamp(col(\"tpep_pickup_datetime\")))\n",
    "sdf_all.show(5)"
   ],
   "metadata": {
    "collapsed": false,
    "ExecuteTime": {
     "end_time": "2024-08-10T05:36:01.638928Z",
     "start_time": "2024-08-10T05:36:01.251866Z"
    }
   },
   "id": "28b21d8bfa01617d",
   "execution_count": 27
  },
  {
   "cell_type": "code",
   "outputs": [
    {
     "name": "stderr",
     "output_type": "stream",
     "text": [
      "[Stage 37:===================================================>      (8 + 1) / 9]\r"
     ]
    },
    {
     "name": "stdout",
     "output_type": "stream",
     "text": [
      "Removing rows with non-positive duration 1238\n"
     ]
    },
    {
     "name": "stderr",
     "output_type": "stream",
     "text": [
      "                                                                                \r"
     ]
    }
   ],
   "source": [
    "print(\"Removing rows with non-positive duration\", sdf_all.filter((col('duration') <= 0)).count())\n",
    "sdf_all = sdf_all.filter((col('duration') > 0))"
   ],
   "metadata": {
    "collapsed": false,
    "ExecuteTime": {
     "end_time": "2024-08-10T05:36:02.589450Z",
     "start_time": "2024-08-10T05:36:01.637235Z"
    }
   },
   "id": "210e7b5756cde21",
   "execution_count": 28
  },
  {
   "cell_type": "code",
   "outputs": [
    {
     "name": "stdout",
     "output_type": "stream",
     "text": [
      "+--------+--------------------+---------------------+---------------+-------------+----------+------------------+------------+------------+------------+-----------+-----+-------+----------+------------+---------------------+------------+--------------------+-----------+--------+-----------------+\n",
      "|VendorID|tpep_pickup_datetime|tpep_dropoff_datetime|passenger_count|trip_distance|RatecodeID|store_and_fwd_flag|PULocationID|DOLocationID|payment_type|fare_amount|extra|mta_tax|tip_amount|tolls_amount|improvement_surcharge|total_amount|congestion_surcharge|Airport_fee|duration|           profit|\n",
      "+--------+--------------------+---------------------+---------------+-------------+----------+------------------+------------+------------+------------+-----------+-----+-------+----------+------------+---------------------+------------+--------------------+-----------+--------+-----------------+\n",
      "|       1| 2023-10-01 00:21:18|  2023-10-01 00:27:31|              1|          0.9|         1|                 N|         161|         186|           1|        6.5|  3.5|    0.5|       2.9|         0.0|                  1.0|        14.4|                 2.5|        0.0|     373|             12.9|\n",
      "|       2| 2023-10-01 00:16:15|  2023-10-01 00:22:57|              2|         1.41|         1|                 N|         151|         239|           1|       10.0|  1.0|    0.5|       3.0|         0.0|                  1.0|        18.0|                 2.5|        0.0|     402|             14.0|\n",
      "|       2| 2023-10-01 00:33:14|  2023-10-01 00:52:12|              1|         3.15|         1|                 N|         238|         246|           1|       19.8|  1.0|    0.5|      4.46|         0.0|                  1.0|       29.26|                 2.5|        0.0|    1138|            25.26|\n",
      "|       2| 2023-10-01 00:58:18|  2023-10-01 01:01:20|              2|         0.67|         1|                 N|          50|          50|           1|        5.8|  1.0|    0.5|      2.16|         0.0|                  1.0|       12.96|                 2.5|        0.0|     182|             8.96|\n",
      "|       2| 2023-10-01 00:11:29|  2023-10-01 00:32:55|              2|        14.93|         1|                 N|         208|         239|           1|       37.3|  1.0|    0.5|     14.77|        6.94|                  1.0|       65.76|                 2.5|       1.75|    1286|53.06999999999999|\n",
      "+--------+--------------------+---------------------+---------------+-------------+----------+------------------+------------+------------+------------+-----------+-----+-------+----------+------------+---------------------+------------+--------------------+-----------+--------+-----------------+\n"
     ]
    }
   ],
   "source": [
    "sdf_all = sdf_all.withColumn(\"profit\", col(\"Fare_amount\") + col(\"Extra\") + col(\"Tip_amount\"))\n",
    "sdf_all.show(5)"
   ],
   "metadata": {
    "collapsed": false,
    "ExecuteTime": {
     "end_time": "2024-08-10T05:36:02.727335Z",
     "start_time": "2024-08-10T05:36:02.587254Z"
    }
   },
   "id": "1413add9a38e2ee2",
   "execution_count": 29
  },
  {
   "cell_type": "code",
   "outputs": [
    {
     "name": "stdout",
     "output_type": "stream",
     "text": [
      "+--------+--------------------+---------------------+---------------+-------------+----------+------------------+------------+------------+------------+-----------+-----+-------+----------+------------+---------------------+------------+--------------------+-----------+--------+-----------------+------------------+\n",
      "|VendorID|tpep_pickup_datetime|tpep_dropoff_datetime|passenger_count|trip_distance|RatecodeID|store_and_fwd_flag|PULocationID|DOLocationID|payment_type|fare_amount|extra|mta_tax|tip_amount|tolls_amount|improvement_surcharge|total_amount|congestion_surcharge|Airport_fee|duration|           profit| profit_per_minute|\n",
      "+--------+--------------------+---------------------+---------------+-------------+----------+------------------+------------+------------+------------+-----------+-----+-------+----------+------------+---------------------+------------+--------------------+-----------+--------+-----------------+------------------+\n",
      "|       1| 2023-10-01 00:21:18|  2023-10-01 00:27:31|              1|          0.9|         1|                 N|         161|         186|           1|        6.5|  3.5|    0.5|       2.9|         0.0|                  1.0|        14.4|                 2.5|        0.0|     373|             12.9|2.0750670241286864|\n",
      "|       2| 2023-10-01 00:16:15|  2023-10-01 00:22:57|              2|         1.41|         1|                 N|         151|         239|           1|       10.0|  1.0|    0.5|       3.0|         0.0|                  1.0|        18.0|                 2.5|        0.0|     402|             14.0|2.0895522388059704|\n",
      "|       2| 2023-10-01 00:33:14|  2023-10-01 00:52:12|              1|         3.15|         1|                 N|         238|         246|           1|       19.8|  1.0|    0.5|      4.46|         0.0|                  1.0|       29.26|                 2.5|        0.0|    1138|            25.26|1.3318101933216169|\n",
      "|       2| 2023-10-01 00:58:18|  2023-10-01 01:01:20|              2|         0.67|         1|                 N|          50|          50|           1|        5.8|  1.0|    0.5|      2.16|         0.0|                  1.0|       12.96|                 2.5|        0.0|     182|             8.96|2.9538461538461545|\n",
      "|       2| 2023-10-01 00:11:29|  2023-10-01 00:32:55|              2|        14.93|         1|                 N|         208|         239|           1|       37.3|  1.0|    0.5|     14.77|        6.94|                  1.0|       65.76|                 2.5|       1.75|    1286|53.06999999999999|2.4760497667185066|\n",
      "+--------+--------------------+---------------------+---------------+-------------+----------+------------------+------------+------------+------------+-----------+-----+-------+----------+------------+---------------------+------------+--------------------+-----------+--------+-----------------+------------------+\n"
     ]
    }
   ],
   "source": [
    "sdf_all = sdf_all.withColumn(\"profit_per_minute\", col(\"profit\") / col(\"duration\") * 60)\n",
    "sdf_all.show(5)"
   ],
   "metadata": {
    "collapsed": false,
    "ExecuteTime": {
     "end_time": "2024-08-10T05:36:02.873131Z",
     "start_time": "2024-08-10T05:36:02.726341Z"
    }
   },
   "id": "5f08284d07b357b1",
   "execution_count": 30
  },
  {
   "cell_type": "markdown",
   "source": [
    "## Merging "
   ],
   "metadata": {
    "collapsed": false
   },
   "id": "a0d1703d720f6f52"
  },
  {
   "cell_type": "code",
   "outputs": [],
   "source": [
    "SAMPLE_SIZE = 0.05"
   ],
   "metadata": {
    "collapsed": false,
    "ExecuteTime": {
     "end_time": "2024-08-10T05:36:02.873726Z",
     "start_time": "2024-08-10T05:36:02.862384Z"
    }
   },
   "id": "86af18d4cf1ca436",
   "execution_count": 31
  },
  {
   "cell_type": "code",
   "outputs": [
    {
     "name": "stderr",
     "output_type": "stream",
     "text": [
      "24/08/10 15:36:03 WARN MemoryManager: Total allocation exceeds 95.00% (1,020,054,720 bytes) of heap memory\n",
      "Scaling row group sizes to 95.00% for 8 writers\n",
      "24/08/10 15:36:06 WARN MemoryManager: Total allocation exceeds 95.00% (1,020,054,720 bytes) of heap memory\n",
      "Scaling row group sizes to 95.00% for 8 writers\n",
      "                                                                                \r"
     ]
    }
   ],
   "source": [
    "# Sample the data for plotting\n",
    "sample_df = sdf_all.sample(SAMPLE_SIZE, seed=0)\n",
    "sample_df.write.mode('overwrite').parquet('../data/sample/tlc_data')"
   ],
   "metadata": {
    "collapsed": false,
    "ExecuteTime": {
     "end_time": "2024-08-10T05:36:07.343162Z",
     "start_time": "2024-08-10T05:36:02.867057Z"
    }
   },
   "id": "c09d532cc872f0c0",
   "execution_count": 32
  }
 ],
 "metadata": {
  "kernelspec": {
   "display_name": "Python 3",
   "language": "python",
   "name": "python3"
  },
  "language_info": {
   "codemirror_mode": {
    "name": "ipython",
    "version": 2
   },
   "file_extension": ".py",
   "mimetype": "text/x-python",
   "name": "python",
   "nbconvert_exporter": "python",
   "pygments_lexer": "ipython2",
   "version": "2.7.6"
  }
 },
 "nbformat": 4,
 "nbformat_minor": 5
}
