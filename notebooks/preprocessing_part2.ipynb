{
 "cells": [
  {
   "cell_type": "code",
   "outputs": [],
   "source": [
    "from pyspark.sql import SparkSession\n",
    "from pyspark.sql.functions import unix_timestamp\n",
    "from pyspark.sql.functions import hour, dayofweek, month"
   ],
   "metadata": {
    "collapsed": false,
    "ExecuteTime": {
     "end_time": "2024-08-20T09:20:59.238891Z",
     "start_time": "2024-08-20T09:20:59.156400Z"
    }
   },
   "id": "171d76332bcbc848",
   "execution_count": 45
  },
  {
   "cell_type": "code",
   "execution_count": 46,
   "id": "initial_id",
   "metadata": {
    "collapsed": true,
    "ExecuteTime": {
     "end_time": "2024-08-20T09:20:59.263850Z",
     "start_time": "2024-08-20T09:20:59.174995Z"
    }
   },
   "outputs": [],
   "source": [
    "# Create a spark session (which will run spark jobs)\n",
    "spark = (\n",
    "    SparkSession.builder.appName(\"MAST30034 Tutorial 1\")\n",
    "    .config(\"spark.sql.repl.eagerEval.enabled\", True)\n",
    "    .config(\"spark.sql.parquet.cacheMetadata\", \"true\")\n",
    "    .config(\"spark.sql.session.timeZone\", \"Etc/UTC\")\n",
    "    .config(\"spark.driver.memory\", \"15g\")\n",
    "    .getOrCreate()\n",
    ")"
   ]
  },
  {
   "cell_type": "code",
   "outputs": [],
   "source": [
    "tlc_all = spark.read.parquet('../data/raw/tlc_data/')"
   ],
   "metadata": {
    "collapsed": false,
    "ExecuteTime": {
     "end_time": "2024-08-20T09:20:59.303197Z",
     "start_time": "2024-08-20T09:20:59.196625Z"
    }
   },
   "id": "1182aa7f1cbd8cbe",
   "execution_count": 47
  },
  {
   "cell_type": "markdown",
   "source": [
    "## Feature Engineering"
   ],
   "metadata": {
    "collapsed": false
   },
   "id": "96e7680e6617c863"
  },
  {
   "cell_type": "code",
   "outputs": [
    {
     "name": "stdout",
     "output_type": "stream",
     "text": [
      "+-----------------+--------------------+-------------------+-------------------+-------------------+------------+------------+----------+---------+-------------------+-----+----+---------+--------------------+-----------+----+----------+-------------------+-----------------+------------------+----------------+--------------+------------------+------------------+------------+\n",
      "|hvfhs_license_num|dispatching_base_num|   request_datetime|    pickup_datetime|   dropoff_datetime|PULocationID|DOLocationID|trip_miles|trip_time|base_passenger_fare|tolls| bcf|sales_tax|congestion_surcharge|airport_fee|tips|driver_pay|shared_request_flag|shared_match_flag|access_a_ride_flag|wav_request_flag|wav_match_flag|pickup_hour_of_day|pickup_day_of_week|pickup_month|\n",
      "+-----------------+--------------------+-------------------+-------------------+-------------------+------------+------------+----------+---------+-------------------+-----+----+---------+--------------------+-----------+----+----------+-------------------+-----------------+------------------+----------------+--------------+------------------+------------------+------------+\n",
      "|           HV0003|              B03404|2022-03-01 00:31:18|2022-03-01 00:35:04|2022-03-01 00:43:48|         177|          61|      1.72|      524|               8.18|  0.0|0.25|     0.73|                 0.0|        0.0| 3.0|      6.62|                  N|                N|                  |               N|             N|                 0|                 3|           3|\n",
      "|           HV0003|              B03404|2022-03-01 00:25:25|2022-03-01 00:28:42|2022-03-01 00:41:40|         114|          65|      3.27|      778|              15.08|  0.0|0.45|     1.34|                2.75|        0.0| 3.0|     10.66|                  N|                N|                  |               N|             N|                 0|                 3|           3|\n",
      "|           HV0005|              B03406|2022-03-01 00:08:50|2022-03-01 00:14:24|2022-03-01 00:24:46|         209|         144|     1.433|      622|              16.65|  0.0| 0.5|     1.48|                2.75|        0.0| 0.0|     14.69|                  N|                N|                 N|               N|             N|                 0|                 3|           3|\n",
      "|           HV0003|              B03404|2022-03-01 00:01:47|2022-03-01 00:04:35|2022-03-01 00:22:57|          74|         134|     10.86|     1102|              27.38| 6.55|1.02|     3.01|                 0.0|        0.0| 0.0|     22.32|                  N|                N|                  |               N|             N|                 0|                 3|           3|\n",
      "|           HV0003|              B03404|2022-03-01 00:31:55|2022-03-01 00:33:16|2022-03-01 00:40:13|          95|          95|      1.51|      417|               9.36|  0.0|0.28|     0.83|                 0.0|        0.0| 3.0|      5.44|                  N|                N|                  |               N|             N|                 0|                 3|           3|\n",
      "+-----------------+--------------------+-------------------+-------------------+-------------------+------------+------------+----------+---------+-------------------+-----+----+---------+--------------------+-----------+----+----------+-------------------+-----------------+------------------+----------------+--------------+------------------+------------------+------------+\n"
     ]
    }
   ],
   "source": [
    "# Add column for hour of day and day of week\n",
    "tlc_all = tlc_all.withColumn(\"pickup_hour_of_day\", hour(\"pickup_datetime\"))\n",
    "tlc_all = tlc_all.withColumn(\"pickup_day_of_week\", dayofweek(\"pickup_datetime\"))\n",
    "tlc_all = tlc_all.withColumn(\"pickup_month\", month(\"pickup_datetime\"))\n",
    "tlc_all.show(5)"
   ],
   "metadata": {
    "collapsed": false,
    "ExecuteTime": {
     "end_time": "2024-08-20T09:20:59.802516Z",
     "start_time": "2024-08-20T09:20:59.306862Z"
    }
   },
   "id": "97adcbff8cc2180c",
   "execution_count": 48
  },
  {
   "cell_type": "code",
   "outputs": [],
   "source": [
    "# Add column for waiting time\n",
    "tlc_all = tlc_all.withColumn(\"waiting_time\", unix_timestamp(\"pickup_datetime\") - unix_timestamp(\"request_datetime\"))"
   ],
   "metadata": {
    "collapsed": false,
    "ExecuteTime": {
     "end_time": "2024-08-20T09:20:59.817051Z",
     "start_time": "2024-08-20T09:20:59.798427Z"
    }
   },
   "id": "22c83801841a891f",
   "execution_count": 49
  },
  {
   "cell_type": "code",
   "outputs": [
    {
     "name": "stdout",
     "output_type": "stream",
     "text": [
      "+----------+-------------+--------------------+------------+\n",
      "|LocationID|      Borough|                Zone|service_zone|\n",
      "+----------+-------------+--------------------+------------+\n",
      "|         1|          EWR|      Newark Airport|         EWR|\n",
      "|         2|       Queens|         Jamaica Bay|   Boro Zone|\n",
      "|         3|        Bronx|Allerton/Pelham G...|   Boro Zone|\n",
      "|         4|    Manhattan|       Alphabet City| Yellow Zone|\n",
      "|         5|Staten Island|       Arden Heights|   Boro Zone|\n",
      "|         6|Staten Island|Arrochar/Fort Wad...|   Boro Zone|\n",
      "|         7|       Queens|             Astoria|   Boro Zone|\n",
      "|         8|       Queens|        Astoria Park|   Boro Zone|\n",
      "|         9|       Queens|          Auburndale|   Boro Zone|\n",
      "|        10|       Queens|        Baisley Park|   Boro Zone|\n",
      "+----------+-------------+--------------------+------------+\n"
     ]
    },
    {
     "name": "stderr",
     "output_type": "stream",
     "text": [
      "                                                                                \r"
     ]
    }
   ],
   "source": [
    "zones = spark.read.csv(\"../data/taxi_zones/taxi+_zone_lookup.csv\", header=True)\n",
    "zones.show(10)"
   ],
   "metadata": {
    "collapsed": false,
    "ExecuteTime": {
     "end_time": "2024-08-20T09:21:01.113285Z",
     "start_time": "2024-08-20T09:20:59.811655Z"
    }
   },
   "id": "7a904fe20c2d7b0a",
   "execution_count": 50
  },
  {
   "cell_type": "markdown",
   "source": [
    "### Aggregating the movement data, to use in movement_plot.ipynb"
   ],
   "metadata": {
    "collapsed": false
   },
   "id": "6d3c6dfc88033f0e"
  },
  {
   "cell_type": "code",
   "outputs": [],
   "source": [
    "# Merge the data with the shapefile\n",
    "tlc_all = tlc_all.alias(\"tlc\")\\\n",
    "    .join(zones.alias(\"zone\"), tlc_all.PULocationID == zones.LocationID, how='left')\\\n",
    "    .select(\"tlc.*\", \"zone.Borough\")\\\n",
    "    .withColumnRenamed(\"Borough\", \"pickup_borough\")\n",
    "tlc_all = tlc_all.alias(\"tlc\")\\\n",
    "    .join(zones.alias(\"zone\"), tlc_all.DOLocationID == zones.LocationID, how='left')\\\n",
    "    .select(\"tlc.*\", \"zone.Borough\")\\\n",
    "    .withColumnRenamed(\"Borough\", \"dropoff_borough\")"
   ],
   "metadata": {
    "collapsed": false,
    "ExecuteTime": {
     "end_time": "2024-08-20T09:21:01.318141Z",
     "start_time": "2024-08-20T09:21:01.028691Z"
    }
   },
   "id": "e05105865bcc3829",
   "execution_count": 51
  },
  {
   "cell_type": "code",
   "outputs": [],
   "source": [
    "movement_aggregates = tlc_all.groupBy('pickup_borough', 'dropoff_borough', 'pickup_hour_of_day').agg({\n",
    "    '*': 'count',\n",
    "})\n",
    "movement_aggregates = movement_aggregates.withColumnRenamed('count(1)', 'num_trips')"
   ],
   "metadata": {
    "collapsed": false,
    "ExecuteTime": {
     "end_time": "2024-08-20T09:21:01.418013Z",
     "start_time": "2024-08-20T09:21:01.174457Z"
    }
   },
   "id": "d2bd35550affe2d",
   "execution_count": 52
  },
  {
   "cell_type": "code",
   "outputs": [
    {
     "name": "stderr",
     "output_type": "stream",
     "text": [
      "ERROR:root:KeyboardInterrupt while sending command.                (0 + 8) / 23]\n",
      "Traceback (most recent call last):\n",
      "  File \"/Users/dakshagrawal/Documents/GitHub/project-1-individual-dakshAg-v2/.venv/lib/python3.12/site-packages/py4j/java_gateway.py\", line 1038, in send_command\n",
      "    response = connection.send_command(command)\n",
      "               ^^^^^^^^^^^^^^^^^^^^^^^^^^^^^^^^\n",
      "  File \"/Users/dakshagrawal/Documents/GitHub/project-1-individual-dakshAg-v2/.venv/lib/python3.12/site-packages/py4j/clientserver.py\", line 511, in send_command\n",
      "    answer = smart_decode(self.stream.readline()[:-1])\n",
      "                          ^^^^^^^^^^^^^^^^^^^^^^\n",
      "  File \"/Library/Frameworks/Python.framework/Versions/3.12/lib/python3.12/socket.py\", line 707, in readinto\n",
      "    return self._sock.recv_into(b)\n",
      "           ^^^^^^^^^^^^^^^^^^^^^^^\n",
      "KeyboardInterrupt\n",
      "[Stage 89:===================>                                     (8 + 8) / 23]\r"
     ]
    },
    {
     "ename": "KeyboardInterrupt",
     "evalue": "",
     "output_type": "error",
     "traceback": [
      "\u001B[0;31m---------------------------------------------------------------------------\u001B[0m",
      "\u001B[0;31mKeyboardInterrupt\u001B[0m                         Traceback (most recent call last)",
      "Cell \u001B[0;32mIn[53], line 1\u001B[0m\n\u001B[0;32m----> 1\u001B[0m \u001B[43mmovement_aggregates\u001B[49m\u001B[38;5;241;43m.\u001B[39;49m\u001B[43mwrite\u001B[49m\u001B[38;5;241;43m.\u001B[39;49m\u001B[43mmode\u001B[49m\u001B[43m(\u001B[49m\u001B[38;5;124;43m'\u001B[39;49m\u001B[38;5;124;43moverwrite\u001B[39;49m\u001B[38;5;124;43m'\u001B[39;49m\u001B[43m)\u001B[49m\u001B[38;5;241;43m.\u001B[39;49m\u001B[43mparquet\u001B[49m\u001B[43m(\u001B[49m\u001B[38;5;124;43m'\u001B[39;49m\u001B[38;5;124;43m../data/movement_aggregates\u001B[39;49m\u001B[38;5;124;43m'\u001B[39;49m\u001B[43m)\u001B[49m\n",
      "File \u001B[0;32m~/Documents/GitHub/project-1-individual-dakshAg-v2/.venv/lib/python3.12/site-packages/pyspark/sql/readwriter.py:1721\u001B[0m, in \u001B[0;36mDataFrameWriter.parquet\u001B[0;34m(self, path, mode, partitionBy, compression)\u001B[0m\n\u001B[1;32m   1719\u001B[0m     \u001B[38;5;28mself\u001B[39m\u001B[38;5;241m.\u001B[39mpartitionBy(partitionBy)\n\u001B[1;32m   1720\u001B[0m \u001B[38;5;28mself\u001B[39m\u001B[38;5;241m.\u001B[39m_set_opts(compression\u001B[38;5;241m=\u001B[39mcompression)\n\u001B[0;32m-> 1721\u001B[0m \u001B[38;5;28;43mself\u001B[39;49m\u001B[38;5;241;43m.\u001B[39;49m\u001B[43m_jwrite\u001B[49m\u001B[38;5;241;43m.\u001B[39;49m\u001B[43mparquet\u001B[49m\u001B[43m(\u001B[49m\u001B[43mpath\u001B[49m\u001B[43m)\u001B[49m\n",
      "File \u001B[0;32m~/Documents/GitHub/project-1-individual-dakshAg-v2/.venv/lib/python3.12/site-packages/py4j/java_gateway.py:1321\u001B[0m, in \u001B[0;36mJavaMember.__call__\u001B[0;34m(self, *args)\u001B[0m\n\u001B[1;32m   1314\u001B[0m args_command, temp_args \u001B[38;5;241m=\u001B[39m \u001B[38;5;28mself\u001B[39m\u001B[38;5;241m.\u001B[39m_build_args(\u001B[38;5;241m*\u001B[39margs)\n\u001B[1;32m   1316\u001B[0m command \u001B[38;5;241m=\u001B[39m proto\u001B[38;5;241m.\u001B[39mCALL_COMMAND_NAME \u001B[38;5;241m+\u001B[39m\\\n\u001B[1;32m   1317\u001B[0m     \u001B[38;5;28mself\u001B[39m\u001B[38;5;241m.\u001B[39mcommand_header \u001B[38;5;241m+\u001B[39m\\\n\u001B[1;32m   1318\u001B[0m     args_command \u001B[38;5;241m+\u001B[39m\\\n\u001B[1;32m   1319\u001B[0m     proto\u001B[38;5;241m.\u001B[39mEND_COMMAND_PART\n\u001B[0;32m-> 1321\u001B[0m answer \u001B[38;5;241m=\u001B[39m \u001B[38;5;28;43mself\u001B[39;49m\u001B[38;5;241;43m.\u001B[39;49m\u001B[43mgateway_client\u001B[49m\u001B[38;5;241;43m.\u001B[39;49m\u001B[43msend_command\u001B[49m\u001B[43m(\u001B[49m\u001B[43mcommand\u001B[49m\u001B[43m)\u001B[49m\n\u001B[1;32m   1322\u001B[0m return_value \u001B[38;5;241m=\u001B[39m get_return_value(\n\u001B[1;32m   1323\u001B[0m     answer, \u001B[38;5;28mself\u001B[39m\u001B[38;5;241m.\u001B[39mgateway_client, \u001B[38;5;28mself\u001B[39m\u001B[38;5;241m.\u001B[39mtarget_id, \u001B[38;5;28mself\u001B[39m\u001B[38;5;241m.\u001B[39mname)\n\u001B[1;32m   1325\u001B[0m \u001B[38;5;28;01mfor\u001B[39;00m temp_arg \u001B[38;5;129;01min\u001B[39;00m temp_args:\n",
      "File \u001B[0;32m~/Documents/GitHub/project-1-individual-dakshAg-v2/.venv/lib/python3.12/site-packages/py4j/java_gateway.py:1038\u001B[0m, in \u001B[0;36mGatewayClient.send_command\u001B[0;34m(self, command, retry, binary)\u001B[0m\n\u001B[1;32m   1036\u001B[0m connection \u001B[38;5;241m=\u001B[39m \u001B[38;5;28mself\u001B[39m\u001B[38;5;241m.\u001B[39m_get_connection()\n\u001B[1;32m   1037\u001B[0m \u001B[38;5;28;01mtry\u001B[39;00m:\n\u001B[0;32m-> 1038\u001B[0m     response \u001B[38;5;241m=\u001B[39m \u001B[43mconnection\u001B[49m\u001B[38;5;241;43m.\u001B[39;49m\u001B[43msend_command\u001B[49m\u001B[43m(\u001B[49m\u001B[43mcommand\u001B[49m\u001B[43m)\u001B[49m\n\u001B[1;32m   1039\u001B[0m     \u001B[38;5;28;01mif\u001B[39;00m binary:\n\u001B[1;32m   1040\u001B[0m         \u001B[38;5;28;01mreturn\u001B[39;00m response, \u001B[38;5;28mself\u001B[39m\u001B[38;5;241m.\u001B[39m_create_connection_guard(connection)\n",
      "File \u001B[0;32m~/Documents/GitHub/project-1-individual-dakshAg-v2/.venv/lib/python3.12/site-packages/py4j/clientserver.py:511\u001B[0m, in \u001B[0;36mClientServerConnection.send_command\u001B[0;34m(self, command)\u001B[0m\n\u001B[1;32m    509\u001B[0m \u001B[38;5;28;01mtry\u001B[39;00m:\n\u001B[1;32m    510\u001B[0m     \u001B[38;5;28;01mwhile\u001B[39;00m \u001B[38;5;28;01mTrue\u001B[39;00m:\n\u001B[0;32m--> 511\u001B[0m         answer \u001B[38;5;241m=\u001B[39m smart_decode(\u001B[38;5;28;43mself\u001B[39;49m\u001B[38;5;241;43m.\u001B[39;49m\u001B[43mstream\u001B[49m\u001B[38;5;241;43m.\u001B[39;49m\u001B[43mreadline\u001B[49m\u001B[43m(\u001B[49m\u001B[43m)\u001B[49m[:\u001B[38;5;241m-\u001B[39m\u001B[38;5;241m1\u001B[39m])\n\u001B[1;32m    512\u001B[0m         logger\u001B[38;5;241m.\u001B[39mdebug(\u001B[38;5;124m\"\u001B[39m\u001B[38;5;124mAnswer received: \u001B[39m\u001B[38;5;132;01m{0}\u001B[39;00m\u001B[38;5;124m\"\u001B[39m\u001B[38;5;241m.\u001B[39mformat(answer))\n\u001B[1;32m    513\u001B[0m         \u001B[38;5;66;03m# Happens when a the other end is dead. There might be an empty\u001B[39;00m\n\u001B[1;32m    514\u001B[0m         \u001B[38;5;66;03m# answer before the socket raises an error.\u001B[39;00m\n",
      "File \u001B[0;32m/Library/Frameworks/Python.framework/Versions/3.12/lib/python3.12/socket.py:707\u001B[0m, in \u001B[0;36mSocketIO.readinto\u001B[0;34m(self, b)\u001B[0m\n\u001B[1;32m    705\u001B[0m \u001B[38;5;28;01mwhile\u001B[39;00m \u001B[38;5;28;01mTrue\u001B[39;00m:\n\u001B[1;32m    706\u001B[0m     \u001B[38;5;28;01mtry\u001B[39;00m:\n\u001B[0;32m--> 707\u001B[0m         \u001B[38;5;28;01mreturn\u001B[39;00m \u001B[38;5;28;43mself\u001B[39;49m\u001B[38;5;241;43m.\u001B[39;49m\u001B[43m_sock\u001B[49m\u001B[38;5;241;43m.\u001B[39;49m\u001B[43mrecv_into\u001B[49m\u001B[43m(\u001B[49m\u001B[43mb\u001B[49m\u001B[43m)\u001B[49m\n\u001B[1;32m    708\u001B[0m     \u001B[38;5;28;01mexcept\u001B[39;00m timeout:\n\u001B[1;32m    709\u001B[0m         \u001B[38;5;28mself\u001B[39m\u001B[38;5;241m.\u001B[39m_timeout_occurred \u001B[38;5;241m=\u001B[39m \u001B[38;5;28;01mTrue\u001B[39;00m\n",
      "\u001B[0;31mKeyboardInterrupt\u001B[0m: "
     ]
    }
   ],
   "source": [
    "movement_aggregates.write.mode('overwrite').parquet('../data/movement_aggregates')"
   ],
   "metadata": {
    "collapsed": false,
    "ExecuteTime": {
     "end_time": "2024-08-20T09:21:23.334277Z",
     "start_time": "2024-08-20T09:21:01.211019Z"
    }
   },
   "id": "1551f5fdcd00bc60",
   "execution_count": 53
  },
  {
   "cell_type": "code",
   "outputs": [],
   "source": [
    "tlc_gdf = tlc_all.join("
   ],
   "metadata": {
    "collapsed": false,
    "ExecuteTime": {
     "start_time": "2024-08-20T09:21:23.317784Z"
    }
   },
   "id": "ac3cfb73bfedd66c",
   "execution_count": null
  },
  {
   "cell_type": "code",
   "outputs": [],
   "source": [],
   "metadata": {
    "collapsed": false,
    "ExecuteTime": {
     "start_time": "2024-08-20T09:21:23.322395Z"
    }
   },
   "id": "c54957528a34c0b0",
   "execution_count": null
  },
  {
   "cell_type": "code",
   "outputs": [],
   "source": [
    "geoJSON = gdf[['LocationID', 'geometry']].drop_duplicates('LocationID').to_json()\n",
    "print(geoJSON[:300])"
   ],
   "metadata": {
    "collapsed": false,
    "ExecuteTime": {
     "start_time": "2024-08-20T09:21:23.322505Z"
    }
   },
   "id": "574bb244aebe8cef",
   "execution_count": null
  },
  {
   "cell_type": "code",
   "outputs": [],
   "source": [
    "tlc_aggregated = tlc_all.groupBy('PULocationID','pickup_hour_of_day', 'pickup_day_of_week', 'hvfhs_license_num', \"pickup_month\").agg(\n",
    "    {\n",
    "        'trip_miles': 'mean',\n",
    "        'trip_time': 'mean',\n",
    "        'base_passenger_fare': 'mean',\n",
    "        'driver_pay': 'mean',\n",
    "        '*': 'count'\n",
    "    }\n",
    ").withColumnRenamed('count(1)', 'num_trips')\n",
    "print(tlc_aggregated.count())"
   ],
   "metadata": {
    "collapsed": false,
    "ExecuteTime": {
     "start_time": "2024-08-20T09:21:23.323434Z"
    }
   },
   "id": "6e689e2adb627fce",
   "execution_count": null
  },
  {
   "cell_type": "code",
   "outputs": [],
   "source": [
    "from pyspark.sql.functions import col\n",
    "\n",
    "tlc_aggregated = tlc_aggregated.join(\n",
    "    spark.createDataFrame(proportions.reset_index()).withColumn(\"PULocationID\", col(\"LocationID\").cast(\"int\")),\n",
    "    on='PULocationID',\n",
    "    how='left')\n"
   ],
   "metadata": {
    "collapsed": false,
    "ExecuteTime": {
     "start_time": "2024-08-20T09:21:23.324143Z"
    }
   },
   "id": "6a7e405e6fd97f5",
   "execution_count": null
  },
  {
   "cell_type": "code",
   "outputs": [],
   "source": [],
   "metadata": {
    "collapsed": false,
    "ExecuteTime": {
     "start_time": "2024-08-20T09:21:23.324195Z"
    }
   },
   "id": "433598a41aa95058",
   "execution_count": null
  },
  {
   "cell_type": "code",
   "outputs": [],
   "source": [
    "# tlc_all.write.mode('overwrite').parquet('../data/curated/tlc_data')"
   ],
   "metadata": {
    "collapsed": false,
    "ExecuteTime": {
     "start_time": "2024-08-20T09:21:23.324270Z"
    }
   },
   "id": "ecce73c1b48f5758",
   "execution_count": null
  },
  {
   "cell_type": "code",
   "outputs": [],
   "source": [
    "SAMPLE_SIZE = 0.05"
   ],
   "metadata": {
    "collapsed": false,
    "ExecuteTime": {
     "start_time": "2024-08-20T09:21:23.324326Z"
    }
   },
   "id": "86af18d4cf1ca436",
   "execution_count": null
  },
  {
   "cell_type": "code",
   "outputs": [],
   "source": [
    "# Sample the data for plotting\n",
    "sample_df = tlc_all.sample(SAMPLE_SIZE, seed=0)\n",
    "sample_df.write.mode('overwrite').parquet('../data/sample/tlc_data')"
   ],
   "metadata": {
    "collapsed": false,
    "ExecuteTime": {
     "start_time": "2024-08-20T09:21:23.325210Z"
    }
   },
   "id": "c09d532cc872f0c0",
   "execution_count": null
  },
  {
   "cell_type": "code",
   "outputs": [],
   "source": [],
   "metadata": {
    "collapsed": false,
    "ExecuteTime": {
     "start_time": "2024-08-20T09:21:23.327747Z"
    }
   },
   "id": "989af8618d94a6cd",
   "execution_count": null
  }
 ],
 "metadata": {
  "kernelspec": {
   "display_name": "Python 3",
   "language": "python",
   "name": "python3"
  },
  "language_info": {
   "codemirror_mode": {
    "name": "ipython",
    "version": 2
   },
   "file_extension": ".py",
   "mimetype": "text/x-python",
   "name": "python",
   "nbconvert_exporter": "python",
   "pygments_lexer": "ipython2",
   "version": "2.7.6"
  }
 },
 "nbformat": 4,
 "nbformat_minor": 5
}
