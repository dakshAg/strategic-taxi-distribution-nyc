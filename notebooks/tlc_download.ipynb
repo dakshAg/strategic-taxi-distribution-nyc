{
 "cells": [
  {
   "cell_type": "markdown",
   "source": [
    "# Download TLC Data\n",
    "This notebook is used to download the TLC data from https://www.nyc.gov/site/tlc/about/tlc-trip-record-data.page\n",
    "Most of this code is copied from Week 2 Tutorial Content"
   ],
   "metadata": {
    "collapsed": false
   },
   "id": "965c015e47cd76a8"
  },
  {
   "cell_type": "code",
   "outputs": [],
   "source": [
    "from urllib.request import urlretrieve\n",
    "import os"
   ],
   "metadata": {
    "collapsed": false,
    "ExecuteTime": {
     "end_time": "2024-10-05T10:22:32.397088Z",
     "start_time": "2024-10-05T10:22:32.395750Z"
    }
   },
   "id": "7bdb98de29277a54",
   "execution_count": 1
  },
  {
   "cell_type": "code",
   "outputs": [],
   "source": [
    "output_relative_dir = '../data/landing/'\n",
    "\n",
    "# check if it exists as it makedir will raise an error if it does exist\n",
    "if not os.path.exists(output_relative_dir):\n",
    "    os.makedirs(output_relative_dir)\n",
    "    \n",
    "# now, for each type of data set we will need, we will create the paths\n",
    "for target_dir in ('tlc_data',): # taxi_zones should already exist\n",
    "    if not os.path.exists(output_relative_dir + target_dir):\n",
    "        os.makedirs(output_relative_dir + target_dir)"
   ],
   "metadata": {
    "collapsed": false,
    "ExecuteTime": {
     "end_time": "2024-10-05T10:22:32.399969Z",
     "start_time": "2024-10-05T10:22:32.397607Z"
    }
   },
   "id": "f28ba828b0d7b05e",
   "execution_count": 2
  },
  {
   "cell_type": "markdown",
   "source": [
    "The data timeframe is chosen to be 2023-01 to 2023-06 since this is the latest timeframe we can use while still falling in Legally Operating Businesses Dataset timeframe. The data is limited to 6 months to reduce the amount of data downloaded and processed as my system is not very powerful."
   ],
   "metadata": {
    "collapsed": false
   },
   "id": "256b500f23851e73"
  },
  {
   "cell_type": "code",
   "outputs": [],
   "source": [
    "DATA_RANGE = {\n",
    "    '2022': range(1, 7),\n",
    "}\n",
    "URL_TEMPLATE = \"https://d37ci6vzurychx.cloudfront.net/trip-data/fhvhv_tripdata_\"#year-month.parquet"
   ],
   "metadata": {
    "collapsed": false,
    "ExecuteTime": {
     "end_time": "2024-10-05T10:22:32.402415Z",
     "start_time": "2024-10-05T10:22:32.400955Z"
    }
   },
   "id": "a55d7ffc82e823fa",
   "execution_count": 3
  },
  {
   "cell_type": "code",
   "outputs": [
    {
     "name": "stdout",
     "output_type": "stream",
     "text": [
      "Begin month 01\n",
      "Completed 01-2022\n",
      "Begin month 02\n",
      "Completed 02-2022\n",
      "Begin month 03\n",
      "Completed 03-2022\n",
      "Begin month 04\n",
      "Completed 04-2022\n",
      "Begin month 05\n",
      "Completed 05-2022\n",
      "Begin month 06\n",
      "Completed 06-2022\n"
     ]
    }
   ],
   "source": [
    "tlc_output_dir = output_relative_dir + 'tlc_data'\n",
    "\n",
    "for year in DATA_RANGE:\n",
    "    for month in DATA_RANGE[year]:\n",
    "        # 0-fill i.e 1 -> 01, 2 -> 02, etc\n",
    "        month = str(month).zfill(2) \n",
    "        print(f\"Begin month {month}\")\n",
    "        \n",
    "        # generate url\n",
    "        url = f'{URL_TEMPLATE}{year}-{month}.parquet'\n",
    "        # generate output location and filename\n",
    "        output_dir = f\"{tlc_output_dir}/{year}-{month}.parquet\"\n",
    "        # download\n",
    "        urlretrieve(url, output_dir) \n",
    "        \n",
    "        print(f\"Completed {month}-{year}\")"
   ],
   "metadata": {
    "collapsed": false,
    "ExecuteTime": {
     "end_time": "2024-10-05T10:25:55.401078Z",
     "start_time": "2024-10-05T10:22:32.402975Z"
    }
   },
   "id": "2d9daf2064093b3e",
   "execution_count": 4
  },
  {
   "cell_type": "code",
   "outputs": [
    {
     "data": {
      "text/plain": "('../data/taxi_zones.zip', <http.client.HTTPMessage at 0x16a0293d0>)"
     },
     "execution_count": 5,
     "metadata": {},
     "output_type": "execute_result"
    }
   ],
   "source": [
    "# Download the taxi zone data\n",
    "shapefile_url = \"https://d37ci6vzurychx.cloudfront.net/misc/taxi_zones.zip\"\n",
    "shapefile_output_dir = \"../data/taxi_zones.zip\"\n",
    "urlretrieve(shapefile_url, shapefile_output_dir)"
   ],
   "metadata": {
    "collapsed": false,
    "ExecuteTime": {
     "end_time": "2024-10-05T10:25:57.241219Z",
     "start_time": "2024-10-05T10:25:55.412447Z"
    }
   },
   "id": "8cf9ad4221c96179",
   "execution_count": 5
  },
  {
   "cell_type": "code",
   "outputs": [],
   "source": [
    "# Unzip the taxi zone data\n",
    "import zipfile\n",
    "with zipfile.ZipFile(shapefile_output_dir, 'r') as zip_ref:\n",
    "    zip_ref.extractall(\"../data/taxi_zones\")"
   ],
   "metadata": {
    "collapsed": false,
    "ExecuteTime": {
     "end_time": "2024-10-05T10:25:57.278325Z",
     "start_time": "2024-10-05T10:25:57.243497Z"
    }
   },
   "id": "9e00e446aaec89f6",
   "execution_count": 6
  },
  {
   "cell_type": "code",
   "outputs": [
    {
     "data": {
      "text/plain": "('../data/taxi_zones/taxi_zone_lookup.csv',\n <http.client.HTTPMessage at 0x16a029e80>)"
     },
     "execution_count": 7,
     "metadata": {},
     "output_type": "execute_result"
    }
   ],
   "source": [
    "# download the lookup data\n",
    "lookup_url = \"https://d37ci6vzurychx.cloudfront.net/misc/taxi_zone_lookup.csv\"\n",
    "lookup_output_dir = \"../data/taxi_zones/taxi_zone_lookup.csv\"\n",
    "urlretrieve(lookup_url, lookup_output_dir)"
   ],
   "metadata": {
    "collapsed": false,
    "ExecuteTime": {
     "end_time": "2024-10-05T10:25:58.125828Z",
     "start_time": "2024-10-05T10:25:57.279559Z"
    }
   },
   "id": "eeb1bc036066c7f2",
   "execution_count": 7
  },
  {
   "cell_type": "code",
   "outputs": [],
   "source": [],
   "metadata": {
    "collapsed": false,
    "ExecuteTime": {
     "end_time": "2024-10-05T10:25:58.140197Z",
     "start_time": "2024-10-05T10:25:58.135525Z"
    }
   },
   "id": "ed3111e2958d938",
   "execution_count": 7
  }
 ],
 "metadata": {
  "kernelspec": {
   "display_name": "Python 3",
   "language": "python",
   "name": "python3"
  },
  "language_info": {
   "codemirror_mode": {
    "name": "ipython",
    "version": 2
   },
   "file_extension": ".py",
   "mimetype": "text/x-python",
   "name": "python",
   "nbconvert_exporter": "python",
   "pygments_lexer": "ipython2",
   "version": "2.7.6"
  }
 },
 "nbformat": 4,
 "nbformat_minor": 5
}
