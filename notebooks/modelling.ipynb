{
 "cells": [
  {
   "cell_type": "code",
   "execution_count": 29,
   "id": "initial_id",
   "metadata": {
    "collapsed": true,
    "ExecuteTime": {
     "end_time": "2024-08-24T14:05:48.768177Z",
     "start_time": "2024-08-24T14:05:48.736111Z"
    }
   },
   "outputs": [],
   "source": [
    "from pyspark.ml import Pipeline\n",
    "from pyspark.ml.evaluation import RegressionEvaluator\n",
    "from pyspark.ml.feature import VectorAssembler, StringIndexer, OneHotEncoder, StandardScaler\n",
    "from pyspark.ml.regression import DecisionTreeRegressor\n",
    "from pyspark.ml.regression import LinearRegression\n",
    "from pyspark.sql import SparkSession\n",
    "from pyspark.sql.functions import expm1\n",
    "from pyspark.sql.functions import log1p\n",
    "from pyspark.sql.functions import monotonically_increasing_id\n",
    "from xgboost.spark import SparkXGBRegressor"
   ]
  },
  {
   "cell_type": "code",
   "outputs": [],
   "source": [
    "spark = (\n",
    "    SparkSession.builder.appName(\"MAST30034 Tutorial 1\")\n",
    "    .config(\"spark.sql.repl.eagerEval.enabled\", True)\n",
    "    .config(\"spark.sql.parquet.cacheMetadata\", \"true\")\n",
    "    .config(\"spark.sql.session.timeZone\", \"Etc/UTC\")\n",
    "    .config(\"spark.driver.memory\", \"15g\")\n",
    "    .config(\"spark.sql.parquet.enableVectorizedReader\", \"false\")\n",
    "    .getOrCreate()\n",
    ")"
   ],
   "metadata": {
    "collapsed": false,
    "ExecuteTime": {
     "end_time": "2024-08-24T14:05:48.850180Z",
     "start_time": "2024-08-24T14:05:48.772888Z"
    }
   },
   "id": "9a01b74794b19576",
   "execution_count": 30
  },
  {
   "cell_type": "code",
   "outputs": [
    {
     "data": {
      "text/plain": "['hourly_timestamp',\n 'PULocationID',\n 'pickup_hour_of_day',\n 'pickup_day_of_week',\n 'pickup_month',\n 'pickup_borough',\n 'pickup_at_airport',\n 'num_trips',\n 'pickup_num_businesses',\n 'temperature_2m',\n 'relative_humidity_2m',\n 'rain',\n 'snowfall',\n 'wind_speed_10m']"
     },
     "execution_count": 31,
     "metadata": {},
     "output_type": "execute_result"
    }
   ],
   "source": [
    "data = spark.read.parquet('../data/curated/')\n",
    "data.columns"
   ],
   "metadata": {
    "collapsed": false,
    "ExecuteTime": {
     "end_time": "2024-08-24T14:05:49.232349Z",
     "start_time": "2024-08-24T14:05:48.850174Z"
    }
   },
   "id": "ac56c193b58a777b",
   "execution_count": 31
  },
  {
   "cell_type": "markdown",
   "source": [
    "Since the number of trips is a highly skewed count variable, we will use the log of the number of trips as the target variable. We will also add 1 to the number of trips before taking the log to avoid taking the log of 0."
   ],
   "metadata": {
    "collapsed": false
   },
   "id": "8264a6c69f3a3744"
  },
  {
   "cell_type": "code",
   "outputs": [],
   "source": [
    "data = data.withColumn(\"log_num_trips\", log1p(\"num_trips\"))"
   ],
   "metadata": {
    "collapsed": false,
    "ExecuteTime": {
     "end_time": "2024-08-24T14:05:49.321235Z",
     "start_time": "2024-08-24T14:05:49.237748Z"
    }
   },
   "id": "23eac040c8065136",
   "execution_count": 32
  },
  {
   "cell_type": "code",
   "outputs": [],
   "source": [
    "train_data = data.filter(data['pickup_month'] <= 5)  # Months 1-5 for training\n",
    "test_data = data.filter(data['pickup_month'] > 5)  # Month 6 for testing"
   ],
   "metadata": {
    "collapsed": false,
    "ExecuteTime": {
     "end_time": "2024-08-24T14:05:49.322362Z",
     "start_time": "2024-08-24T14:05:49.272843Z"
    }
   },
   "id": "68ab59ad6e2deb3b",
   "execution_count": 33
  },
  {
   "cell_type": "code",
   "outputs": [],
   "source": [
    "# Index and One-Hot Encode categorical feature\n",
    "indexers = [\n",
    "    StringIndexer(inputCol=column, outputCol=f\"{column}_index\").setHandleInvalid(\"keep\")\n",
    "    for column in ['pickup_day_of_week', 'pickup_borough']\n",
    "]\n",
    "\n",
    "encoders = [\n",
    "    OneHotEncoder(inputCol=f\"{column}_index\", outputCol=f\"{column}_ohe\").setHandleInvalid(\"keep\")\n",
    "    for column in ['pickup_day_of_week', 'pickup_borough']\n",
    "]"
   ],
   "metadata": {
    "collapsed": false,
    "ExecuteTime": {
     "end_time": "2024-08-24T14:05:49.352361Z",
     "start_time": "2024-08-24T14:05:49.307045Z"
    }
   },
   "id": "11989309dedc761a",
   "execution_count": 34
  },
  {
   "cell_type": "code",
   "outputs": [],
   "source": [
    "assembler = VectorAssembler(\n",
    "    inputCols=[\n",
    "        'pickup_hour_of_day',\n",
    "        \"pickup_at_airport\",\n",
    "        'pickup_num_businesses',\n",
    "        'temperature_2m',\n",
    "        'relative_humidity_2m',\n",
    "        'rain',\n",
    "        'snowfall',\n",
    "        'wind_speed_10m',\n",
    "        'pickup_day_of_week_ohe',\n",
    "        'pickup_borough_ohe'\n",
    "    ],\n",
    "    outputCol=\"features\"\n",
    ").setHandleInvalid(\"keep\")"
   ],
   "metadata": {
    "collapsed": false,
    "ExecuteTime": {
     "end_time": "2024-08-24T14:05:49.370849Z",
     "start_time": "2024-08-24T14:05:49.346194Z"
    }
   },
   "id": "83d1f2cff2d01cc3",
   "execution_count": 35
  },
  {
   "cell_type": "code",
   "outputs": [],
   "source": [
    "scaler = StandardScaler(inputCol=\"features\", outputCol=\"scaled_features\")"
   ],
   "metadata": {
    "collapsed": false,
    "ExecuteTime": {
     "end_time": "2024-08-24T14:05:49.372872Z",
     "start_time": "2024-08-24T14:05:49.354826Z"
    }
   },
   "id": "edc05e0f1dcc1184",
   "execution_count": 36
  },
  {
   "cell_type": "markdown",
   "source": [
    "## Linear Regression\n",
    "with Lasso Regularization"
   ],
   "metadata": {
    "collapsed": false
   },
   "id": "416291526612839d"
  },
  {
   "cell_type": "code",
   "outputs": [],
   "source": [
    "lr = LinearRegression(featuresCol='scaled_features', labelCol='log_num_trips', elasticNetParam=1)"
   ],
   "metadata": {
    "collapsed": false,
    "ExecuteTime": {
     "end_time": "2024-08-24T14:05:49.401736Z",
     "start_time": "2024-08-24T14:05:49.364479Z"
    }
   },
   "id": "e6267cdcd1fe0ba4",
   "execution_count": 37
  },
  {
   "cell_type": "code",
   "outputs": [],
   "source": [
    "pipeline_lr = Pipeline(stages=indexers + encoders + [assembler, scaler, lr])"
   ],
   "metadata": {
    "collapsed": false,
    "ExecuteTime": {
     "end_time": "2024-08-24T14:05:49.404884Z",
     "start_time": "2024-08-24T14:05:49.371713Z"
    }
   },
   "id": "daecb98e3ee1ec86",
   "execution_count": 38
  },
  {
   "cell_type": "code",
   "outputs": [
    {
     "name": "stderr",
     "output_type": "stream",
     "text": [
      "24/08/25 00:05:55 WARN Instrumentation: [73229306] regParam is zero, which might cause numerical instability and overfitting.\n",
      "24/08/25 00:05:59 WARN Instrumentation: [73229306] Cholesky solver failed due to singular covariance matrix. Retrying with Quasi-Newton solver.\n",
      "                                                                                \r"
     ]
    }
   ],
   "source": [
    "model = pipeline_lr.fit(train_data)"
   ],
   "metadata": {
    "collapsed": false,
    "ExecuteTime": {
     "end_time": "2024-08-24T14:06:02.991504Z",
     "start_time": "2024-08-24T14:05:49.379164Z"
    }
   },
   "id": "27532f1de6741a7a",
   "execution_count": 39
  },
  {
   "cell_type": "code",
   "outputs": [
    {
     "data": {
      "text/plain": "DenseVector([0.3536, 0.2348, 0.5884, 0.016, 0.0135, -0.0045, -0.0206, -0.0115, 0.011, -0.0354, -0.0385, 0.0501, 0.04, -0.0025, -0.0245, 0.0, -0.1609, 0.3033, 0.0138, 0.0246, -0.2976, 0.0])"
     },
     "execution_count": 40,
     "metadata": {},
     "output_type": "execute_result"
    }
   ],
   "source": [
    "# Print the columns and their corresponding coefficients\n",
    "model.stages[-1].coefficients"
   ],
   "metadata": {
    "collapsed": false,
    "ExecuteTime": {
     "end_time": "2024-08-24T14:06:03.009558Z",
     "start_time": "2024-08-24T14:06:02.989411Z"
    }
   },
   "id": "904153d6d1987540",
   "execution_count": 40
  },
  {
   "cell_type": "code",
   "outputs": [],
   "source": [
    "predictions = model.transform(test_data)\n",
    "predictions = predictions.withColumn(\"lr_prediction\", expm1(predictions[\"prediction\"]))"
   ],
   "metadata": {
    "collapsed": false,
    "ExecuteTime": {
     "end_time": "2024-08-24T14:06:03.186847Z",
     "start_time": "2024-08-24T14:06:03.010233Z"
    }
   },
   "id": "900d2d724c6168db",
   "execution_count": 41
  },
  {
   "cell_type": "code",
   "outputs": [
    {
     "name": "stderr",
     "output_type": "stream",
     "text": [
      "                                                                                \r"
     ]
    },
    {
     "name": "stdout",
     "output_type": "stream",
     "text": [
      "Root Mean Squared Error (RMSE) on test data = 91.8940812998167\n",
      "R2 on test data = 0.30423306429577246\n"
     ]
    }
   ],
   "source": [
    "evaluator = RegressionEvaluator(\n",
    "    labelCol=\"num_trips\", predictionCol=\"lr_prediction\", metricName=\"rmse\")\n",
    "\n",
    "rmse = evaluator.evaluate(predictions)\n",
    "r2 = evaluator.evaluate(predictions, {evaluator.metricName: \"r2\"})\n",
    "\n",
    "print(f\"Root Mean Squared Error (RMSE) on test data = {rmse}\")\n",
    "print(f\"R2 on test data = {r2}\")"
   ],
   "metadata": {
    "collapsed": false,
    "ExecuteTime": {
     "end_time": "2024-08-24T14:06:04.708059Z",
     "start_time": "2024-08-24T14:06:03.173748Z"
    }
   },
   "id": "aec3d24996644825",
   "execution_count": 42
  },
  {
   "cell_type": "code",
   "outputs": [],
   "source": [
    "errors = predictions.select('pickup_hour_of_day', 'pickup_day_of_week', 'pickup_month', 'num_trips', 'lr_prediction',\n",
    "                            'pickup_num_businesses', \"PULocationID\", 'pickup_borough')"
   ],
   "metadata": {
    "collapsed": false,
    "ExecuteTime": {
     "end_time": "2024-08-24T14:06:04.770780Z",
     "start_time": "2024-08-24T14:06:04.712902Z"
    }
   },
   "id": "57246b5e5e5d08d1",
   "execution_count": 43
  },
  {
   "cell_type": "markdown",
   "source": [
    "## XGBoost"
   ],
   "metadata": {
    "collapsed": false
   },
   "id": "1e4341ca751dea83"
  },
  {
   "cell_type": "code",
   "outputs": [],
   "source": [
    "xgb_regressor = SparkXGBRegressor(\n",
    "    features_col=\"scaled_features\",\n",
    "    label_col=\"log_num_trips\",\n",
    "    num_workers=2,\n",
    ")"
   ],
   "metadata": {
    "collapsed": false,
    "ExecuteTime": {
     "end_time": "2024-08-24T14:06:04.807310Z",
     "start_time": "2024-08-24T14:06:04.747978Z"
    }
   },
   "id": "827d91cbfd5b81fd",
   "execution_count": 44
  },
  {
   "cell_type": "code",
   "outputs": [],
   "source": [
    "pipeline_xgb = Pipeline(stages=indexers + encoders + [assembler, scaler, xgb_regressor])"
   ],
   "metadata": {
    "collapsed": false,
    "ExecuteTime": {
     "end_time": "2024-08-24T14:06:04.819836Z",
     "start_time": "2024-08-24T14:06:04.797011Z"
    }
   },
   "id": "2954f77185a3b728",
   "execution_count": 45
  },
  {
   "cell_type": "code",
   "outputs": [
    {
     "name": "stderr",
     "output_type": "stream",
     "text": [
      "2024-08-25 00:06:07,444 INFO XGBoost-PySpark: _fit Running xgboost-2.1.1 on 2 workers with\n",
      "\tbooster params: {'objective': 'reg:squarederror', 'device': 'cpu', 'nthread': 1}\n",
      "\ttrain_call_kwargs_params: {'verbose_eval': True, 'num_boost_round': 100}\n",
      "\tdmatrix_kwargs: {'nthread': 1, 'missing': nan}\n",
      "2024-08-25 00:06:12,872 INFO XGBoost-PySpark: _train_booster Training on CPUs 2]\n",
      "[00:06:13] Task 0 got rank 0\n",
      "[00:06:13] Task 1 got rank 1\n",
      "2024-08-25 00:06:18,081 INFO XGBoost-PySpark: _fit Finished xgboost training!   \n"
     ]
    }
   ],
   "source": [
    "model = pipeline_xgb.fit(train_data)"
   ],
   "metadata": {
    "collapsed": false,
    "ExecuteTime": {
     "end_time": "2024-08-24T14:06:18.170541Z",
     "start_time": "2024-08-24T14:06:04.808922Z"
    }
   },
   "id": "b46e87e9f8b5d314",
   "execution_count": 46
  },
  {
   "cell_type": "code",
   "outputs": [],
   "source": [
    "predictions = model.transform(test_data)\n",
    "predictions = predictions.withColumn(\"xgb_prediction\", expm1(predictions[\"prediction\"]))"
   ],
   "metadata": {
    "collapsed": false,
    "ExecuteTime": {
     "end_time": "2024-08-24T14:06:18.467934Z",
     "start_time": "2024-08-24T14:06:18.173464Z"
    }
   },
   "id": "ec9bcfeb4c09eb9",
   "execution_count": 47
  },
  {
   "cell_type": "code",
   "outputs": [
    {
     "name": "stderr",
     "output_type": "stream",
     "text": [
      "2024-08-25 00:06:21,166 INFO XGBoost-PySpark: predict_udf Do the inference on the CPUs\n",
      "2024-08-25 00:06:22,168 INFO XGBoost-PySpark: predict_udf Do the inference on the CPUs\n",
      "[Stage 103:=================================================>       (7 + 1) / 8]\r"
     ]
    },
    {
     "name": "stdout",
     "output_type": "stream",
     "text": [
      "Root Mean Squared Error (RMSE) on test data = 42.471751332779114\n",
      "R2 on test data = 0.8513759659990753\n"
     ]
    },
    {
     "name": "stderr",
     "output_type": "stream",
     "text": [
      "                                                                                \r"
     ]
    }
   ],
   "source": [
    "evaluator = RegressionEvaluator(\n",
    "    labelCol=\"num_trips\", predictionCol=\"xgb_prediction\", metricName=\"rmse\")\n",
    "\n",
    "rmse = evaluator.evaluate(predictions)\n",
    "r2 = evaluator.evaluate(predictions, {evaluator.metricName: \"r2\"})\n",
    "\n",
    "print(f\"Root Mean Squared Error (RMSE) on test data = {rmse}\")\n",
    "print(f\"R2 on test data = {r2}\")"
   ],
   "metadata": {
    "collapsed": false,
    "ExecuteTime": {
     "end_time": "2024-08-24T14:06:25.314213Z",
     "start_time": "2024-08-24T14:06:18.472852Z"
    }
   },
   "id": "3e9aeb7d8eec84b6",
   "execution_count": 48
  },
  {
   "cell_type": "code",
   "outputs": [],
   "source": [
    "# Add XGBoost predictions to errors dataframe based on index\n",
    "errors = errors.withColumn(\"index\", monotonically_increasing_id())\n",
    "predictions = predictions.withColumn(\"index\", monotonically_increasing_id())\n",
    "errors = errors.join(predictions.select(\"index\", \"xgb_prediction\"), \"index\", \"left\").drop(\"index\")"
   ],
   "metadata": {
    "collapsed": false,
    "ExecuteTime": {
     "end_time": "2024-08-24T14:06:25.371492Z",
     "start_time": "2024-08-24T14:06:25.242613Z"
    }
   },
   "id": "d04ec33190c3dc79",
   "execution_count": 49
  },
  {
   "cell_type": "markdown",
   "source": [
    "## Decision Tree Regressor"
   ],
   "metadata": {
    "collapsed": false
   },
   "id": "f4a0eb1a4ef85caa"
  },
  {
   "cell_type": "code",
   "outputs": [],
   "source": [
    "decision_tree_regressor = DecisionTreeRegressor(\n",
    "    featuresCol=\"scaled_features\",\n",
    "    labelCol=\"log_num_trips\"\n",
    ")"
   ],
   "metadata": {
    "collapsed": false,
    "ExecuteTime": {
     "end_time": "2024-08-24T14:06:25.505968Z",
     "start_time": "2024-08-24T14:06:25.395982Z"
    }
   },
   "id": "35ba99bf9965c890",
   "execution_count": 50
  },
  {
   "cell_type": "code",
   "outputs": [],
   "source": [
    "pipeline_dt = Pipeline(stages=indexers + encoders + [assembler, scaler, decision_tree_regressor])"
   ],
   "metadata": {
    "collapsed": false,
    "ExecuteTime": {
     "end_time": "2024-08-24T14:06:25.584003Z",
     "start_time": "2024-08-24T14:06:25.459861Z"
    }
   },
   "id": "938cb7bd5f4becfa",
   "execution_count": 51
  },
  {
   "cell_type": "code",
   "outputs": [
    {
     "name": "stderr",
     "output_type": "stream",
     "text": [
      "                                                                                \r"
     ]
    }
   ],
   "source": [
    "model = pipeline_dt.fit(train_data)"
   ],
   "metadata": {
    "collapsed": false,
    "ExecuteTime": {
     "end_time": "2024-08-24T14:07:30.156582Z",
     "start_time": "2024-08-24T14:06:25.467195Z"
    }
   },
   "id": "83c5b7995916fdb7",
   "execution_count": 52
  },
  {
   "cell_type": "code",
   "outputs": [],
   "source": [
    "predictions = model.transform(test_data)\n",
    "predictions = predictions.withColumn(\"dt_prediction\", expm1(predictions[\"prediction\"]))"
   ],
   "metadata": {
    "collapsed": false,
    "ExecuteTime": {
     "end_time": "2024-08-24T14:07:30.448645Z",
     "start_time": "2024-08-24T14:07:30.160656Z"
    }
   },
   "id": "2eb09b8d20f56d8",
   "execution_count": 53
  },
  {
   "cell_type": "code",
   "outputs": [
    {
     "name": "stdout",
     "output_type": "stream",
     "text": [
      "Root Mean Squared Error (RMSE) on test data = 85.71769970948638\n",
      "R2 on test data = 0.39461769641560984\n"
     ]
    }
   ],
   "source": [
    "evaluator = RegressionEvaluator(\n",
    "    labelCol=\"num_trips\", predictionCol=\"dt_prediction\", metricName=\"rmse\")\n",
    "\n",
    "rmse = evaluator.evaluate(predictions)\n",
    "r2 = evaluator.evaluate(predictions, {evaluator.metricName: \"r2\"})\n",
    "\n",
    "print(f\"Root Mean Squared Error (RMSE) on test data = {rmse}\")\n",
    "print(f\"R2 on test data = {r2}\")"
   ],
   "metadata": {
    "collapsed": false,
    "ExecuteTime": {
     "end_time": "2024-08-24T14:07:31.552892Z",
     "start_time": "2024-08-24T14:07:30.455386Z"
    }
   },
   "id": "ffba29bd87d40868",
   "execution_count": 54
  },
  {
   "cell_type": "code",
   "outputs": [],
   "source": [
    "# Add Decision Tree Regressor predictions to errors dataframe based on index\n",
    "errors = errors.withColumn(\"index\", monotonically_increasing_id())\n",
    "predictions = predictions.withColumn(\"index\", monotonically_increasing_id())\n",
    "errors = errors.join(predictions.select(\"index\", \"dt_prediction\"), \"index\", \"left\").drop(\"index\")"
   ],
   "metadata": {
    "collapsed": false,
    "ExecuteTime": {
     "end_time": "2024-08-24T14:07:32.223125Z",
     "start_time": "2024-08-24T14:07:31.551251Z"
    }
   },
   "id": "895cdc77903e155c",
   "execution_count": 55
  },
  {
   "cell_type": "code",
   "outputs": [
    {
     "name": "stderr",
     "output_type": "stream",
     "text": [
      "2024-08-25 00:07:35,421 INFO XGBoost-PySpark: predict_udf Do the inference on the CPUs\n",
      "                                                                                \r"
     ]
    }
   ],
   "source": [
    "# Write errors dataframe to parquet for further analysis\n",
    "errors.write.mode('overwrite').parquet('../data/errors/')"
   ],
   "metadata": {
    "collapsed": false,
    "ExecuteTime": {
     "end_time": "2024-08-24T14:07:38.598222Z",
     "start_time": "2024-08-24T14:07:31.624307Z"
    }
   },
   "id": "899b230c0e5025a1",
   "execution_count": 56
  }
 ],
 "metadata": {
  "kernelspec": {
   "display_name": "Python 3",
   "language": "python",
   "name": "python3"
  },
  "language_info": {
   "codemirror_mode": {
    "name": "ipython",
    "version": 2
   },
   "file_extension": ".py",
   "mimetype": "text/x-python",
   "name": "python",
   "nbconvert_exporter": "python",
   "pygments_lexer": "ipython2",
   "version": "2.7.6"
  }
 },
 "nbformat": 4,
 "nbformat_minor": 5
}
