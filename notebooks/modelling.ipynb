{
 "cells": [
  {
   "cell_type": "code",
   "execution_count": 85,
   "id": "initial_id",
   "metadata": {
    "collapsed": true,
    "ExecuteTime": {
     "end_time": "2024-08-24T15:25:01.519476Z",
     "start_time": "2024-08-24T15:25:01.506338Z"
    }
   },
   "outputs": [],
   "source": [
    "from pyspark.ml import Pipeline\n",
    "from pyspark.ml.evaluation import RegressionEvaluator\n",
    "from pyspark.ml.feature import VectorAssembler, StringIndexer, OneHotEncoder, StandardScaler\n",
    "from pyspark.ml.regression import DecisionTreeRegressor\n",
    "from pyspark.ml.regression import LinearRegression\n",
    "from pyspark.sql import SparkSession\n",
    "from pyspark.sql.functions import expm1\n",
    "from pyspark.sql.functions import log1p\n",
    "from pyspark.sql.functions import monotonically_increasing_id\n",
    "from xgboost.spark import SparkXGBRegressor"
   ]
  },
  {
   "cell_type": "code",
   "outputs": [],
   "source": [
    "spark = (\n",
    "    SparkSession.builder.appName(\"MAST30034 Tutorial 1\")\n",
    "    .config(\"spark.sql.repl.eagerEval.enabled\", True)\n",
    "    .config(\"spark.sql.parquet.cacheMetadata\", \"true\")\n",
    "    .config(\"spark.sql.session.timeZone\", \"Etc/UTC\")\n",
    "    .config(\"spark.driver.memory\", \"15g\")\n",
    "    .config(\"spark.sql.parquet.enableVectorizedReader\", \"false\")\n",
    "    .getOrCreate()\n",
    ")"
   ],
   "metadata": {
    "collapsed": false,
    "ExecuteTime": {
     "end_time": "2024-08-24T15:25:01.618973Z",
     "start_time": "2024-08-24T15:25:01.528902Z"
    }
   },
   "id": "9a01b74794b19576",
   "execution_count": 86
  },
  {
   "cell_type": "code",
   "outputs": [
    {
     "data": {
      "text/plain": "['hourly_timestamp',\n 'PULocationID',\n 'pickup_hour_of_day',\n 'pickup_day_of_week',\n 'pickup_month',\n 'pickup_borough',\n 'pickup_at_airport',\n 'num_trips',\n 'pickup_num_businesses',\n 'temperature_2m',\n 'relative_humidity_2m',\n 'rain',\n 'snowfall',\n 'wind_speed_10m']"
     },
     "execution_count": 87,
     "metadata": {},
     "output_type": "execute_result"
    }
   ],
   "source": [
    "data = spark.read.parquet('../data/curated/')\n",
    "data.columns"
   ],
   "metadata": {
    "collapsed": false,
    "ExecuteTime": {
     "end_time": "2024-08-24T15:25:02.428786Z",
     "start_time": "2024-08-24T15:25:01.620366Z"
    }
   },
   "id": "ac56c193b58a777b",
   "execution_count": 87
  },
  {
   "cell_type": "markdown",
   "source": [
    "Since the number of trips is a highly skewed count variable, we will use the log of the number of trips as the target variable. We will also add 1 to the number of trips before taking the log to avoid taking the log of 0."
   ],
   "metadata": {
    "collapsed": false
   },
   "id": "8264a6c69f3a3744"
  },
  {
   "cell_type": "code",
   "outputs": [],
   "source": [
    "data = data.withColumn(\"log_num_trips\", log1p(\"num_trips\"))"
   ],
   "metadata": {
    "collapsed": false,
    "ExecuteTime": {
     "end_time": "2024-08-24T15:25:02.556955Z",
     "start_time": "2024-08-24T15:25:02.431776Z"
    }
   },
   "id": "23eac040c8065136",
   "execution_count": 88
  },
  {
   "cell_type": "code",
   "outputs": [],
   "source": [
    "train_data = data.filter(data['pickup_month'] <= 5)  # Months 1-5 for training\n",
    "test_data = data.filter(data['pickup_month'] > 5)  # Month 6 for testing"
   ],
   "metadata": {
    "collapsed": false,
    "ExecuteTime": {
     "end_time": "2024-08-24T15:25:02.582642Z",
     "start_time": "2024-08-24T15:25:02.535668Z"
    }
   },
   "id": "68ab59ad6e2deb3b",
   "execution_count": 89
  },
  {
   "cell_type": "code",
   "outputs": [],
   "source": [
    "# Index and One-Hot Encode categorical feature\n",
    "indexers = [\n",
    "    StringIndexer(inputCol=column, outputCol=f\"{column}_index\").setHandleInvalid(\"keep\")\n",
    "    for column in ['pickup_day_of_week', 'pickup_borough']\n",
    "]\n",
    "\n",
    "encoders = [\n",
    "    OneHotEncoder(inputCol=f\"{column}_index\", outputCol=f\"{column}_ohe\").setHandleInvalid(\"keep\")\n",
    "    for column in ['pickup_day_of_week', 'pickup_borough']\n",
    "]"
   ],
   "metadata": {
    "collapsed": false,
    "ExecuteTime": {
     "end_time": "2024-08-24T15:25:02.635590Z",
     "start_time": "2024-08-24T15:25:02.591305Z"
    }
   },
   "id": "11989309dedc761a",
   "execution_count": 90
  },
  {
   "cell_type": "code",
   "outputs": [],
   "source": [
    "assembler = VectorAssembler(\n",
    "    inputCols=[\n",
    "        'pickup_hour_of_day',\n",
    "        \"pickup_at_airport\",\n",
    "        'pickup_num_businesses',\n",
    "        'temperature_2m',\n",
    "        'relative_humidity_2m',\n",
    "        'rain',\n",
    "        'snowfall',\n",
    "        'wind_speed_10m',\n",
    "        'pickup_day_of_week_ohe',\n",
    "        'pickup_borough_ohe'\n",
    "    ],\n",
    "    outputCol=\"features\"\n",
    ").setHandleInvalid(\"keep\")"
   ],
   "metadata": {
    "collapsed": false,
    "ExecuteTime": {
     "end_time": "2024-08-24T15:25:02.664648Z",
     "start_time": "2024-08-24T15:25:02.644087Z"
    }
   },
   "id": "83d1f2cff2d01cc3",
   "execution_count": 91
  },
  {
   "cell_type": "code",
   "outputs": [],
   "source": [
    "scaler = StandardScaler(inputCol=\"features\", outputCol=\"scaled_features\")"
   ],
   "metadata": {
    "collapsed": false,
    "ExecuteTime": {
     "end_time": "2024-08-24T15:25:02.678862Z",
     "start_time": "2024-08-24T15:25:02.658599Z"
    }
   },
   "id": "edc05e0f1dcc1184",
   "execution_count": 92
  },
  {
   "cell_type": "markdown",
   "source": [
    "## Linear Regression\n",
    "with Lasso Regularization"
   ],
   "metadata": {
    "collapsed": false
   },
   "id": "416291526612839d"
  },
  {
   "cell_type": "code",
   "outputs": [],
   "source": [
    "lr = LinearRegression(featuresCol='scaled_features', labelCol='log_num_trips', elasticNetParam=1)"
   ],
   "metadata": {
    "collapsed": false,
    "ExecuteTime": {
     "end_time": "2024-08-24T15:25:02.686113Z",
     "start_time": "2024-08-24T15:25:02.675094Z"
    }
   },
   "id": "e6267cdcd1fe0ba4",
   "execution_count": 93
  },
  {
   "cell_type": "code",
   "outputs": [],
   "source": [
    "pipeline_lr = Pipeline(stages=indexers + encoders + [assembler, scaler, lr])"
   ],
   "metadata": {
    "collapsed": false,
    "ExecuteTime": {
     "end_time": "2024-08-24T15:25:02.694940Z",
     "start_time": "2024-08-24T15:25:02.686523Z"
    }
   },
   "id": "daecb98e3ee1ec86",
   "execution_count": 94
  },
  {
   "cell_type": "code",
   "outputs": [
    {
     "name": "stderr",
     "output_type": "stream",
     "text": [
      "24/08/25 01:25:07 WARN Instrumentation: [c8506234] regParam is zero, which might cause numerical instability and overfitting.\n",
      "24/08/25 01:25:09 WARN Instrumentation: [c8506234] Cholesky solver failed due to singular covariance matrix. Retrying with Quasi-Newton solver.\n",
      "                                                                                \r"
     ]
    }
   ],
   "source": [
    "model = pipeline_lr.fit(train_data)"
   ],
   "metadata": {
    "collapsed": false,
    "ExecuteTime": {
     "end_time": "2024-08-24T15:25:13.138478Z",
     "start_time": "2024-08-24T15:25:02.697942Z"
    }
   },
   "id": "27532f1de6741a7a",
   "execution_count": 95
  },
  {
   "cell_type": "code",
   "outputs": [
    {
     "data": {
      "text/plain": "DenseVector([0.3536, 0.2348, 0.5884, 0.016, 0.0135, -0.0045, -0.0206, -0.0115, 0.011, -0.0354, -0.0385, 0.0501, 0.04, -0.0025, -0.0245, 0.0, -0.1609, 0.3033, 0.0138, 0.0246, -0.2976, 0.0])"
     },
     "execution_count": 96,
     "metadata": {},
     "output_type": "execute_result"
    }
   ],
   "source": [
    "# Print the columns and their corresponding coefficients\n",
    "model.stages[-1].coefficients"
   ],
   "metadata": {
    "collapsed": false,
    "ExecuteTime": {
     "end_time": "2024-08-24T15:25:13.160980Z",
     "start_time": "2024-08-24T15:25:13.132807Z"
    }
   },
   "id": "904153d6d1987540",
   "execution_count": 96
  },
  {
   "cell_type": "code",
   "outputs": [],
   "source": [
    "predictions = model.transform(test_data)\n",
    "predictions = predictions.withColumn(\"lr_prediction\", expm1(predictions[\"prediction\"]))"
   ],
   "metadata": {
    "collapsed": false,
    "ExecuteTime": {
     "end_time": "2024-08-24T15:25:13.290878Z",
     "start_time": "2024-08-24T15:25:13.155744Z"
    }
   },
   "id": "900d2d724c6168db",
   "execution_count": 97
  },
  {
   "cell_type": "code",
   "outputs": [
    {
     "name": "stderr",
     "output_type": "stream",
     "text": [
      "                                                                                \r"
     ]
    },
    {
     "name": "stdout",
     "output_type": "stream",
     "text": [
      "Root Mean Squared Error (RMSE) on test data = 91.8940812998167\n",
      "R2 on test data = 0.30423306429577246\n"
     ]
    },
    {
     "name": "stderr",
     "output_type": "stream",
     "text": [
      "                                                                                \r"
     ]
    }
   ],
   "source": [
    "evaluator = RegressionEvaluator(\n",
    "    labelCol=\"num_trips\", predictionCol=\"lr_prediction\", metricName=\"rmse\")\n",
    "\n",
    "rmse = evaluator.evaluate(predictions)\n",
    "r2 = evaluator.evaluate(predictions, {evaluator.metricName: \"r2\"})\n",
    "\n",
    "print(f\"Root Mean Squared Error (RMSE) on test data = {rmse}\")\n",
    "print(f\"R2 on test data = {r2}\")"
   ],
   "metadata": {
    "collapsed": false,
    "ExecuteTime": {
     "end_time": "2024-08-24T15:25:14.904656Z",
     "start_time": "2024-08-24T15:25:13.295656Z"
    }
   },
   "id": "aec3d24996644825",
   "execution_count": 98
  },
  {
   "cell_type": "code",
   "outputs": [],
   "source": [
    "errors = predictions.select('pickup_hour_of_day', 'pickup_day_of_week', 'pickup_month', 'num_trips', 'lr_prediction',\n",
    "                            'pickup_num_businesses', \"PULocationID\", 'pickup_borough')"
   ],
   "metadata": {
    "collapsed": false,
    "ExecuteTime": {
     "end_time": "2024-08-24T15:25:14.996493Z",
     "start_time": "2024-08-24T15:25:14.901987Z"
    }
   },
   "id": "57246b5e5e5d08d1",
   "execution_count": 99
  },
  {
   "cell_type": "markdown",
   "source": [
    "## XGBoost"
   ],
   "metadata": {
    "collapsed": false
   },
   "id": "1e4341ca751dea83"
  },
  {
   "cell_type": "code",
   "outputs": [],
   "source": [
    "xgb_regressor = SparkXGBRegressor(\n",
    "    features_col=\"scaled_features\",\n",
    "    label_col=\"log_num_trips\",\n",
    "    num_workers=2,\n",
    ")"
   ],
   "metadata": {
    "collapsed": false,
    "ExecuteTime": {
     "end_time": "2024-08-24T15:25:14.998677Z",
     "start_time": "2024-08-24T15:25:14.944325Z"
    }
   },
   "id": "827d91cbfd5b81fd",
   "execution_count": 100
  },
  {
   "cell_type": "code",
   "outputs": [],
   "source": [
    "pipeline_xgb = Pipeline(stages=indexers + encoders + [assembler, scaler, xgb_regressor])"
   ],
   "metadata": {
    "collapsed": false,
    "ExecuteTime": {
     "end_time": "2024-08-24T15:25:14.999944Z",
     "start_time": "2024-08-24T15:25:14.947922Z"
    }
   },
   "id": "2954f77185a3b728",
   "execution_count": 101
  },
  {
   "cell_type": "code",
   "outputs": [
    {
     "name": "stderr",
     "output_type": "stream",
     "text": [
      "2024-08-25 01:25:17,679 INFO XGBoost-PySpark: _fit Running xgboost-2.1.1 on 2 workers with\n",
      "\tbooster params: {'objective': 'reg:squarederror', 'device': 'cpu', 'nthread': 1}\n",
      "\ttrain_call_kwargs_params: {'verbose_eval': True, 'num_boost_round': 100}\n",
      "\tdmatrix_kwargs: {'nthread': 1, 'missing': nan}\n",
      "2024-08-25 01:25:22,589 INFO XGBoost-PySpark: _train_booster Training on CPUs 2]\n",
      "[01:25:23] Task 0 got rank 0\n",
      "[01:25:23] Task 1 got rank 1\n",
      "2024-08-25 01:25:27,678 INFO XGBoost-PySpark: _fit Finished xgboost training!   \n"
     ]
    }
   ],
   "source": [
    "model = pipeline_xgb.fit(train_data)"
   ],
   "metadata": {
    "collapsed": false,
    "ExecuteTime": {
     "end_time": "2024-08-24T15:25:27.798647Z",
     "start_time": "2024-08-24T15:25:14.954619Z"
    }
   },
   "id": "b46e87e9f8b5d314",
   "execution_count": 102
  },
  {
   "cell_type": "code",
   "outputs": [],
   "source": [
    "predictions = model.transform(test_data)\n",
    "predictions = predictions.withColumn(\"xgb_prediction\", expm1(predictions[\"prediction\"]))"
   ],
   "metadata": {
    "collapsed": false,
    "ExecuteTime": {
     "end_time": "2024-08-24T15:25:27.979197Z",
     "start_time": "2024-08-24T15:25:27.797125Z"
    }
   },
   "id": "ec9bcfeb4c09eb9",
   "execution_count": 103
  },
  {
   "cell_type": "code",
   "outputs": [
    {
     "name": "stderr",
     "output_type": "stream",
     "text": [
      "2024-08-25 01:25:31,745 INFO XGBoost-PySpark: predict_udf Do the inference on the CPUs\n",
      "2024-08-25 01:25:32,843 INFO XGBoost-PySpark: predict_udf Do the inference on the CPUs\n",
      "[Stage 254:>                                                        (0 + 8) / 8]\r"
     ]
    },
    {
     "name": "stdout",
     "output_type": "stream",
     "text": [
      "Root Mean Squared Error (RMSE) on test data = 42.471751332779114\n",
      "R2 on test data = 0.8513759659990753\n"
     ]
    },
    {
     "name": "stderr",
     "output_type": "stream",
     "text": [
      "                                                                                \r"
     ]
    }
   ],
   "source": [
    "evaluator = RegressionEvaluator(\n",
    "    labelCol=\"num_trips\", predictionCol=\"xgb_prediction\", metricName=\"rmse\")\n",
    "\n",
    "rmse = evaluator.evaluate(predictions)\n",
    "r2 = evaluator.evaluate(predictions, {evaluator.metricName: \"r2\"})\n",
    "\n",
    "print(f\"Root Mean Squared Error (RMSE) on test data = {rmse}\")\n",
    "print(f\"R2 on test data = {r2}\")"
   ],
   "metadata": {
    "collapsed": false,
    "ExecuteTime": {
     "end_time": "2024-08-24T15:25:35.737032Z",
     "start_time": "2024-08-24T15:25:27.982800Z"
    }
   },
   "id": "3e9aeb7d8eec84b6",
   "execution_count": 104
  },
  {
   "cell_type": "code",
   "outputs": [],
   "source": [
    "# Add XGBoost predictions to errors dataframe based on index\n",
    "errors = errors.withColumn(\"index\", monotonically_increasing_id())\n",
    "predictions = predictions.withColumn(\"index\", monotonically_increasing_id())\n",
    "errors = errors.join(predictions.select(\"index\", \"xgb_prediction\"), \"index\", \"left\").drop(\"index\")"
   ],
   "metadata": {
    "collapsed": false,
    "ExecuteTime": {
     "end_time": "2024-08-24T15:25:36.105662Z",
     "start_time": "2024-08-24T15:25:35.722104Z"
    }
   },
   "id": "d04ec33190c3dc79",
   "execution_count": 105
  },
  {
   "cell_type": "markdown",
   "source": [
    "## Decision Tree Regressor"
   ],
   "metadata": {
    "collapsed": false
   },
   "id": "f4a0eb1a4ef85caa"
  },
  {
   "cell_type": "code",
   "outputs": [],
   "source": [
    "decision_tree_regressor = DecisionTreeRegressor(\n",
    "    featuresCol=\"scaled_features\",\n",
    "    labelCol=\"log_num_trips\"\n",
    ")"
   ],
   "metadata": {
    "collapsed": false,
    "ExecuteTime": {
     "end_time": "2024-08-24T15:25:36.109962Z",
     "start_time": "2024-08-24T15:25:35.807735Z"
    }
   },
   "id": "35ba99bf9965c890",
   "execution_count": 106
  },
  {
   "cell_type": "code",
   "outputs": [],
   "source": [
    "pipeline_dt = Pipeline(stages=indexers + encoders + [assembler, scaler, decision_tree_regressor])"
   ],
   "metadata": {
    "collapsed": false,
    "ExecuteTime": {
     "end_time": "2024-08-24T15:25:36.270546Z",
     "start_time": "2024-08-24T15:25:35.819902Z"
    }
   },
   "id": "938cb7bd5f4becfa",
   "execution_count": 107
  },
  {
   "cell_type": "code",
   "outputs": [
    {
     "name": "stderr",
     "output_type": "stream",
     "text": [
      "                                                                                \r"
     ]
    }
   ],
   "source": [
    "model = pipeline_dt.fit(train_data)"
   ],
   "metadata": {
    "collapsed": false,
    "ExecuteTime": {
     "end_time": "2024-08-24T15:25:54.361250Z",
     "start_time": "2024-08-24T15:25:35.822763Z"
    }
   },
   "id": "83c5b7995916fdb7",
   "execution_count": 108
  },
  {
   "cell_type": "code",
   "outputs": [],
   "source": [
    "predictions = model.transform(test_data)\n",
    "predictions = predictions.withColumn(\"dt_prediction\", expm1(predictions[\"prediction\"]))"
   ],
   "metadata": {
    "collapsed": false,
    "ExecuteTime": {
     "end_time": "2024-08-24T15:25:54.698683Z",
     "start_time": "2024-08-24T15:25:54.378028Z"
    }
   },
   "id": "2eb09b8d20f56d8",
   "execution_count": 109
  },
  {
   "cell_type": "code",
   "outputs": [
    {
     "name": "stderr",
     "output_type": "stream",
     "text": [
      "                                                                                \r"
     ]
    },
    {
     "name": "stdout",
     "output_type": "stream",
     "text": [
      "Root Mean Squared Error (RMSE) on test data = 85.71769970948638\n",
      "R2 on test data = 0.39461769641560984\n"
     ]
    },
    {
     "name": "stderr",
     "output_type": "stream",
     "text": [
      "                                                                                \r"
     ]
    }
   ],
   "source": [
    "evaluator = RegressionEvaluator(\n",
    "    labelCol=\"num_trips\", predictionCol=\"dt_prediction\", metricName=\"rmse\")\n",
    "\n",
    "rmse = evaluator.evaluate(predictions)\n",
    "r2 = evaluator.evaluate(predictions, {evaluator.metricName: \"r2\"})\n",
    "\n",
    "print(f\"Root Mean Squared Error (RMSE) on test data = {rmse}\")\n",
    "print(f\"R2 on test data = {r2}\")"
   ],
   "metadata": {
    "collapsed": false,
    "ExecuteTime": {
     "end_time": "2024-08-24T15:25:56.292396Z",
     "start_time": "2024-08-24T15:25:54.695495Z"
    }
   },
   "id": "ffba29bd87d40868",
   "execution_count": 110
  },
  {
   "cell_type": "code",
   "outputs": [],
   "source": [
    "# Add Decision Tree Regressor predictions to errors dataframe based on index\n",
    "errors = errors.withColumn(\"index\", monotonically_increasing_id())\n",
    "predictions = predictions.withColumn(\"index\", monotonically_increasing_id())\n",
    "errors = errors.join(predictions.select(\"index\", \"dt_prediction\"), \"index\", \"left\").drop(\"index\")"
   ],
   "metadata": {
    "collapsed": false,
    "ExecuteTime": {
     "end_time": "2024-08-24T15:25:56.340366Z",
     "start_time": "2024-08-24T15:25:56.295346Z"
    }
   },
   "id": "895cdc77903e155c",
   "execution_count": 111
  },
  {
   "cell_type": "code",
   "outputs": [
    {
     "name": "stderr",
     "output_type": "stream",
     "text": [
      "2024-08-25 01:25:58,047 INFO XGBoost-PySpark: predict_udf Do the inference on the CPUs\n",
      "                                                                                \r"
     ]
    }
   ],
   "source": [
    "# Write errors dataframe to parquet for further analysis\n",
    "errors.write.mode('overwrite').parquet('../data/errors/')"
   ],
   "metadata": {
    "collapsed": false,
    "ExecuteTime": {
     "end_time": "2024-08-24T15:26:00.001414Z",
     "start_time": "2024-08-24T15:25:56.339624Z"
    }
   },
   "id": "899b230c0e5025a1",
   "execution_count": 112
  }
 ],
 "metadata": {
  "kernelspec": {
   "display_name": "Python 3",
   "language": "python",
   "name": "python3"
  },
  "language_info": {
   "codemirror_mode": {
    "name": "ipython",
    "version": 2
   },
   "file_extension": ".py",
   "mimetype": "text/x-python",
   "name": "python",
   "nbconvert_exporter": "python",
   "pygments_lexer": "ipython2",
   "version": "2.7.6"
  }
 },
 "nbformat": 4,
 "nbformat_minor": 5
}
