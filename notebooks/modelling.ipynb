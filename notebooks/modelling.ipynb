{
 "cells": [
  {
   "cell_type": "code",
   "execution_count": 4,
   "id": "initial_id",
   "metadata": {
    "collapsed": true,
    "ExecuteTime": {
     "end_time": "2024-08-24T05:38:27.056638Z",
     "start_time": "2024-08-24T05:38:27.009802Z"
    }
   },
   "outputs": [],
   "source": [
    "from pyspark.ml import Pipeline\n",
    "from pyspark.ml.evaluation import RegressionEvaluator\n",
    "from pyspark.ml.feature import VectorAssembler, StringIndexer, OneHotEncoder, StandardScaler\n",
    "from pyspark.ml.regression import DecisionTreeRegressor\n",
    "from pyspark.ml.regression import LinearRegression\n",
    "from pyspark.sql import SparkSession\n",
    "from pyspark.sql.functions import expm1\n",
    "from pyspark.sql.functions import log1p\n",
    "from pyspark.sql.functions import monotonically_increasing_id\n",
    "from xgboost.spark import SparkXGBRegressor"
   ]
  },
  {
   "cell_type": "code",
   "outputs": [],
   "source": [
    "spark = (\n",
    "    SparkSession.builder.appName(\"MAST30034 Tutorial 1\")\n",
    "    .config(\"spark.sql.repl.eagerEval.enabled\", True)\n",
    "    .config(\"spark.sql.parquet.cacheMetadata\", \"true\")\n",
    "    .config(\"spark.sql.session.timeZone\", \"Etc/UTC\")\n",
    "    .config(\"spark.driver.memory\", \"15g\")\n",
    "    .config(\"spark.sql.parquet.enableVectorizedReader\", \"false\")\n",
    "    .getOrCreate()\n",
    ")"
   ],
   "metadata": {
    "collapsed": false,
    "ExecuteTime": {
     "end_time": "2024-08-24T05:38:27.089162Z",
     "start_time": "2024-08-24T05:38:27.033335Z"
    }
   },
   "id": "9a01b74794b19576",
   "execution_count": 5
  },
  {
   "cell_type": "code",
   "outputs": [
    {
     "name": "stderr",
     "output_type": "stream",
     "text": [
      "                                                                                \r"
     ]
    },
    {
     "data": {
      "text/plain": "['hourly_timestamp',\n 'PULocationID',\n 'pickup_hour_of_day',\n 'pickup_day_of_week',\n 'pickup_month',\n 'pickup_borough',\n 'pickup_at_airport',\n 'num_trips',\n 'pickup_num_businesses',\n 'temperature_2m',\n 'relative_humidity_2m',\n 'rain',\n 'snowfall',\n 'wind_speed_10m']"
     },
     "execution_count": 6,
     "metadata": {},
     "output_type": "execute_result"
    }
   ],
   "source": [
    "data = spark.read.parquet('../data/curated/')\n",
    "data.columns"
   ],
   "metadata": {
    "collapsed": false,
    "ExecuteTime": {
     "end_time": "2024-08-24T05:38:29.359231Z",
     "start_time": "2024-08-24T05:38:27.076353Z"
    }
   },
   "id": "ac56c193b58a777b",
   "execution_count": 6
  },
  {
   "cell_type": "markdown",
   "source": [
    "Since the number of trips is a highly skewed count variable, we will use the log of the number of trips as the target variable. We will also add 1 to the number of trips before taking the log to avoid taking the log of 0."
   ],
   "metadata": {
    "collapsed": false
   },
   "id": "8264a6c69f3a3744"
  },
  {
   "cell_type": "code",
   "outputs": [],
   "source": [
    "data = data.withColumn(\"log_num_trips\", log1p(\"num_trips\"))"
   ],
   "metadata": {
    "collapsed": false,
    "ExecuteTime": {
     "end_time": "2024-08-24T05:38:29.446410Z",
     "start_time": "2024-08-24T05:38:29.358740Z"
    }
   },
   "id": "23eac040c8065136",
   "execution_count": 7
  },
  {
   "cell_type": "code",
   "outputs": [],
   "source": [
    "train_data = data.filter(data['pickup_month'] <= 5)  # Months 1-5 for training\n",
    "test_data = data.filter(data['pickup_month'] > 5)  # Month 6 for testing"
   ],
   "metadata": {
    "collapsed": false,
    "ExecuteTime": {
     "end_time": "2024-08-24T05:38:29.474039Z",
     "start_time": "2024-08-24T05:38:29.446823Z"
    }
   },
   "id": "68ab59ad6e2deb3b",
   "execution_count": 8
  },
  {
   "cell_type": "code",
   "outputs": [],
   "source": [
    "# Index and One-Hot Encode categorical feature\n",
    "indexers = [\n",
    "    StringIndexer(inputCol=column, outputCol=f\"{column}_index\").setHandleInvalid(\"keep\")\n",
    "    for column in ['pickup_day_of_week']\n",
    "]\n",
    "\n",
    "encoders = [\n",
    "    OneHotEncoder(inputCol=f\"{column}_index\", outputCol=f\"{column}_ohe\").setHandleInvalid(\"keep\")\n",
    "    for column in ['pickup_day_of_week']\n",
    "]"
   ],
   "metadata": {
    "collapsed": false,
    "ExecuteTime": {
     "end_time": "2024-08-24T05:38:29.507592Z",
     "start_time": "2024-08-24T05:38:29.472375Z"
    }
   },
   "id": "11989309dedc761a",
   "execution_count": 9
  },
  {
   "cell_type": "code",
   "outputs": [],
   "source": [
    "assembler = VectorAssembler(\n",
    "    inputCols=[\n",
    "        'pickup_hour_of_day',\n",
    "        \"pickup_at_airport\",\n",
    "        'pickup_num_businesses',\n",
    "        'temperature_2m',\n",
    "        'relative_humidity_2m',\n",
    "        'rain',\n",
    "        'snowfall',\n",
    "        'wind_speed_10m',\n",
    "        'pickup_day_of_week_ohe',\n",
    "    ],\n",
    "    outputCol=\"features\"\n",
    ").setHandleInvalid(\"keep\")"
   ],
   "metadata": {
    "collapsed": false,
    "ExecuteTime": {
     "end_time": "2024-08-24T05:38:29.515984Z",
     "start_time": "2024-08-24T05:38:29.504896Z"
    }
   },
   "id": "83d1f2cff2d01cc3",
   "execution_count": 10
  },
  {
   "cell_type": "code",
   "outputs": [],
   "source": [
    "scaler = StandardScaler(inputCol=\"features\", outputCol=\"scaled_features\")"
   ],
   "metadata": {
    "collapsed": false,
    "ExecuteTime": {
     "end_time": "2024-08-24T05:38:29.523630Z",
     "start_time": "2024-08-24T05:38:29.514289Z"
    }
   },
   "id": "edc05e0f1dcc1184",
   "execution_count": 11
  },
  {
   "cell_type": "markdown",
   "source": [
    "## Linear Regression\n",
    "with Lasso Regularization"
   ],
   "metadata": {
    "collapsed": false
   },
   "id": "416291526612839d"
  },
  {
   "cell_type": "code",
   "outputs": [],
   "source": [
    "lr = LinearRegression(featuresCol='scaled_features', labelCol='log_num_trips', elasticNetParam=1)"
   ],
   "metadata": {
    "collapsed": false,
    "ExecuteTime": {
     "end_time": "2024-08-24T05:38:29.562583Z",
     "start_time": "2024-08-24T05:38:29.523167Z"
    }
   },
   "id": "e6267cdcd1fe0ba4",
   "execution_count": 12
  },
  {
   "cell_type": "code",
   "outputs": [],
   "source": [
    "pipeline_lr = Pipeline(stages=indexers + encoders + [assembler, scaler, lr])"
   ],
   "metadata": {
    "collapsed": false,
    "ExecuteTime": {
     "end_time": "2024-08-24T05:38:29.572432Z",
     "start_time": "2024-08-24T05:38:29.563546Z"
    }
   },
   "id": "daecb98e3ee1ec86",
   "execution_count": 13
  },
  {
   "cell_type": "code",
   "outputs": [
    {
     "name": "stderr",
     "output_type": "stream",
     "text": [
      "24/08/24 15:38:35 WARN Instrumentation: [122499c5] regParam is zero, which might cause numerical instability and overfitting.\n",
      "24/08/24 15:38:37 WARN InstanceBuilder: Failed to load implementation from:dev.ludovic.netlib.blas.JNIBLAS\n",
      "24/08/24 15:38:37 WARN InstanceBuilder: Failed to load implementation from:dev.ludovic.netlib.lapack.JNILAPACK\n",
      "24/08/24 15:38:37 WARN Instrumentation: [122499c5] Cholesky solver failed due to singular covariance matrix. Retrying with Quasi-Newton solver.\n",
      "                                                                                \r"
     ]
    }
   ],
   "source": [
    "model = pipeline_lr.fit(train_data)"
   ],
   "metadata": {
    "collapsed": false,
    "ExecuteTime": {
     "end_time": "2024-08-24T05:38:40.585394Z",
     "start_time": "2024-08-24T05:38:29.569081Z"
    }
   },
   "id": "27532f1de6741a7a",
   "execution_count": 14
  },
  {
   "cell_type": "code",
   "outputs": [
    {
     "data": {
      "text/plain": "DenseVector([0.3516, 0.2006, 0.5932, 0.0158, 0.0132, -0.0042, -0.0203, -0.0113, 0.0106, -0.0352, -0.038, 0.0495, 0.0398, -0.0022, -0.0242, 0.0])"
     },
     "execution_count": 15,
     "metadata": {},
     "output_type": "execute_result"
    }
   ],
   "source": [
    "# Print the columns and their corresponding coefficients\n",
    "model.stages[-1].coefficients"
   ],
   "metadata": {
    "collapsed": false,
    "ExecuteTime": {
     "end_time": "2024-08-24T05:38:40.637908Z",
     "start_time": "2024-08-24T05:38:40.589144Z"
    }
   },
   "id": "904153d6d1987540",
   "execution_count": 15
  },
  {
   "cell_type": "code",
   "outputs": [],
   "source": [
    "predictions = model.transform(test_data)\n",
    "predictions = predictions.withColumn(\"lr_prediction\", expm1(predictions[\"prediction\"]))"
   ],
   "metadata": {
    "collapsed": false,
    "ExecuteTime": {
     "end_time": "2024-08-24T05:38:40.758071Z",
     "start_time": "2024-08-24T05:38:40.627429Z"
    }
   },
   "id": "900d2d724c6168db",
   "execution_count": 16
  },
  {
   "cell_type": "code",
   "outputs": [
    {
     "name": "stderr",
     "output_type": "stream",
     "text": [
      "                                                                                \r"
     ]
    },
    {
     "name": "stdout",
     "output_type": "stream",
     "text": [
      "Root Mean Squared Error (RMSE) on test data = 108.68464173837049\n",
      "R2 on test data = 0.0267485443305312\n"
     ]
    }
   ],
   "source": [
    "evaluator = RegressionEvaluator(\n",
    "    labelCol=\"num_trips\", predictionCol=\"lr_prediction\", metricName=\"rmse\")\n",
    "\n",
    "rmse = evaluator.evaluate(predictions)\n",
    "r2 = evaluator.evaluate(predictions, {evaluator.metricName: \"r2\"})\n",
    "\n",
    "print(f\"Root Mean Squared Error (RMSE) on test data = {rmse}\")\n",
    "print(f\"R2 on test data = {r2}\")"
   ],
   "metadata": {
    "collapsed": false,
    "ExecuteTime": {
     "end_time": "2024-08-24T05:38:42.255130Z",
     "start_time": "2024-08-24T05:38:40.759915Z"
    }
   },
   "id": "aec3d24996644825",
   "execution_count": 17
  },
  {
   "cell_type": "code",
   "outputs": [],
   "source": [
    "errors = predictions.select('pickup_hour_of_day', 'pickup_day_of_week', 'pickup_month', 'num_trips', 'lr_prediction',\n",
    "                            'pickup_num_businesses', \"PULocationID\")"
   ],
   "metadata": {
    "collapsed": false,
    "ExecuteTime": {
     "end_time": "2024-08-24T05:38:42.302198Z",
     "start_time": "2024-08-24T05:38:42.264595Z"
    }
   },
   "id": "57246b5e5e5d08d1",
   "execution_count": 18
  },
  {
   "cell_type": "markdown",
   "source": [
    "## XGBoost"
   ],
   "metadata": {
    "collapsed": false
   },
   "id": "1e4341ca751dea83"
  },
  {
   "cell_type": "code",
   "outputs": [],
   "source": [
    "xgb_regressor = SparkXGBRegressor(\n",
    "    features_col=\"scaled_features\",\n",
    "    label_col=\"log_num_trips\",\n",
    "    num_workers=2,\n",
    ")"
   ],
   "metadata": {
    "collapsed": false,
    "ExecuteTime": {
     "end_time": "2024-08-24T05:38:42.303795Z",
     "start_time": "2024-08-24T05:38:42.296655Z"
    }
   },
   "id": "827d91cbfd5b81fd",
   "execution_count": 19
  },
  {
   "cell_type": "code",
   "outputs": [],
   "source": [
    "pipeline_xgb = Pipeline(stages=indexers + encoders + [assembler, scaler, xgb_regressor])"
   ],
   "metadata": {
    "collapsed": false,
    "ExecuteTime": {
     "end_time": "2024-08-24T05:38:42.314201Z",
     "start_time": "2024-08-24T05:38:42.301187Z"
    }
   },
   "id": "2954f77185a3b728",
   "execution_count": 20
  },
  {
   "cell_type": "code",
   "outputs": [
    {
     "name": "stderr",
     "output_type": "stream",
     "text": [
      "2024-08-24 15:38:43,885 INFO XGBoost-PySpark: _fit Running xgboost-2.1.1 on 2 workers with\n",
      "\tbooster params: {'objective': 'reg:squarederror', 'device': 'cpu', 'nthread': 1}\n",
      "\ttrain_call_kwargs_params: {'verbose_eval': True, 'num_boost_round': 100}\n",
      "\tdmatrix_kwargs: {'nthread': 1, 'missing': nan}\n",
      "2024-08-24 15:38:49,356 INFO XGBoost-PySpark: _train_booster Training on CPUs 2]\n",
      "[15:38:50] Task 0 got rank 0\n",
      "[15:38:50] Task 1 got rank 1\n",
      "2024-08-24 15:38:54,031 INFO XGBoost-PySpark: _fit Finished xgboost training!   \n"
     ]
    }
   ],
   "source": [
    "model = pipeline_xgb.fit(train_data)"
   ],
   "metadata": {
    "collapsed": false,
    "ExecuteTime": {
     "end_time": "2024-08-24T05:38:54.117081Z",
     "start_time": "2024-08-24T05:38:42.306011Z"
    }
   },
   "id": "b46e87e9f8b5d314",
   "execution_count": 21
  },
  {
   "cell_type": "code",
   "outputs": [],
   "source": [
    "predictions = model.transform(test_data)\n",
    "predictions = predictions.withColumn(\"xgb_prediction\", expm1(predictions[\"prediction\"]))"
   ],
   "metadata": {
    "collapsed": false,
    "ExecuteTime": {
     "end_time": "2024-08-24T05:38:54.308663Z",
     "start_time": "2024-08-24T05:38:54.118967Z"
    }
   },
   "id": "ec9bcfeb4c09eb9",
   "execution_count": 22
  },
  {
   "cell_type": "code",
   "outputs": [
    {
     "name": "stderr",
     "output_type": "stream",
     "text": [
      "2024-08-24 15:38:54,626 INFO XGBoost-PySpark: predict_udf Do the inference on the CPUs\n",
      "2024-08-24 15:38:57,354 INFO XGBoost-PySpark: predict_udf Do the inference on the CPUs\n",
      "[Stage 26:>                                                         (0 + 8) / 8]\r"
     ]
    },
    {
     "name": "stdout",
     "output_type": "stream",
     "text": [
      "Root Mean Squared Error (RMSE) on test data = 45.139417409822194\n",
      "R2 on test data = 0.8321193643806969\n"
     ]
    },
    {
     "name": "stderr",
     "output_type": "stream",
     "text": [
      "                                                                                \r"
     ]
    }
   ],
   "source": [
    "evaluator = RegressionEvaluator(\n",
    "    labelCol=\"num_trips\", predictionCol=\"xgb_prediction\", metricName=\"rmse\")\n",
    "\n",
    "rmse = evaluator.evaluate(predictions)\n",
    "r2 = evaluator.evaluate(predictions, {evaluator.metricName: \"r2\"})\n",
    "\n",
    "print(f\"Root Mean Squared Error (RMSE) on test data = {rmse}\")\n",
    "print(f\"R2 on test data = {r2}\")"
   ],
   "metadata": {
    "collapsed": false,
    "ExecuteTime": {
     "end_time": "2024-08-24T05:38:58.515258Z",
     "start_time": "2024-08-24T05:38:54.310003Z"
    }
   },
   "id": "3e9aeb7d8eec84b6",
   "execution_count": 23
  },
  {
   "cell_type": "code",
   "outputs": [],
   "source": [
    "# Add XGBoost predictions to errors dataframe based on index\n",
    "errors = errors.withColumn(\"index\", monotonically_increasing_id())\n",
    "predictions = predictions.withColumn(\"index\", monotonically_increasing_id())\n",
    "errors = errors.join(predictions.select(\"index\", \"xgb_prediction\"), \"index\", \"left\").drop(\"index\")"
   ],
   "metadata": {
    "collapsed": false,
    "ExecuteTime": {
     "end_time": "2024-08-24T05:38:58.601084Z",
     "start_time": "2024-08-24T05:38:58.512733Z"
    }
   },
   "id": "d04ec33190c3dc79",
   "execution_count": 24
  },
  {
   "cell_type": "markdown",
   "source": [
    "## Decision Tree Regressor"
   ],
   "metadata": {
    "collapsed": false
   },
   "id": "f4a0eb1a4ef85caa"
  },
  {
   "cell_type": "code",
   "outputs": [],
   "source": [
    "decision_tree_regressor = DecisionTreeRegressor(\n",
    "    featuresCol=\"scaled_features\",\n",
    "    labelCol=\"log_num_trips\"\n",
    ")"
   ],
   "metadata": {
    "collapsed": false,
    "ExecuteTime": {
     "end_time": "2024-08-24T05:38:58.636952Z",
     "start_time": "2024-08-24T05:38:58.604307Z"
    }
   },
   "id": "35ba99bf9965c890",
   "execution_count": 25
  },
  {
   "cell_type": "code",
   "outputs": [],
   "source": [
    "pipeline_dt = Pipeline(stages=indexers + encoders + [assembler, scaler, decision_tree_regressor])"
   ],
   "metadata": {
    "collapsed": false,
    "ExecuteTime": {
     "end_time": "2024-08-24T05:38:58.646416Z",
     "start_time": "2024-08-24T05:38:58.634382Z"
    }
   },
   "id": "938cb7bd5f4becfa",
   "execution_count": 26
  },
  {
   "cell_type": "code",
   "outputs": [
    {
     "name": "stderr",
     "output_type": "stream",
     "text": [
      "                                                                                \r"
     ]
    }
   ],
   "source": [
    "model = pipeline_dt.fit(train_data)"
   ],
   "metadata": {
    "collapsed": false,
    "ExecuteTime": {
     "end_time": "2024-08-24T05:39:08.503457Z",
     "start_time": "2024-08-24T05:38:58.642014Z"
    }
   },
   "id": "83c5b7995916fdb7",
   "execution_count": 27
  },
  {
   "cell_type": "code",
   "outputs": [],
   "source": [
    "predictions = model.transform(test_data)\n",
    "predictions = predictions.withColumn(\"dt_prediction\", expm1(predictions[\"prediction\"]))"
   ],
   "metadata": {
    "collapsed": false,
    "ExecuteTime": {
     "end_time": "2024-08-24T05:39:08.609676Z",
     "start_time": "2024-08-24T05:39:08.503388Z"
    }
   },
   "id": "2eb09b8d20f56d8",
   "execution_count": 28
  },
  {
   "cell_type": "code",
   "outputs": [
    {
     "name": "stdout",
     "output_type": "stream",
     "text": [
      "Root Mean Squared Error (RMSE) on test data = 92.0683461386725\n",
      "R2 on test data = 0.30159170423746706\n"
     ]
    }
   ],
   "source": [
    "evaluator = RegressionEvaluator(\n",
    "    labelCol=\"num_trips\", predictionCol=\"dt_prediction\", metricName=\"rmse\")\n",
    "\n",
    "rmse = evaluator.evaluate(predictions)\n",
    "r2 = evaluator.evaluate(predictions, {evaluator.metricName: \"r2\"})\n",
    "\n",
    "print(f\"Root Mean Squared Error (RMSE) on test data = {rmse}\")\n",
    "print(f\"R2 on test data = {r2}\")"
   ],
   "metadata": {
    "collapsed": false,
    "ExecuteTime": {
     "end_time": "2024-08-24T05:39:09.846361Z",
     "start_time": "2024-08-24T05:39:08.614966Z"
    }
   },
   "id": "ffba29bd87d40868",
   "execution_count": 29
  },
  {
   "cell_type": "code",
   "outputs": [],
   "source": [
    "# Add Decision Tree Regressor predictions to errors dataframe based on index\n",
    "errors = errors.withColumn(\"index\", monotonically_increasing_id())\n",
    "predictions = predictions.withColumn(\"index\", monotonically_increasing_id())\n",
    "errors = errors.join(predictions.select(\"index\", \"dt_prediction\"), \"index\", \"left\").drop(\"index\")"
   ],
   "metadata": {
    "collapsed": false,
    "ExecuteTime": {
     "end_time": "2024-08-24T05:39:09.953179Z",
     "start_time": "2024-08-24T05:39:09.844064Z"
    }
   },
   "id": "895cdc77903e155c",
   "execution_count": 30
  },
  {
   "cell_type": "code",
   "outputs": [
    {
     "name": "stderr",
     "output_type": "stream",
     "text": [
      "2024-08-24 15:39:11,162 INFO XGBoost-PySpark: predict_udf Do the inference on the CPUs\n",
      "                                                                                \r"
     ]
    }
   ],
   "source": [
    "# Write errors dataframe to parquet for further analysis\n",
    "errors.write.mode('overwrite').parquet('../data/errors/')"
   ],
   "metadata": {
    "collapsed": false,
    "ExecuteTime": {
     "end_time": "2024-08-24T05:39:13.474993Z",
     "start_time": "2024-08-24T05:39:09.895614Z"
    }
   },
   "id": "899b230c0e5025a1",
   "execution_count": 31
  }
 ],
 "metadata": {
  "kernelspec": {
   "display_name": "Python 3",
   "language": "python",
   "name": "python3"
  },
  "language_info": {
   "codemirror_mode": {
    "name": "ipython",
    "version": 2
   },
   "file_extension": ".py",
   "mimetype": "text/x-python",
   "name": "python",
   "nbconvert_exporter": "python",
   "pygments_lexer": "ipython2",
   "version": "2.7.6"
  }
 },
 "nbformat": 4,
 "nbformat_minor": 5
}
