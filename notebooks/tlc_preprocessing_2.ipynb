{
 "cells": [
  {
   "cell_type": "code",
   "outputs": [],
   "source": [
    "from pyspark.sql import SparkSession\n",
    "from pyspark.sql.functions import unix_timestamp\n",
    "from pyspark.sql.functions import hour, dayofweek, month, date_trunc, col"
   ],
   "metadata": {
    "collapsed": false,
    "ExecuteTime": {
     "end_time": "2024-08-21T15:20:42.734331Z",
     "start_time": "2024-08-21T15:20:42.717285Z"
    }
   },
   "id": "171d76332bcbc848",
   "execution_count": 19
  },
  {
   "cell_type": "code",
   "execution_count": 20,
   "id": "initial_id",
   "metadata": {
    "collapsed": true,
    "ExecuteTime": {
     "end_time": "2024-08-21T15:20:42.797111Z",
     "start_time": "2024-08-21T15:20:42.744111Z"
    }
   },
   "outputs": [],
   "source": [
    "# Create a spark session (which will run spark jobs)\n",
    "spark = (\n",
    "    SparkSession.builder.appName(\"MAST30034 Tutorial 1\")\n",
    "    .config(\"spark.sql.repl.eagerEval.enabled\", True)\n",
    "    .config(\"spark.sql.parquet.cacheMetadata\", \"true\")\n",
    "    .config(\"spark.sql.session.timeZone\", \"Etc/UTC\")\n",
    "    .config(\"spark.driver.memory\", \"15g\")\n",
    "    .getOrCreate()\n",
    ")"
   ]
  },
  {
   "cell_type": "code",
   "outputs": [],
   "source": [
    "tlc_all = spark.read.parquet('../data/raw/tlc_data/')"
   ],
   "metadata": {
    "collapsed": false,
    "ExecuteTime": {
     "end_time": "2024-08-21T15:20:42.898844Z",
     "start_time": "2024-08-21T15:20:42.768421Z"
    }
   },
   "id": "1182aa7f1cbd8cbe",
   "execution_count": 21
  },
  {
   "cell_type": "markdown",
   "source": [
    "## Feature Engineering"
   ],
   "metadata": {
    "collapsed": false
   },
   "id": "96e7680e6617c863"
  },
  {
   "cell_type": "code",
   "outputs": [
    {
     "name": "stdout",
     "output_type": "stream",
     "text": [
      "+-----------------+--------------------+-------------------+-------------------+-------------------+------------+------------+----------+---------+-------------------+-----+----+---------+--------------------+-----------+----+----------+-------------------+-----------------+------------------+----------------+--------------+-------------------+------------------+------------------+----------+------------+\n",
      "|hvfhs_license_num|dispatching_base_num|   request_datetime|    pickup_datetime|   dropoff_datetime|PULocationID|DOLocationID|trip_miles|trip_time|base_passenger_fare|tolls| bcf|sales_tax|congestion_surcharge|airport_fee|tips|driver_pay|shared_request_flag|shared_match_flag|access_a_ride_flag|wav_request_flag|wav_match_flag|   hourly_timestamp|pickup_hour_of_day|pickup_day_of_week|is_weekend|pickup_month|\n",
      "+-----------------+--------------------+-------------------+-------------------+-------------------+------------+------------+----------+---------+-------------------+-----+----+---------+--------------------+-----------+----+----------+-------------------+-----------------+------------------+----------------+--------------+-------------------+------------------+------------------+----------+------------+\n",
      "|           HV0003|              B03404|2022-03-01 00:31:18|2022-03-01 00:35:04|2022-03-01 00:43:48|         177|          61|      1.72|      524|               8.18|  0.0|0.25|     0.73|                 0.0|        0.0| 3.0|      6.62|                  N|                N|                  |               N|             N|2022-03-01 00:00:00|                 0|                 3|     false|           3|\n",
      "|           HV0003|              B03404|2022-03-01 00:25:25|2022-03-01 00:28:42|2022-03-01 00:41:40|         114|          65|      3.27|      778|              15.08|  0.0|0.45|     1.34|                2.75|        0.0| 3.0|     10.66|                  N|                N|                  |               N|             N|2022-03-01 00:00:00|                 0|                 3|     false|           3|\n",
      "|           HV0005|              B03406|2022-03-01 00:08:50|2022-03-01 00:14:24|2022-03-01 00:24:46|         209|         144|     1.433|      622|              16.65|  0.0| 0.5|     1.48|                2.75|        0.0| 0.0|     14.69|                  N|                N|                 N|               N|             N|2022-03-01 00:00:00|                 0|                 3|     false|           3|\n",
      "|           HV0003|              B03404|2022-03-01 00:01:47|2022-03-01 00:04:35|2022-03-01 00:22:57|          74|         134|     10.86|     1102|              27.38| 6.55|1.02|     3.01|                 0.0|        0.0| 0.0|     22.32|                  N|                N|                  |               N|             N|2022-03-01 00:00:00|                 0|                 3|     false|           3|\n",
      "|           HV0003|              B03404|2022-03-01 00:31:55|2022-03-01 00:33:16|2022-03-01 00:40:13|          95|          95|      1.51|      417|               9.36|  0.0|0.28|     0.83|                 0.0|        0.0| 3.0|      5.44|                  N|                N|                  |               N|             N|2022-03-01 00:00:00|                 0|                 3|     false|           3|\n",
      "+-----------------+--------------------+-------------------+-------------------+-------------------+------------+------------+----------+---------+-------------------+-----+----+---------+--------------------+-----------+----+----------+-------------------+-----------------+------------------+----------------+--------------+-------------------+------------------+------------------+----------+------------+\n"
     ]
    }
   ],
   "source": [
    "# Add column for hour of day and day of week\n",
    "tlc_all = tlc_all.withColumn(\"hourly_timestamp\", date_trunc(\"hour\",col(\"pickup_datetime\")))\n",
    "tlc_all = tlc_all.withColumn(\"pickup_hour_of_day\", hour(\"pickup_datetime\"))\n",
    "tlc_all = tlc_all.withColumn(\"pickup_day_of_week\", dayofweek(\"pickup_datetime\"))\n",
    "tlc_all = tlc_all.withColumn(\"is_weekend\", (col(\"pickup_day_of_week\") == 1) | (col(\"pickup_day_of_week\") == 7))\n",
    "tlc_all = tlc_all.withColumn(\"pickup_month\", month(\"pickup_datetime\"))\n",
    "tlc_all.show(5)"
   ],
   "metadata": {
    "collapsed": false,
    "ExecuteTime": {
     "end_time": "2024-08-21T15:20:43.568077Z",
     "start_time": "2024-08-21T15:20:42.893857Z"
    }
   },
   "id": "97adcbff8cc2180c",
   "execution_count": 22
  },
  {
   "cell_type": "code",
   "outputs": [],
   "source": [
    "# Add column for waiting time\n",
    "tlc_all = tlc_all.withColumn(\"waiting_time\", unix_timestamp(\"pickup_datetime\") - unix_timestamp(\"request_datetime\"))"
   ],
   "metadata": {
    "collapsed": false,
    "ExecuteTime": {
     "end_time": "2024-08-21T15:20:43.582694Z",
     "start_time": "2024-08-21T15:20:43.547316Z"
    }
   },
   "id": "22c83801841a891f",
   "execution_count": 23
  },
  {
   "cell_type": "code",
   "outputs": [
    {
     "name": "stdout",
     "output_type": "stream",
     "text": [
      "+----------+-------------+--------------------+------------+\n",
      "|LocationID|      Borough|                Zone|service_zone|\n",
      "+----------+-------------+--------------------+------------+\n",
      "|         1|          EWR|      Newark Airport|         EWR|\n",
      "|         2|       Queens|         Jamaica Bay|   Boro Zone|\n",
      "|         3|        Bronx|Allerton/Pelham G...|   Boro Zone|\n",
      "|         4|    Manhattan|       Alphabet City| Yellow Zone|\n",
      "|         5|Staten Island|       Arden Heights|   Boro Zone|\n",
      "|         6|Staten Island|Arrochar/Fort Wad...|   Boro Zone|\n",
      "|         7|       Queens|             Astoria|   Boro Zone|\n",
      "|         8|       Queens|        Astoria Park|   Boro Zone|\n",
      "|         9|       Queens|          Auburndale|   Boro Zone|\n",
      "|        10|       Queens|        Baisley Park|   Boro Zone|\n",
      "+----------+-------------+--------------------+------------+\n"
     ]
    }
   ],
   "source": [
    "zones = spark.read.csv(\"../data/taxi_zones/taxi+_zone_lookup.csv\", header=True)\n",
    "zones.show(10)"
   ],
   "metadata": {
    "collapsed": false,
    "ExecuteTime": {
     "end_time": "2024-08-21T15:20:43.755392Z",
     "start_time": "2024-08-21T15:20:43.567978Z"
    }
   },
   "id": "7a904fe20c2d7b0a",
   "execution_count": 24
  },
  {
   "cell_type": "markdown",
   "source": [
    "### Aggregating the movement data, to use in movement_plot.ipynb"
   ],
   "metadata": {
    "collapsed": false
   },
   "id": "6d3c6dfc88033f0e"
  },
  {
   "cell_type": "code",
   "outputs": [],
   "source": [
    "# Merge the data with the shapefile\n",
    "tlc_all = tlc_all.alias(\"tlc\") \\\n",
    "    .join(zones.alias(\"zone\"), tlc_all.PULocationID == zones.LocationID, how='left') \\\n",
    "    .select(\"tlc.*\", \"zone.Borough\", \"zone.Zone\") \\\n",
    "    .withColumnRenamed(\"Borough\", \"pickup_borough\")\n",
    "tlc_all = tlc_all.alias(\"tlc\") \\\n",
    "    .join(zones.alias(\"zone\"), tlc_all.DOLocationID == zones.LocationID, how='left') \\\n",
    "    .select(\"tlc.*\", \"zone.Borough\") \\\n",
    "    .withColumnRenamed(\"Borough\", \"dropoff_borough\")"
   ],
   "metadata": {
    "collapsed": false,
    "ExecuteTime": {
     "end_time": "2024-08-21T15:20:43.876254Z",
     "start_time": "2024-08-21T15:20:43.759672Z"
    }
   },
   "id": "e05105865bcc3829",
   "execution_count": 25
  },
  {
   "cell_type": "code",
   "outputs": [],
   "source": [
    "# Check if the pickup is at an airport, by checking if zone name contains \"airport\"\n",
    "tlc_all = tlc_all.withColumn(\"pickup_at_airport\", col(\"Zone\").contains(\"Airport\"))"
   ],
   "metadata": {
    "collapsed": false,
    "ExecuteTime": {
     "end_time": "2024-08-21T15:20:43.893113Z",
     "start_time": "2024-08-21T15:20:43.844185Z"
    }
   },
   "id": "fd9d0bb94addd2c5",
   "execution_count": 26
  },
  {
   "cell_type": "code",
   "outputs": [],
   "source": [
    "movement_aggregates = tlc_all.groupBy('pickup_borough', 'dropoff_borough', 'pickup_hour_of_day').agg({\n",
    "    '*': 'count',\n",
    "})\n",
    "movement_aggregates = movement_aggregates.withColumnRenamed('count(1)', 'num_trips')"
   ],
   "metadata": {
    "collapsed": false,
    "ExecuteTime": {
     "end_time": "2024-08-21T15:20:43.897111Z",
     "start_time": "2024-08-21T15:20:43.859695Z"
    }
   },
   "id": "d2bd35550affe2d",
   "execution_count": 27
  },
  {
   "cell_type": "code",
   "outputs": [
    {
     "name": "stderr",
     "output_type": "stream",
     "text": [
      "                                                                                \r"
     ]
    }
   ],
   "source": [
    "movement_aggregates.write.mode('overwrite').parquet('../data/movement_aggregates')"
   ],
   "metadata": {
    "collapsed": false,
    "ExecuteTime": {
     "end_time": "2024-08-21T15:21:03.372245Z",
     "start_time": "2024-08-21T15:20:43.878085Z"
    }
   },
   "id": "1551f5fdcd00bc60",
   "execution_count": 28
  },
  {
   "cell_type": "code",
   "outputs": [],
   "source": [
    "demand_aggregate = tlc_all.groupBy('PULocationID', 'hourly_timestamp', 'pickup_hour_of_day', 'pickup_day_of_week', 'pickup_month', 'pickup_borough', 'is_weekend', \"pickup_at_airport\")\\\n",
    "    .agg({'*': 'count'})\\\n",
    "    .withColumnRenamed('count(1)', 'num_trips')\\\n",
    "    .orderBy('hourly_timestamp')"
   ],
   "metadata": {
    "collapsed": false,
    "ExecuteTime": {
     "end_time": "2024-08-21T15:21:03.457685Z",
     "start_time": "2024-08-21T15:21:03.395071Z"
    }
   },
   "id": "42137b2e89e36cc2",
   "execution_count": 29
  },
  {
   "cell_type": "code",
   "outputs": [],
   "source": [],
   "metadata": {
    "collapsed": false,
    "ExecuteTime": {
     "end_time": "2024-08-21T15:21:03.466961Z",
     "start_time": "2024-08-21T15:21:03.461304Z"
    }
   },
   "id": "ac88eb36e8d75324",
   "execution_count": 29
  },
  {
   "cell_type": "markdown",
   "source": [
    "### Combining with LOB data"
   ],
   "metadata": {
    "collapsed": false
   },
   "id": "e12a952563cf9232"
  },
  {
   "cell_type": "code",
   "outputs": [
    {
     "name": "stdout",
     "output_type": "stream",
     "text": [
      "+-----+----------+\n",
      "|count|LocationID|\n",
      "+-----+----------+\n",
      "| 4996|         3|\n",
      "| 3132|         4|\n",
      "| 1753|         5|\n",
      "| 2792|         6|\n",
      "|21999|         7|\n",
      "+-----+----------+\n"
     ]
    }
   ],
   "source": [
    "subway_df = spark.read.parquet(\"../data/raw/lob_data/\")\n",
    "subway_df.show(5)"
   ],
   "metadata": {
    "collapsed": false,
    "ExecuteTime": {
     "end_time": "2024-08-21T15:21:03.614685Z",
     "start_time": "2024-08-21T15:21:03.465454Z"
    }
   },
   "id": "989af8618d94a6cd",
   "execution_count": 30
  },
  {
   "cell_type": "code",
   "outputs": [],
   "source": [],
   "metadata": {
    "collapsed": false,
    "ExecuteTime": {
     "end_time": "2024-08-21T15:21:03.627906Z",
     "start_time": "2024-08-21T15:21:03.614920Z"
    }
   },
   "id": "180f0503b1da0dae",
   "execution_count": 30
  },
  {
   "cell_type": "code",
   "outputs": [],
   "source": [
    "combined_df = demand_aggregate.alias(\"tlc\").join(\n",
    "    subway_df.withColumnsRenamed({\"count\": \"pickup_num_businesses\", \"LocationID\": \"PULocationID\"}),\n",
    "    on=\"PULocationID\",\n",
    "    how='left'\n",
    ")"
   ],
   "metadata": {
    "collapsed": false,
    "ExecuteTime": {
     "end_time": "2024-08-21T15:21:03.635957Z",
     "start_time": "2024-08-21T15:21:03.620066Z"
    }
   },
   "id": "7f01f5c6f99de8c7",
   "execution_count": 31
  },
  {
   "cell_type": "markdown",
   "source": [
    "Combining with weather data"
   ],
   "metadata": {
    "collapsed": false
   },
   "id": "70269cf6341c898f"
  },
  {
   "cell_type": "code",
   "outputs": [],
   "source": [
    "weather_df = spark.read.csv(\"../data/landing/weather/hourly_weather.csv\", header=True)\n",
    "combined_df = combined_df.alias(\"tlc\").join(\n",
    "    weather_df.withColumnsRenamed({\"date\": \"hourly_timestamp\"}),\n",
    "    on=\"hourly_timestamp\",\n",
    "    how='left'\n",
    ")"
   ],
   "metadata": {
    "collapsed": false,
    "ExecuteTime": {
     "end_time": "2024-08-21T15:21:03.906682Z",
     "start_time": "2024-08-21T15:21:03.632662Z"
    }
   },
   "id": "b7bd179de83622c7",
   "execution_count": 32
  },
  {
   "cell_type": "code",
   "outputs": [],
   "source": [
    "combined_df = combined_df.withColumn(\"temperature_2m\", col(\"temperature_2m\").cast(\"double\"))\n",
    "combined_df = combined_df.withColumn(\"relative_humidity_2m\", col(\"relative_humidity_2m\").cast(\"double\"))\n",
    "combined_df = combined_df.withColumn(\"rain\", col(\"rain\").cast(\"double\"))\n",
    "combined_df = combined_df.withColumn(\"snowfall\", col(\"snowfall\").cast(\"double\"))\n",
    "combined_df = combined_df.withColumn(\"wind_speed_10m\", col(\"wind_speed_10m\").cast(\"double\"))"
   ],
   "metadata": {
    "collapsed": false,
    "ExecuteTime": {
     "end_time": "2024-08-21T15:21:03.915390Z",
     "start_time": "2024-08-21T15:21:03.821015Z"
    }
   },
   "id": "8b69c8e5af7deeb9",
   "execution_count": 33
  },
  {
   "cell_type": "code",
   "outputs": [
    {
     "name": "stdout",
     "output_type": "stream",
     "text": [
      "root\n",
      " |-- hourly_timestamp: timestamp (nullable = true)\n",
      " |-- PULocationID: long (nullable = true)\n",
      " |-- pickup_hour_of_day: integer (nullable = true)\n",
      " |-- pickup_day_of_week: integer (nullable = true)\n",
      " |-- pickup_month: integer (nullable = true)\n",
      " |-- pickup_borough: string (nullable = true)\n",
      " |-- is_weekend: boolean (nullable = true)\n",
      " |-- pickup_at_airport: boolean (nullable = true)\n",
      " |-- num_trips: long (nullable = false)\n",
      " |-- pickup_num_businesses: long (nullable = true)\n",
      " |-- temperature_2m: double (nullable = true)\n",
      " |-- relative_humidity_2m: double (nullable = true)\n",
      " |-- rain: double (nullable = true)\n",
      " |-- snowfall: double (nullable = true)\n",
      " |-- wind_speed_10m: double (nullable = true)\n"
     ]
    }
   ],
   "source": [
    "combined_df.printSchema()"
   ],
   "metadata": {
    "collapsed": false,
    "ExecuteTime": {
     "end_time": "2024-08-21T15:21:03.916665Z",
     "start_time": "2024-08-21T15:21:03.866997Z"
    }
   },
   "id": "739e809cd6912fef",
   "execution_count": 34
  },
  {
   "cell_type": "code",
   "outputs": [
    {
     "name": "stderr",
     "output_type": "stream",
     "text": [
      "[Stage 61:===================================================>    (21 + 2) / 23]\r"
     ]
    },
    {
     "name": "stdout",
     "output_type": "stream",
     "text": [
      "+-------------------+------------+------------------+------------------+------------+--------------+----------+-----------------+---------+---------------------+--------------+--------------------+----+--------+--------------+\n",
      "|   hourly_timestamp|PULocationID|pickup_hour_of_day|pickup_day_of_week|pickup_month|pickup_borough|is_weekend|pickup_at_airport|num_trips|pickup_num_businesses|temperature_2m|relative_humidity_2m|rain|snowfall|wind_speed_10m|\n",
      "+-------------------+------------+------------------+------------------+------------+--------------+----------+-----------------+---------+---------------------+--------------+--------------------+----+--------+--------------+\n",
      "|2022-03-01 02:00:00|          28|                 2|                 3|           3|        Queens|     false|            false|        8|                 6571|    -3.2215002|           69.164276| 0.0|     0.0|      8.707237|\n",
      "|2022-03-01 02:00:00|           9|                 2|                 3|           3|        Queens|     false|            false|        3|                 3027|    -3.2215002|           69.164276| 0.0|     0.0|      8.707237|\n",
      "|2022-03-01 02:00:00|         217|                 2|                 3|           3|      Brooklyn|     false|            false|        1|                 1674|    -3.2215002|           69.164276| 0.0|     0.0|      8.707237|\n",
      "|2022-03-01 03:00:00|         169|                 3|                 3|           3|         Bronx|     false|            false|       26|                10299|       -3.0715|            68.39635| 0.0|     0.0|       7.42159|\n",
      "|2022-03-01 05:00:00|         242|                 5|                 3|           3|         Bronx|     false|            false|       38|                 8558|       -3.2715|           61.749226| 0.0|     0.0|     7.2359104|\n",
      "+-------------------+------------+------------------+------------------+------------+--------------+----------+-----------------+---------+---------------------+--------------+--------------------+----+--------+--------------+\n"
     ]
    },
    {
     "name": "stderr",
     "output_type": "stream",
     "text": [
      "                                                                                \r"
     ]
    }
   ],
   "source": [
    "combined_df.show(5)"
   ],
   "metadata": {
    "collapsed": false,
    "ExecuteTime": {
     "end_time": "2024-08-21T15:21:57.783273Z",
     "start_time": "2024-08-21T15:21:03.874235Z"
    }
   },
   "id": "66a2120ac6604c62",
   "execution_count": 35
  },
  {
   "cell_type": "code",
   "outputs": [],
   "source": [
    "combined_df = combined_df.dropna()"
   ],
   "metadata": {
    "collapsed": false,
    "ExecuteTime": {
     "end_time": "2024-08-21T15:21:57.869218Z",
     "start_time": "2024-08-21T15:21:57.786740Z"
    }
   },
   "id": "7920b59eb7023f57",
   "execution_count": 36
  },
  {
   "cell_type": "code",
   "outputs": [
    {
     "name": "stderr",
     "output_type": "stream",
     "text": [
      "                                                                                \r"
     ]
    }
   ],
   "source": [
    "combined_df.write.mode('overwrite').parquet('../data/combined_data')"
   ],
   "metadata": {
    "collapsed": false,
    "ExecuteTime": {
     "end_time": "2024-08-21T15:22:51.187230Z",
     "start_time": "2024-08-21T15:21:57.811204Z"
    }
   },
   "id": "8d90d8319b524a0e",
   "execution_count": 37
  }
 ],
 "metadata": {
  "kernelspec": {
   "display_name": "Python 3",
   "language": "python",
   "name": "python3"
  },
  "language_info": {
   "codemirror_mode": {
    "name": "ipython",
    "version": 2
   },
   "file_extension": ".py",
   "mimetype": "text/x-python",
   "name": "python",
   "nbconvert_exporter": "python",
   "pygments_lexer": "ipython2",
   "version": "2.7.6"
  }
 },
 "nbformat": 4,
 "nbformat_minor": 5
}
