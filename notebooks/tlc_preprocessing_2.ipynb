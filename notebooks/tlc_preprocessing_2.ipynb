{
 "cells": [
  {
   "cell_type": "markdown",
   "source": [
    "# Final Preprocessing Step\n",
    "Read in the raw data, and perform the following steps:\n",
    "1. Add columns for hour of day and day of week\n",
    "2. Aggregate the data to plot the inter-borough movement of taxis (used in movement_plot.ipynb)\n",
    "3. Combine with the Legally Operating Business data and weather data\n",
    "4. Save the final data to a parquet file in the combined_data zone"
   ],
   "metadata": {
    "collapsed": false
   },
   "id": "c079b95135c34d59"
  },
  {
   "cell_type": "code",
   "outputs": [],
   "source": [
    "from pyspark.sql import SparkSession\n",
    "from pyspark.sql.functions import hour, dayofweek, month, date_trunc, col"
   ],
   "metadata": {
    "collapsed": false,
    "ExecuteTime": {
     "end_time": "2024-08-24T05:35:02.463979Z",
     "start_time": "2024-08-24T05:35:02.381504Z"
    }
   },
   "id": "171d76332bcbc848",
   "execution_count": 1
  },
  {
   "cell_type": "code",
   "execution_count": 2,
   "id": "initial_id",
   "metadata": {
    "collapsed": true,
    "ExecuteTime": {
     "end_time": "2024-08-24T05:35:05.158146Z",
     "start_time": "2024-08-24T05:35:02.464338Z"
    }
   },
   "outputs": [
    {
     "name": "stderr",
     "output_type": "stream",
     "text": [
      "24/08/24 15:35:03 WARN Utils: Your hostname, coldbrew.local resolves to a loopback address: 127.0.0.1; using 172.16.119.16 instead (on interface en0)\n",
      "24/08/24 15:35:03 WARN Utils: Set SPARK_LOCAL_IP if you need to bind to another address\n",
      "Setting default log level to \"WARN\".\n",
      "To adjust logging level use sc.setLogLevel(newLevel). For SparkR, use setLogLevel(newLevel).\n",
      "24/08/24 15:35:04 WARN NativeCodeLoader: Unable to load native-hadoop library for your platform... using builtin-java classes where applicable\n"
     ]
    }
   ],
   "source": [
    "# Create a spark session (which will run spark jobs)\n",
    "spark = (\n",
    "    SparkSession.builder.appName(\"MAST30034 Tutorial 1\")\n",
    "    .config(\"spark.sql.repl.eagerEval.enabled\", True)\n",
    "    .config(\"spark.sql.parquet.cacheMetadata\", \"true\")\n",
    "    .config(\"spark.sql.session.timeZone\", \"Etc/UTC\")\n",
    "    .config(\"spark.driver.memory\", \"15g\")\n",
    "    .getOrCreate()\n",
    ")"
   ]
  },
  {
   "cell_type": "code",
   "outputs": [
    {
     "name": "stderr",
     "output_type": "stream",
     "text": [
      "                                                                                \r"
     ]
    }
   ],
   "source": [
    "tlc_all = spark.read.parquet('../data/raw/tlc_data/')"
   ],
   "metadata": {
    "collapsed": false,
    "ExecuteTime": {
     "end_time": "2024-08-24T05:35:07.249962Z",
     "start_time": "2024-08-24T05:35:05.158973Z"
    }
   },
   "id": "1182aa7f1cbd8cbe",
   "execution_count": 3
  },
  {
   "cell_type": "markdown",
   "source": [
    "## Feature Engineering"
   ],
   "metadata": {
    "collapsed": false
   },
   "id": "96e7680e6617c863"
  },
  {
   "cell_type": "code",
   "outputs": [
    {
     "name": "stderr",
     "output_type": "stream",
     "text": [
      "24/08/24 15:35:07 WARN SparkStringUtils: Truncated the string representation of a plan since it was too large. This behavior can be adjusted by setting 'spark.sql.debug.maxToStringFields'.\n",
      "                                                                                \r"
     ]
    },
    {
     "name": "stdout",
     "output_type": "stream",
     "text": [
      "+-----------------+--------------------+-------------------+-------------------+-------------------+------------+------------+----------+---------+-------------------+-----+----+---------+--------------------+-----------+----+----------+-------------------+-----------------+------------------+----------------+--------------+-------------------+------------------+------------------+------------+\n",
      "|hvfhs_license_num|dispatching_base_num|   request_datetime|    pickup_datetime|   dropoff_datetime|PULocationID|DOLocationID|trip_miles|trip_time|base_passenger_fare|tolls| bcf|sales_tax|congestion_surcharge|airport_fee|tips|driver_pay|shared_request_flag|shared_match_flag|access_a_ride_flag|wav_request_flag|wav_match_flag|   hourly_timestamp|pickup_hour_of_day|pickup_day_of_week|pickup_month|\n",
      "+-----------------+--------------------+-------------------+-------------------+-------------------+------------+------------+----------+---------+-------------------+-----+----+---------+--------------------+-----------+----+----------+-------------------+-----------------+------------------+----------------+--------------+-------------------+------------------+------------------+------------+\n",
      "|           HV0003|              B03404|2022-05-01 00:15:31|2022-05-01 00:33:13|2022-05-01 00:51:49|         263|         163|      1.99|     1116|              20.85|  0.0|0.63|     1.85|                2.75|        0.0| 0.0|     22.54|                  N|                N|                  |               N|             N|2022-05-01 00:00:00|                 0|                 1|           5|\n",
      "|           HV0003|              B03404|2022-05-01 00:03:27|2022-05-01 00:09:11|2022-05-01 00:32:38|         140|          32|     10.95|     1407|              44.61|  0.0|1.34|     3.96|                2.75|        0.0| 0.0|     30.12|                  N|                N|                  |               N|             N|2022-05-01 00:00:00|                 0|                 1|           5|\n",
      "|           HV0003|              B03404|2022-04-30 23:55:03|2022-05-01 00:00:56|2022-05-01 00:18:45|         205|         197|      5.28|     1069|              23.16|  0.0|0.69|     2.06|                 0.0|        0.0| 0.0|     15.56|                  N|                N|                  |               N|             N|2022-05-01 00:00:00|                 0|                 1|           5|\n",
      "|           HV0003|              B03404|2022-05-01 00:26:43|2022-05-01 00:31:56|2022-05-01 00:40:12|         180|         216|      1.43|      496|              10.37|  0.0|0.31|     0.92|                 0.0|        0.0| 0.0|      7.53|                  N|                N|                  |               N|             N|2022-05-01 00:00:00|                 0|                 1|           5|\n",
      "|           HV0003|              B03404|2022-05-01 00:40:23|2022-05-01 00:43:23|2022-05-01 00:46:21|         197|         197|      0.41|      178|                8.7|  0.0|0.26|     0.77|                 0.0|        0.0| 0.0|      7.14|                  N|                N|                  |               N|             N|2022-05-01 00:00:00|                 0|                 1|           5|\n",
      "+-----------------+--------------------+-------------------+-------------------+-------------------+------------+------------+----------+---------+-------------------+-----+----+---------+--------------------+-----------+----+----------+-------------------+-----------------+------------------+----------------+--------------+-------------------+------------------+------------------+------------+\n"
     ]
    }
   ],
   "source": [
    "# Add column for hour of day and day of week\n",
    "tlc_all = tlc_all.withColumn(\"hourly_timestamp\", date_trunc(\"hour\",col(\"pickup_datetime\")))\n",
    "tlc_all = tlc_all.withColumn(\"pickup_hour_of_day\", hour(\"pickup_datetime\"))\n",
    "tlc_all = tlc_all.withColumn(\"pickup_day_of_week\", dayofweek(\"pickup_datetime\"))\n",
    "tlc_all = tlc_all.withColumn(\"pickup_month\", month(\"pickup_datetime\"))\n",
    "tlc_all.show(5)"
   ],
   "metadata": {
    "collapsed": false,
    "ExecuteTime": {
     "end_time": "2024-08-24T05:35:09.174802Z",
     "start_time": "2024-08-24T05:35:07.250704Z"
    }
   },
   "id": "97adcbff8cc2180c",
   "execution_count": 4
  },
  {
   "cell_type": "code",
   "outputs": [
    {
     "name": "stdout",
     "output_type": "stream",
     "text": [
      "+----------+-------------+--------------------+------------+\n",
      "|LocationID|      Borough|                Zone|service_zone|\n",
      "+----------+-------------+--------------------+------------+\n",
      "|         1|          EWR|      Newark Airport|         EWR|\n",
      "|         2|       Queens|         Jamaica Bay|   Boro Zone|\n",
      "|         3|        Bronx|Allerton/Pelham G...|   Boro Zone|\n",
      "|         4|    Manhattan|       Alphabet City| Yellow Zone|\n",
      "|         5|Staten Island|       Arden Heights|   Boro Zone|\n",
      "|         6|Staten Island|Arrochar/Fort Wad...|   Boro Zone|\n",
      "|         7|       Queens|             Astoria|   Boro Zone|\n",
      "|         8|       Queens|        Astoria Park|   Boro Zone|\n",
      "|         9|       Queens|          Auburndale|   Boro Zone|\n",
      "|        10|       Queens|        Baisley Park|   Boro Zone|\n",
      "+----------+-------------+--------------------+------------+\n"
     ]
    }
   ],
   "source": [
    "zones = spark.read.csv(\"../data/taxi_zones/taxi+_zone_lookup.csv\", header=True)\n",
    "zones.show(10)"
   ],
   "metadata": {
    "collapsed": false,
    "ExecuteTime": {
     "end_time": "2024-08-24T05:35:09.620632Z",
     "start_time": "2024-08-24T05:35:09.172680Z"
    }
   },
   "id": "7a904fe20c2d7b0a",
   "execution_count": 5
  },
  {
   "cell_type": "markdown",
   "source": [
    "### Aggregating the movement data, to use in movement_plot.ipynb"
   ],
   "metadata": {
    "collapsed": false
   },
   "id": "6d3c6dfc88033f0e"
  },
  {
   "cell_type": "code",
   "outputs": [],
   "source": [
    "# Merge the data with the shapefile\n",
    "tlc_all = tlc_all.alias(\"tlc\") \\\n",
    "    .join(zones.alias(\"zone\"), tlc_all.PULocationID == zones.LocationID, how='left') \\\n",
    "    .select(\"tlc.*\", \"zone.Borough\", \"zone.Zone\") \\\n",
    "    .withColumnRenamed(\"Borough\", \"pickup_borough\")\n",
    "tlc_all = tlc_all.alias(\"tlc\") \\\n",
    "    .join(zones.alias(\"zone\"), tlc_all.DOLocationID == zones.LocationID, how='left') \\\n",
    "    .select(\"tlc.*\", \"zone.Borough\") \\\n",
    "    .withColumnRenamed(\"Borough\", \"dropoff_borough\")"
   ],
   "metadata": {
    "collapsed": false,
    "ExecuteTime": {
     "end_time": "2024-08-24T05:35:09.800679Z",
     "start_time": "2024-08-24T05:35:09.622872Z"
    }
   },
   "id": "e05105865bcc3829",
   "execution_count": 6
  },
  {
   "cell_type": "code",
   "outputs": [],
   "source": [
    "# Add a column for whether the pickup was at an airport, since they are often outliers\n",
    "tlc_all = tlc_all.withColumn(\"pickup_at_airport\", col(\"Zone\").contains(\"Airport\"))"
   ],
   "metadata": {
    "collapsed": false,
    "ExecuteTime": {
     "end_time": "2024-08-24T05:35:09.821290Z",
     "start_time": "2024-08-24T05:35:09.800867Z"
    }
   },
   "id": "fd9d0bb94addd2c5",
   "execution_count": 7
  },
  {
   "cell_type": "code",
   "outputs": [],
   "source": [
    "movement_aggregates = tlc_all.groupBy('pickup_borough', 'dropoff_borough', 'pickup_hour_of_day').agg({\n",
    "    '*': 'count',\n",
    "})\n",
    "movement_aggregates = movement_aggregates.withColumnRenamed('count(1)', 'num_trips')"
   ],
   "metadata": {
    "collapsed": false,
    "ExecuteTime": {
     "end_time": "2024-08-24T05:35:09.859874Z",
     "start_time": "2024-08-24T05:35:09.822752Z"
    }
   },
   "id": "d2bd35550affe2d",
   "execution_count": 8
  },
  {
   "cell_type": "code",
   "outputs": [
    {
     "name": "stderr",
     "output_type": "stream",
     "text": [
      "                                                                                \r"
     ]
    }
   ],
   "source": [
    "movement_aggregates.write.mode('overwrite').parquet('../data/movement_aggregates')"
   ],
   "metadata": {
    "collapsed": false,
    "ExecuteTime": {
     "end_time": "2024-08-24T05:35:23.071660Z",
     "start_time": "2024-08-24T05:35:09.860385Z"
    }
   },
   "id": "1551f5fdcd00bc60",
   "execution_count": 9
  },
  {
   "cell_type": "code",
   "outputs": [],
   "source": [
    "demand_aggregate = tlc_all.groupBy('PULocationID', 'hourly_timestamp', 'pickup_hour_of_day', 'pickup_day_of_week', 'pickup_month', 'pickup_borough', \"pickup_at_airport\")\\\n",
    "    .agg({'*': 'count'})\\\n",
    "    .withColumnRenamed('count(1)', 'num_trips')\\\n",
    "    .orderBy('hourly_timestamp')"
   ],
   "metadata": {
    "collapsed": false,
    "ExecuteTime": {
     "end_time": "2024-08-24T05:35:23.120803Z",
     "start_time": "2024-08-24T05:35:23.074117Z"
    }
   },
   "id": "42137b2e89e36cc2",
   "execution_count": 10
  },
  {
   "cell_type": "code",
   "outputs": [],
   "source": [],
   "metadata": {
    "collapsed": false,
    "ExecuteTime": {
     "end_time": "2024-08-24T05:35:23.127351Z",
     "start_time": "2024-08-24T05:35:23.121297Z"
    }
   },
   "id": "ac88eb36e8d75324",
   "execution_count": 10
  },
  {
   "cell_type": "markdown",
   "source": [
    "### Combining with LOB data"
   ],
   "metadata": {
    "collapsed": false
   },
   "id": "e12a952563cf9232"
  },
  {
   "cell_type": "code",
   "outputs": [
    {
     "name": "stdout",
     "output_type": "stream",
     "text": [
      "+-----+----------+\n",
      "|count|LocationID|\n",
      "+-----+----------+\n",
      "| 5001|         3|\n",
      "| 3140|         4|\n",
      "| 1758|         5|\n",
      "| 2794|         6|\n",
      "|22048|         7|\n",
      "+-----+----------+\n"
     ]
    }
   ],
   "source": [
    "subway_df = spark.read.parquet(\"../data/raw/lob_data/\")\n",
    "subway_df.show(5)"
   ],
   "metadata": {
    "collapsed": false,
    "ExecuteTime": {
     "end_time": "2024-08-24T05:35:23.263589Z",
     "start_time": "2024-08-24T05:35:23.125693Z"
    }
   },
   "id": "989af8618d94a6cd",
   "execution_count": 11
  },
  {
   "cell_type": "code",
   "outputs": [],
   "source": [
    "combined_df = demand_aggregate.alias(\"tlc\").join(\n",
    "    subway_df.withColumnsRenamed({\"count\": \"pickup_num_businesses\", \"LocationID\": \"PULocationID\"}),\n",
    "    on=\"PULocationID\",\n",
    "    how='left'\n",
    ")"
   ],
   "metadata": {
    "collapsed": false,
    "ExecuteTime": {
     "end_time": "2024-08-24T05:35:23.296774Z",
     "start_time": "2024-08-24T05:35:23.259873Z"
    }
   },
   "id": "7f01f5c6f99de8c7",
   "execution_count": 12
  },
  {
   "cell_type": "markdown",
   "source": [
    "### Combining with weather data"
   ],
   "metadata": {
    "collapsed": false
   },
   "id": "70269cf6341c898f"
  },
  {
   "cell_type": "code",
   "outputs": [],
   "source": [
    "weather_df = spark.read.csv(\"../data/landing/weather/hourly_weather.csv\", header=True)\n",
    "combined_df = combined_df.alias(\"tlc\").join(\n",
    "    weather_df.withColumnsRenamed({\"date\": \"hourly_timestamp\"}),\n",
    "    on=\"hourly_timestamp\",\n",
    "    how='left'\n",
    ")"
   ],
   "metadata": {
    "collapsed": false,
    "ExecuteTime": {
     "end_time": "2024-08-24T05:35:23.480242Z",
     "start_time": "2024-08-24T05:35:23.285084Z"
    }
   },
   "id": "b7bd179de83622c7",
   "execution_count": 13
  },
  {
   "cell_type": "code",
   "outputs": [],
   "source": [
    "combined_df = combined_df.withColumn(\"temperature_2m\", col(\"temperature_2m\").cast(\"double\"))\n",
    "combined_df = combined_df.withColumn(\"relative_humidity_2m\", col(\"relative_humidity_2m\").cast(\"double\"))\n",
    "combined_df = combined_df.withColumn(\"rain\", col(\"rain\").cast(\"double\"))\n",
    "combined_df = combined_df.withColumn(\"snowfall\", col(\"snowfall\").cast(\"double\"))\n",
    "combined_df = combined_df.withColumn(\"wind_speed_10m\", col(\"wind_speed_10m\").cast(\"double\"))"
   ],
   "metadata": {
    "collapsed": false,
    "ExecuteTime": {
     "end_time": "2024-08-24T05:35:23.554360Z",
     "start_time": "2024-08-24T05:35:23.480570Z"
    }
   },
   "id": "8b69c8e5af7deeb9",
   "execution_count": 14
  },
  {
   "cell_type": "code",
   "outputs": [
    {
     "name": "stdout",
     "output_type": "stream",
     "text": [
      "root\n",
      " |-- hourly_timestamp: timestamp (nullable = true)\n",
      " |-- PULocationID: long (nullable = true)\n",
      " |-- pickup_hour_of_day: integer (nullable = true)\n",
      " |-- pickup_day_of_week: integer (nullable = true)\n",
      " |-- pickup_month: integer (nullable = true)\n",
      " |-- pickup_borough: string (nullable = true)\n",
      " |-- pickup_at_airport: boolean (nullable = true)\n",
      " |-- num_trips: long (nullable = false)\n",
      " |-- pickup_num_businesses: long (nullable = true)\n",
      " |-- temperature_2m: double (nullable = true)\n",
      " |-- relative_humidity_2m: double (nullable = true)\n",
      " |-- rain: double (nullable = true)\n",
      " |-- snowfall: double (nullable = true)\n",
      " |-- wind_speed_10m: double (nullable = true)\n"
     ]
    }
   ],
   "source": [
    "combined_df.printSchema()"
   ],
   "metadata": {
    "collapsed": false,
    "ExecuteTime": {
     "end_time": "2024-08-24T05:35:23.562669Z",
     "start_time": "2024-08-24T05:35:23.554437Z"
    }
   },
   "id": "739e809cd6912fef",
   "execution_count": 15
  },
  {
   "cell_type": "code",
   "outputs": [
    {
     "name": "stderr",
     "output_type": "stream",
     "text": [
      "[Stage 15:===================================================>    (21 + 2) / 23]\r"
     ]
    },
    {
     "name": "stdout",
     "output_type": "stream",
     "text": [
      "+-------------------+------------+------------------+------------------+------------+--------------+-----------------+---------+---------------------+--------------+--------------------+----+--------+--------------+\n",
      "|   hourly_timestamp|PULocationID|pickup_hour_of_day|pickup_day_of_week|pickup_month|pickup_borough|pickup_at_airport|num_trips|pickup_num_businesses|temperature_2m|relative_humidity_2m|rain|snowfall|wind_speed_10m|\n",
      "+-------------------+------------+------------------+------------------+------------+--------------+-----------------+---------+---------------------+--------------+--------------------+----+--------+--------------+\n",
      "|2022-05-01 00:00:00|         239|                 0|                 1|           5|     Manhattan|            false|      230|                 8034|       10.6285|           54.505844| 0.0|     0.0|     14.044615|\n",
      "|2022-05-01 00:00:00|          37|                 0|                 1|           5|      Brooklyn|            false|      656|                13671|       10.6285|           54.505844| 0.0|     0.0|     14.044615|\n",
      "|2022-05-01 00:00:00|          19|                 0|                 1|           5|        Queens|            false|       16|                 4006|       10.6285|           54.505844| 0.0|     0.0|     14.044615|\n",
      "|2022-05-01 00:00:00|         191|                 0|                 1|           5|        Queens|            false|       59|                 9164|       10.6285|           54.505844| 0.0|     0.0|     14.044615|\n",
      "|2022-05-01 02:00:00|          49|                 2|                 1|           5|      Brooklyn|            false|      126|                 6052|        8.1285|           73.261925| 0.0|     0.0|      9.178235|\n",
      "+-------------------+------------+------------------+------------------+------------+--------------+-----------------+---------+---------------------+--------------+--------------------+----+--------+--------------+\n"
     ]
    },
    {
     "name": "stderr",
     "output_type": "stream",
     "text": [
      "                                                                                \r"
     ]
    }
   ],
   "source": [
    "combined_df.show(5)"
   ],
   "metadata": {
    "collapsed": false,
    "ExecuteTime": {
     "end_time": "2024-08-24T05:36:06.731901Z",
     "start_time": "2024-08-24T05:35:23.561593Z"
    }
   },
   "id": "66a2120ac6604c62",
   "execution_count": 16
  },
  {
   "cell_type": "code",
   "outputs": [],
   "source": [
    "combined_df = combined_df.dropna()"
   ],
   "metadata": {
    "collapsed": false,
    "ExecuteTime": {
     "end_time": "2024-08-24T05:36:06.753478Z",
     "start_time": "2024-08-24T05:36:06.736159Z"
    }
   },
   "id": "7920b59eb7023f57",
   "execution_count": 17
  },
  {
   "cell_type": "code",
   "outputs": [
    {
     "name": "stderr",
     "output_type": "stream",
     "text": [
      "                                                                                \r"
     ]
    }
   ],
   "source": [
    "combined_df.write.mode('overwrite').parquet('../data/curated')"
   ],
   "metadata": {
    "collapsed": false,
    "ExecuteTime": {
     "end_time": "2024-08-24T05:36:49.726815Z",
     "start_time": "2024-08-24T05:36:06.754619Z"
    }
   },
   "id": "8d90d8319b524a0e",
   "execution_count": 18
  }
 ],
 "metadata": {
  "kernelspec": {
   "display_name": "Python 3",
   "language": "python",
   "name": "python3"
  },
  "language_info": {
   "codemirror_mode": {
    "name": "ipython",
    "version": 2
   },
   "file_extension": ".py",
   "mimetype": "text/x-python",
   "name": "python",
   "nbconvert_exporter": "python",
   "pygments_lexer": "ipython2",
   "version": "2.7.6"
  }
 },
 "nbformat": 4,
 "nbformat_minor": 5
}
