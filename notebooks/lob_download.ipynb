{
 "cells": [
  {
   "cell_type": "markdown",
   "source": [
    "# Downloading the Legally Operating Businesses data from the NYC Open Data API\n",
    "\n",
    "Information about this dataset is available at https://data.cityofnewyork.us/Business/Legally-Operating-Businesses/w7w3-xahh/about_data\n",
    "\n",
    "Data Dictionary is available at https://data.cityofnewyork.us/api/views/w7w3-xahh/files/4581694f-d6ba-4a70-8f37-77551bdd829a?download=true&filename=DCA_Legally_Operating_Businesses_Dictionary.xlsx\n",
    "\n",
    "Documentation available at https://dev.socrata.com/foundry/data.cityofnewyork.us/w7w3-xahh, https://support.socrata.com/hc/en-us/articles/202949268-How-to-query-more-than-1000-rows-of-a-dataset was used to download the data\n",
    "\n",
    "Python TQDM library was used to show the progress of the download https://tqdm.github.io/"
   ],
   "metadata": {
    "collapsed": false
   },
   "id": "6e8c4a310fcef5a3"
  },
  {
   "cell_type": "code",
   "execution_count": 1,
   "id": "initial_id",
   "metadata": {
    "collapsed": true,
    "ExecuteTime": {
     "end_time": "2024-10-05T10:56:28.083340Z",
     "start_time": "2024-10-05T10:56:28.024542Z"
    }
   },
   "outputs": [],
   "source": [
    "import pandas as pd\n",
    "from sodapy import Socrata\n",
    "import os\n",
    "import tqdm"
   ]
  },
  {
   "cell_type": "code",
   "outputs": [],
   "source": [
    "# Create the data landing directory if it does not exist\n",
    "output_relative_dir = '../data/landing/lob_data'\n",
    "if not os.path.exists(output_relative_dir):\n",
    "    os.makedirs(output_relative_dir)"
   ],
   "metadata": {
    "collapsed": false,
    "ExecuteTime": {
     "end_time": "2024-10-05T10:56:28.086188Z",
     "start_time": "2024-10-05T10:56:28.084175Z"
    }
   },
   "id": "91a93946969b8fc",
   "execution_count": 2
  },
  {
   "cell_type": "code",
   "outputs": [],
   "source": [
    "NUM_RECORDS = 281413"
   ],
   "metadata": {
    "collapsed": false,
    "ExecuteTime": {
     "end_time": "2024-10-05T10:56:28.088231Z",
     "start_time": "2024-10-05T10:56:28.086805Z"
    }
   },
   "id": "e80c72295ec61cb",
   "execution_count": 3
  },
  {
   "cell_type": "code",
   "outputs": [
    {
     "name": "stderr",
     "output_type": "stream",
     "text": [
      "WARNING:root:Requests made without an app_token will be subject to strict throttling limits.\n",
      "100%|██████████| 282/282 [02:07<00:00,  2.22it/s]\n"
     ]
    }
   ],
   "source": [
    "client = Socrata(\"data.cityofnewyork.us\", None)\n",
    "for i in tqdm.tqdm(range(0, NUM_RECORDS, 1000)):\n",
    "    results = client.get(\"w7w3-xahh\", limit=10000, offset=i)\n",
    "    results_df = pd.DataFrame.from_records(results)\n",
    "    results_df.to_parquet(f\"{output_relative_dir}/set{i}.parquet\", index=False)"
   ],
   "metadata": {
    "collapsed": false,
    "ExecuteTime": {
     "end_time": "2024-10-05T10:58:35.375150Z",
     "start_time": "2024-10-05T10:56:28.089067Z"
    }
   },
   "id": "a087fe032b3def5b",
   "execution_count": 4
  },
  {
   "cell_type": "code",
   "outputs": [],
   "source": [],
   "metadata": {
    "collapsed": false,
    "ExecuteTime": {
     "end_time": "2024-10-05T10:58:35.389688Z",
     "start_time": "2024-10-05T10:58:35.381697Z"
    }
   },
   "id": "ef602ab3a993877c",
   "execution_count": 4
  }
 ],
 "metadata": {
  "kernelspec": {
   "display_name": "Python 3",
   "language": "python",
   "name": "python3"
  },
  "language_info": {
   "codemirror_mode": {
    "name": "ipython",
    "version": 2
   },
   "file_extension": ".py",
   "mimetype": "text/x-python",
   "name": "python",
   "nbconvert_exporter": "python",
   "pygments_lexer": "ipython2",
   "version": "2.7.6"
  }
 },
 "nbformat": 4,
 "nbformat_minor": 5
}
