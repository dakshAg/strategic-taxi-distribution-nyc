{
 "cells": [
  {
   "cell_type": "code",
   "execution_count": 5,
   "id": "initial_id",
   "metadata": {
    "collapsed": true,
    "ExecuteTime": {
     "end_time": "2024-08-21T00:50:31.321556Z",
     "start_time": "2024-08-21T00:50:31.307669Z"
    }
   },
   "outputs": [],
   "source": [
    "import pandas as pd\n",
    "from sodapy import Socrata\n",
    "import os\n",
    "import tqdm"
   ]
  },
  {
   "cell_type": "code",
   "outputs": [],
   "source": [
    "output_relative_dir = '../data/landing/lob_data'\n",
    "if not os.path.exists(output_relative_dir):\n",
    "    os.makedirs(output_relative_dir)"
   ],
   "metadata": {
    "collapsed": false,
    "ExecuteTime": {
     "end_time": "2024-08-21T00:50:31.328835Z",
     "start_time": "2024-08-21T00:50:31.322269Z"
    }
   },
   "id": "91a93946969b8fc",
   "execution_count": 6
  },
  {
   "cell_type": "code",
   "outputs": [],
   "source": [],
   "metadata": {
    "collapsed": false,
    "ExecuteTime": {
     "end_time": "2024-08-21T00:50:31.329168Z",
     "start_time": "2024-08-21T00:50:31.325591Z"
    }
   },
   "id": "c301b1c435331a0c",
   "execution_count": 6
  },
  {
   "cell_type": "code",
   "outputs": [],
   "source": [
    "NUM_RECORDS = 281413"
   ],
   "metadata": {
    "collapsed": false,
    "ExecuteTime": {
     "end_time": "2024-08-21T00:50:31.334274Z",
     "start_time": "2024-08-21T00:50:31.330652Z"
    }
   },
   "id": "e80c72295ec61cb",
   "execution_count": 7
  },
  {
   "cell_type": "code",
   "outputs": [
    {
     "name": "stderr",
     "output_type": "stream",
     "text": [
      "WARNING:root:Requests made without an app_token will be subject to strict throttling limits.\n",
      "100%|██████████| 282/282 [05:44<00:00,  1.22s/it]\n"
     ]
    }
   ],
   "source": [
    "client = Socrata(\"data.cityofnewyork.us\", None)\n",
    "for i in tqdm.tqdm(range(0, NUM_RECORDS, 1000)):\n",
    "    results = client.get(\"w7w3-xahh\", limit=10000, offset=i)\n",
    "    results_df = pd.DataFrame.from_records(results)\n",
    "    results_df.to_parquet(f\"{output_relative_dir}/set{i}.parquet\", index=False)"
   ],
   "metadata": {
    "collapsed": false,
    "ExecuteTime": {
     "end_time": "2024-08-21T00:56:16.355958Z",
     "start_time": "2024-08-21T00:50:31.334301Z"
    }
   },
   "id": "a087fe032b3def5b",
   "execution_count": 8
  },
  {
   "cell_type": "code",
   "outputs": [],
   "source": [],
   "metadata": {
    "collapsed": false,
    "ExecuteTime": {
     "end_time": "2024-08-21T00:56:16.361972Z",
     "start_time": "2024-08-21T00:56:16.354745Z"
    }
   },
   "id": "ef602ab3a993877c",
   "execution_count": 8
  }
 ],
 "metadata": {
  "kernelspec": {
   "display_name": "Python 3",
   "language": "python",
   "name": "python3"
  },
  "language_info": {
   "codemirror_mode": {
    "name": "ipython",
    "version": 2
   },
   "file_extension": ".py",
   "mimetype": "text/x-python",
   "name": "python",
   "nbconvert_exporter": "python",
   "pygments_lexer": "ipython2",
   "version": "2.7.6"
  }
 },
 "nbformat": 4,
 "nbformat_minor": 5
}
