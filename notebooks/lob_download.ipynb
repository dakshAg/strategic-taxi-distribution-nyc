{
 "cells": [
  {
   "cell_type": "markdown",
   "source": [
    "# Downloading the Legally Operating Businesses data from the NYC Open Data API\n",
    "\n",
    "Information about this dataset is available at https://data.cityofnewyork.us/Business/Legally-Operating-Businesses/w7w3-xahh/about_data\n",
    "\n",
    "Data Dictionary is available at https://data.cityofnewyork.us/api/views/w7w3-xahh/files/4581694f-d6ba-4a70-8f37-77551bdd829a?download=true&filename=DCA_Legally_Operating_Businesses_Dictionary.xlsx\n",
    "\n",
    "Documentation available at https://dev.socrata.com/foundry/data.cityofnewyork.us/w7w3-xahh, https://support.socrata.com/hc/en-us/articles/202949268-How-to-query-more-than-1000-rows-of-a-dataset was used to download the data\n",
    "\n",
    "Python TQDM library was used to show the progress of the download https://tqdm.github.io/"
   ],
   "metadata": {
    "collapsed": false
   },
   "id": "6e8c4a310fcef5a3"
  },
  {
   "cell_type": "code",
   "execution_count": 1,
   "id": "initial_id",
   "metadata": {
    "collapsed": true,
    "ExecuteTime": {
     "end_time": "2024-08-24T03:52:44.548323Z",
     "start_time": "2024-08-24T03:52:44.490909Z"
    }
   },
   "outputs": [],
   "source": [
    "import pandas as pd\n",
    "from sodapy import Socrata\n",
    "import os\n",
    "import tqdm"
   ]
  },
  {
   "cell_type": "code",
   "outputs": [],
   "source": [
    "# Create the data landing directory if it does not exist\n",
    "output_relative_dir = '../data/landing/lob_data'\n",
    "if not os.path.exists(output_relative_dir):\n",
    "    os.makedirs(output_relative_dir)"
   ],
   "metadata": {
    "collapsed": false,
    "ExecuteTime": {
     "end_time": "2024-08-24T03:52:44.552118Z",
     "start_time": "2024-08-24T03:52:44.548639Z"
    }
   },
   "id": "91a93946969b8fc",
   "execution_count": 2
  },
  {
   "cell_type": "code",
   "outputs": [],
   "source": [
    "NUM_RECORDS = 281413"
   ],
   "metadata": {
    "collapsed": false,
    "ExecuteTime": {
     "end_time": "2024-08-24T03:52:44.556007Z",
     "start_time": "2024-08-24T03:52:44.551289Z"
    }
   },
   "id": "e80c72295ec61cb",
   "execution_count": 3
  },
  {
   "cell_type": "code",
   "outputs": [
    {
     "name": "stderr",
     "output_type": "stream",
     "text": [
      "WARNING:root:Requests made without an app_token will be subject to strict throttling limits.\n",
      "100%|██████████| 282/282 [04:53<00:00,  1.04s/it]\n"
     ]
    }
   ],
   "source": [
    "client = Socrata(\"data.cityofnewyork.us\", None)\n",
    "for i in tqdm.tqdm(range(0, NUM_RECORDS, 1000)):\n",
    "    results = client.get(\"w7w3-xahh\", limit=10000, offset=i)\n",
    "    results_df = pd.DataFrame.from_records(results)\n",
    "    results_df.to_parquet(f\"{output_relative_dir}/set{i}.parquet\", index=False)"
   ],
   "metadata": {
    "collapsed": false,
    "ExecuteTime": {
     "end_time": "2024-08-24T03:57:38.271647Z",
     "start_time": "2024-08-24T03:52:44.554178Z"
    }
   },
   "id": "a087fe032b3def5b",
   "execution_count": 4
  },
  {
   "cell_type": "code",
   "outputs": [],
   "source": [],
   "metadata": {
    "collapsed": false,
    "ExecuteTime": {
     "end_time": "2024-08-24T03:57:38.277393Z",
     "start_time": "2024-08-24T03:57:38.275084Z"
    }
   },
   "id": "ef602ab3a993877c",
   "execution_count": 4
  }
 ],
 "metadata": {
  "kernelspec": {
   "display_name": "Python 3",
   "language": "python",
   "name": "python3"
  },
  "language_info": {
   "codemirror_mode": {
    "name": "ipython",
    "version": 2
   },
   "file_extension": ".py",
   "mimetype": "text/x-python",
   "name": "python",
   "nbconvert_exporter": "python",
   "pygments_lexer": "ipython2",
   "version": "2.7.6"
  }
 },
 "nbformat": 4,
 "nbformat_minor": 5
}
