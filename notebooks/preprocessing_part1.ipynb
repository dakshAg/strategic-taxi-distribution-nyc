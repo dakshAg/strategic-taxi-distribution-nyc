{
 "cells": [
  {
   "cell_type": "code",
   "execution_count": 1,
   "id": "initial_id",
   "metadata": {
    "collapsed": true,
    "ExecuteTime": {
     "end_time": "2024-08-18T10:35:07.313885Z",
     "start_time": "2024-08-18T10:35:04.497686Z"
    }
   },
   "outputs": [
    {
     "name": "stderr",
     "output_type": "stream",
     "text": [
      "24/08/18 20:35:06 WARN Utils: Your hostname, coldbrew.local resolves to a loopback address: 127.0.0.1; using 172.16.119.23 instead (on interface en0)\n",
      "24/08/18 20:35:06 WARN Utils: Set SPARK_LOCAL_IP if you need to bind to another address\n",
      "Setting default log level to \"WARN\".\n",
      "To adjust logging level use sc.setLogLevel(newLevel). For SparkR, use setLogLevel(newLevel).\n",
      "24/08/18 20:35:06 WARN NativeCodeLoader: Unable to load native-hadoop library for your platform... using builtin-java classes where applicable\n"
     ]
    }
   ],
   "source": [
    "from pyspark.sql import SparkSession\n",
    "\n",
    "# Create a spark session (which will run spark jobs)\n",
    "spark = (\n",
    "    SparkSession.builder.appName(\"MAST30034 Tutorial 1\")\n",
    "    .config(\"spark.sql.repl.eagerEval.enabled\", True) \n",
    "    .config(\"spark.sql.parquet.cacheMetadata\", \"true\")\n",
    "    .config(\"spark.sql.session.timeZone\", \"Etc/UTC\")\n",
    "    .config(\"spark.driver.memory\", \"15g\")\n",
    "    .config(\"spark.sql.parquet.enableVectorizedReader\",\"false\")\n",
    "    .getOrCreate()\n",
    ")"
   ]
  },
  {
   "cell_type": "code",
   "outputs": [
    {
     "name": "stderr",
     "output_type": "stream",
     "text": [
      "                                                                                \r"
     ]
    }
   ],
   "source": [
    "sdf_all = spark.read.parquet('../data/landing/tlc_data/')"
   ],
   "metadata": {
    "collapsed": false,
    "ExecuteTime": {
     "end_time": "2024-08-18T10:35:09.452614Z",
     "start_time": "2024-08-18T10:35:07.315870Z"
    }
   },
   "id": "d870a99895a95d92",
   "execution_count": 2
  },
  {
   "cell_type": "code",
   "outputs": [
    {
     "name": "stderr",
     "output_type": "stream",
     "text": [
      "[Stage 1:======================================================>  (20 + 1) / 21]\r"
     ]
    },
    {
     "name": "stdout",
     "output_type": "stream",
     "text": [
      "Number of rows 102914393\n",
      "root\n",
      " |-- hvfhs_license_num: string (nullable = true)\n",
      " |-- dispatching_base_num: string (nullable = true)\n",
      " |-- originating_base_num: string (nullable = true)\n",
      " |-- request_datetime: timestamp_ntz (nullable = true)\n",
      " |-- on_scene_datetime: timestamp_ntz (nullable = true)\n",
      " |-- pickup_datetime: timestamp_ntz (nullable = true)\n",
      " |-- dropoff_datetime: timestamp_ntz (nullable = true)\n",
      " |-- PULocationID: long (nullable = true)\n",
      " |-- DOLocationID: long (nullable = true)\n",
      " |-- trip_miles: double (nullable = true)\n",
      " |-- trip_time: long (nullable = true)\n",
      " |-- base_passenger_fare: double (nullable = true)\n",
      " |-- tolls: double (nullable = true)\n",
      " |-- bcf: double (nullable = true)\n",
      " |-- sales_tax: double (nullable = true)\n",
      " |-- congestion_surcharge: double (nullable = true)\n",
      " |-- airport_fee: double (nullable = true)\n",
      " |-- tips: double (nullable = true)\n",
      " |-- driver_pay: double (nullable = true)\n",
      " |-- shared_request_flag: string (nullable = true)\n",
      " |-- shared_match_flag: string (nullable = true)\n",
      " |-- access_a_ride_flag: string (nullable = true)\n",
      " |-- wav_request_flag: string (nullable = true)\n",
      " |-- wav_match_flag: string (nullable = true)\n"
     ]
    },
    {
     "name": "stderr",
     "output_type": "stream",
     "text": [
      "                                                                                \r"
     ]
    }
   ],
   "source": [
    "num_rows = sdf_all.count()\n",
    "print(\"Number of rows\",num_rows)\n",
    "sdf_all.printSchema()"
   ],
   "metadata": {
    "collapsed": false,
    "ExecuteTime": {
     "end_time": "2024-08-18T10:35:13.701405Z",
     "start_time": "2024-08-18T10:35:09.454447Z"
    }
   },
   "id": "b106a3d96a9aa28",
   "execution_count": 3
  },
  {
   "cell_type": "code",
   "outputs": [
    {
     "name": "stderr",
     "output_type": "stream",
     "text": [
      "                                                                                \r"
     ]
    },
    {
     "name": "stdout",
     "output_type": "stream",
     "text": [
      "+-----------------+--------------------+--------------------+-------------------+-------------------+-------------------+-------------------+------------+------------+----------+---------+-------------------+-----+----+---------+--------------------+-----------+----+----------+-------------------+-----------------+------------------+----------------+--------------+\n",
      "|hvfhs_license_num|dispatching_base_num|originating_base_num|   request_datetime|  on_scene_datetime|    pickup_datetime|   dropoff_datetime|PULocationID|DOLocationID|trip_miles|trip_time|base_passenger_fare|tolls| bcf|sales_tax|congestion_surcharge|airport_fee|tips|driver_pay|shared_request_flag|shared_match_flag|access_a_ride_flag|wav_request_flag|wav_match_flag|\n",
      "+-----------------+--------------------+--------------------+-------------------+-------------------+-------------------+-------------------+------------+------------+----------+---------+-------------------+-----+----+---------+--------------------+-----------+----+----------+-------------------+-----------------+------------------+----------------+--------------+\n",
      "|           HV0003|              B03404|              B03404|2022-04-01 00:18:10|2022-04-01 00:23:57|2022-04-01 00:24:06|2022-04-01 00:38:16|         230|         137|      2.63|      850|              15.44|  0.0|0.46|     1.37|                2.75|        0.0| 0.0|     12.43|                  N|                N|                  |               N|             N|\n",
      "|           HV0003|              B03404|              B03404|2022-04-01 00:40:52|2022-04-01 00:42:09|2022-04-01 00:44:10|2022-04-01 00:51:41|         170|         237|      2.02|      451|              11.58|  0.0|0.35|     1.03|                2.75|        0.0| 0.0|      8.23|                  N|                N|                  |               N|             N|\n",
      "|           HV0003|              B03404|              B03404|2022-04-01 00:53:46|2022-04-01 00:56:21|2022-04-01 00:56:31|2022-04-01 01:01:55|         237|         141|      0.73|      324|               7.72|  0.0|0.23|     0.69|                2.75|        0.0| 1.0|      7.29|                  N|                N|                  |               N|             N|\n",
      "|           HV0003|              B03404|              B03404|2022-04-01 00:03:24|2022-04-01 00:06:03|2022-04-01 00:06:30|2022-04-01 00:13:39|         198|         198|       1.1|      429|               8.27|  0.0|0.25|     0.73|                 0.0|        0.0| 0.0|      6.78|                  N|                N|                  |               N|             N|\n",
      "|           HV0003|              B03404|              B03404|2022-04-01 00:13:38|2022-04-01 00:19:27|2022-04-01 00:21:11|2022-04-01 00:32:11|          36|         177|      1.55|      660|              11.12|  0.0|0.33|     0.99|                 0.0|        0.0| 0.0|       9.0|                  N|                N|                  |               N|             N|\n",
      "+-----------------+--------------------+--------------------+-------------------+-------------------+-------------------+-------------------+------------+------------+----------+---------+-------------------+-----+----+---------+--------------------+-----------+----+----------+-------------------+-----------------+------------------+----------------+--------------+\n"
     ]
    }
   ],
   "source": [
    "sdf_all.show(5)"
   ],
   "metadata": {
    "collapsed": false,
    "ExecuteTime": {
     "end_time": "2024-08-18T10:35:15.758652Z",
     "start_time": "2024-08-18T10:35:13.704660Z"
    }
   },
   "id": "1466ea40f9762ea6",
   "execution_count": 4
  },
  {
   "cell_type": "code",
   "outputs": [
    {
     "name": "stderr",
     "output_type": "stream",
     "text": [
      "                                                                                \r"
     ]
    },
    {
     "name": "stdout",
     "output_type": "stream",
     "text": [
      "Column hvfhs_license_num has 0 missing values.\n",
      "Column dispatching_base_num has 0 missing values.\n",
      "Column originating_base_num has 28093518 missing values.\n",
      "Column request_datetime has 0 missing values.\n",
      "Column on_scene_datetime has 28092882 missing values.\n",
      "Column pickup_datetime has 0 missing values.\n",
      "Column dropoff_datetime has 0 missing values.\n",
      "Column PULocationID has 0 missing values.\n",
      "Column DOLocationID has 0 missing values.\n",
      "Column trip_miles has 0 missing values.\n",
      "Column trip_time has 0 missing values.\n",
      "Column base_passenger_fare has 0 missing values.\n",
      "Column tolls has 0 missing values.\n",
      "Column bcf has 0 missing values.\n",
      "Column sales_tax has 0 missing values.\n",
      "Column congestion_surcharge has 0 missing values.\n",
      "Column airport_fee has 0 missing values.\n",
      "Column tips has 0 missing values.\n",
      "Column driver_pay has 0 missing values.\n",
      "Column shared_request_flag has 0 missing values.\n",
      "Column shared_match_flag has 0 missing values.\n",
      "Column access_a_ride_flag has 0 missing values.\n",
      "Column wav_request_flag has 0 missing values.\n",
      "Column wav_match_flag has 0 missing values.\n"
     ]
    }
   ],
   "source": [
    "from pyspark.sql import functions as F\n",
    "\n",
    "# Create a dictionary to hold the counts of missing values (written by ChatGPT)\n",
    "missing_counts = {col: sdf_all.filter(sdf_all[col].isNull()).count() for col in sdf_all.columns}\n",
    "\n",
    "# Display the counts\n",
    "for column, count in missing_counts.items():\n",
    "    print(f\"Column {column} has {count} missing values.\")"
   ],
   "metadata": {
    "collapsed": false,
    "ExecuteTime": {
     "end_time": "2024-08-18T10:36:12.364637Z",
     "start_time": "2024-08-18T10:35:15.755234Z"
    }
   },
   "id": "6ff13865a727223e",
   "execution_count": 5
  },
  {
   "cell_type": "code",
   "outputs": [],
   "source": [
    "sdf_all = sdf_all.drop('originating_base_num', 'on_scene_datetime')"
   ],
   "metadata": {
    "collapsed": false,
    "ExecuteTime": {
     "end_time": "2024-08-18T10:36:12.382988Z",
     "start_time": "2024-08-18T10:36:12.363979Z"
    }
   },
   "id": "f97a53e37e3ff99b",
   "execution_count": 6
  },
  {
   "cell_type": "code",
   "outputs": [
    {
     "name": "stderr",
     "output_type": "stream",
     "text": [
      "[Stage 78:=============================================>          (17 + 4) / 21]\r"
     ]
    },
    {
     "name": "stdout",
     "output_type": "stream",
     "text": [
      "Number of rows dropping 21604\n",
      "Percentage of rows dropping 0.0002099220465693268\n"
     ]
    },
    {
     "name": "stderr",
     "output_type": "stream",
     "text": [
      "                                                                                \r"
     ]
    }
   ],
   "source": [
    "# Identifying invalid data\n",
    "num_rows_after_drop = sdf_all.filter((F.col('trip_miles') > 0) & (F.col('trip_time') > 0) & (F.col('tips') >= 0)).count()\n",
    "print(\"Number of rows dropping\",num_rows-num_rows_after_drop)\n",
    "print(\"Percentage of rows dropping\", (num_rows-num_rows_after_drop)/num_rows)"
   ],
   "metadata": {
    "collapsed": false,
    "ExecuteTime": {
     "end_time": "2024-08-18T10:36:27.672053Z",
     "start_time": "2024-08-18T10:36:12.378503Z"
    }
   },
   "id": "6c1d2c8d4746dfe7",
   "execution_count": 7
  },
  {
   "cell_type": "markdown",
   "source": [],
   "metadata": {
    "collapsed": false
   },
   "id": "7967b81488810398"
  },
  {
   "cell_type": "code",
   "outputs": [
    {
     "name": "stderr",
     "output_type": "stream",
     "text": [
      "                                                                                \r"
     ]
    }
   ],
   "source": [
    "sdf_all.write.mode('overwrite').parquet('../data/raw/tlc_data')"
   ],
   "metadata": {
    "collapsed": false,
    "ExecuteTime": {
     "end_time": "2024-08-18T10:39:10.080508Z",
     "start_time": "2024-08-18T10:36:27.669682Z"
    }
   },
   "id": "db410d1f148c5169",
   "execution_count": 8
  },
  {
   "cell_type": "code",
   "outputs": [
    {
     "name": "stdout",
     "output_type": "stream",
     "text": [
      "root\n",
      " |-- latitude: string (nullable = true)\n",
      " |-- longitude: string (nullable = true)\n",
      " |-- Activated: string (nullable = true)\n",
      " |-- OBJECTID: string (nullable = true)\n",
      "Number of rows 3319\n",
      "+--------------+---------------+--------------------+--------+\n",
      "|      latitude|      longitude|           Activated|OBJECTID|\n",
      "+--------------+---------------+--------------------+--------+\n",
      "|40.74751799990|-73.91057599990|9999-09-09T00:00:...|   11633|\n",
      "|40.81120483220|-73.95384877530|2018-08-30T00:00:...|   12017|\n",
      "|40.53405829990|-74.19323685600|9999-09-09T00:00:...|   10026|\n",
      "|40.84232700040|-73.90973400020|9999-09-09T00:00:...|   11674|\n",
      "|40.73032800030|-73.99262899960|9999-09-09T00:00:...|   10834|\n",
      "+--------------+---------------+--------------------+--------+\n",
      "only showing top 5 rows\n"
     ]
    }
   ],
   "source": [
    "wifi_all = spark.read.parquet('../data/landing/wifi_data/')\n",
    "wifi_all.printSchema()\n",
    "print(\"Number of rows\",wifi_all.count())\n",
    "wifi_all.show(5)"
   ],
   "metadata": {
    "collapsed": false,
    "ExecuteTime": {
     "end_time": "2024-08-18T10:39:11.029648Z",
     "start_time": "2024-08-18T10:39:10.108258Z"
    }
   },
   "id": "9026b2ceaf064274",
   "execution_count": 9
  },
  {
   "cell_type": "code",
   "outputs": [
    {
     "name": "stdout",
     "output_type": "stream",
     "text": [
      "Column latitude has 0 missing values.\n",
      "Column longitude has 0 missing values.\n",
      "Column Activated has 0 missing values.\n",
      "Column OBJECTID has 0 missing values.\n"
     ]
    }
   ],
   "source": [
    "# Create a dictionary to hold the counts of missing values (written by ChatGPT)\n",
    "missing_counts = {col: wifi_all.filter(wifi_all[col].isNull()).count() for col in wifi_all.columns}\n",
    "\n",
    "# Display the counts\n",
    "for column, count in missing_counts.items():\n",
    "    print(f\"Column {column} has {count} missing values.\")"
   ],
   "metadata": {
    "collapsed": false,
    "ExecuteTime": {
     "end_time": "2024-08-18T10:39:11.978230Z",
     "start_time": "2024-08-18T10:39:10.988739Z"
    }
   },
   "id": "ff383ab027fe751e",
   "execution_count": 10
  },
  {
   "cell_type": "code",
   "outputs": [],
   "source": [
    "from pyspark.sql.types import DoubleType, TimestampType\n",
    "\n",
    "# Convert the columns to the correct data type\n",
    "wifi_all = wifi_all.withColumn(\"latitude\", wifi_all[\"latitude\"].cast(DoubleType()))\n",
    "wifi_all = wifi_all.withColumn(\"longitude\", wifi_all[\"longitude\"].cast(DoubleType()))\n",
    "wifi_all = wifi_all.withColumn(\"Activated\", wifi_all[\"Activated\"].cast(TimestampType()))"
   ],
   "metadata": {
    "collapsed": false,
    "ExecuteTime": {
     "end_time": "2024-08-18T10:39:12.045329Z",
     "start_time": "2024-08-18T10:39:11.983450Z"
    }
   },
   "id": "e854093eaa86bfbd",
   "execution_count": 11
  },
  {
   "cell_type": "code",
   "outputs": [],
   "source": [
    "wifi_all = wifi_all.withColumnRenamed(\"OBJECTID\", \"wifi_id\")"
   ],
   "metadata": {
    "collapsed": false,
    "ExecuteTime": {
     "end_time": "2024-08-18T10:39:12.056373Z",
     "start_time": "2024-08-18T10:39:12.024684Z"
    }
   },
   "id": "4a4e709c3ac59d02",
   "execution_count": 12
  },
  {
   "cell_type": "code",
   "outputs": [],
   "source": [
    "wifi_all.write.mode('overwrite').parquet('../data/raw/wifi_data')"
   ],
   "metadata": {
    "collapsed": false,
    "ExecuteTime": {
     "end_time": "2024-08-18T10:39:12.462868Z",
     "start_time": "2024-08-18T10:39:12.027869Z"
    }
   },
   "id": "c178a7062244931f",
   "execution_count": 13
  },
  {
   "cell_type": "code",
   "outputs": [],
   "source": [],
   "metadata": {
    "collapsed": false,
    "ExecuteTime": {
     "end_time": "2024-08-18T10:39:12.463622Z",
     "start_time": "2024-08-18T10:39:12.460464Z"
    }
   },
   "id": "6b8279c19d8994cb",
   "execution_count": 13
  }
 ],
 "metadata": {
  "kernelspec": {
   "display_name": "Python 3",
   "language": "python",
   "name": "python3"
  },
  "language_info": {
   "codemirror_mode": {
    "name": "ipython",
    "version": 2
   },
   "file_extension": ".py",
   "mimetype": "text/x-python",
   "name": "python",
   "nbconvert_exporter": "python",
   "pygments_lexer": "ipython2",
   "version": "2.7.6"
  }
 },
 "nbformat": 4,
 "nbformat_minor": 5
}
