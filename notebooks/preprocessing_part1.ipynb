{
 "cells": [
  {
   "cell_type": "code",
   "execution_count": 84,
   "id": "initial_id",
   "metadata": {
    "collapsed": true,
    "ExecuteTime": {
     "end_time": "2024-08-07T13:10:06.245788Z",
     "start_time": "2024-08-07T13:10:06.191075Z"
    }
   },
   "outputs": [],
   "source": [
    "from pyspark.sql import SparkSession\n",
    "\n",
    "# Create a spark session (which will run spark jobs)\n",
    "spark = (\n",
    "    SparkSession.builder.appName(\"MAST30034 Tutorial 1\")\n",
    "    .config(\"spark.sql.repl.eagerEval.enabled\", True) \n",
    "    .config(\"spark.sql.parquet.cacheMetadata\", \"true\")\n",
    "    .config(\"spark.sql.session.timeZone\", \"Etc/UTC\")\n",
    "    .getOrCreate()\n",
    ")"
   ]
  },
  {
   "cell_type": "code",
   "outputs": [],
   "source": [
    "sdf_all = spark.read.parquet('../data/landing/tlc_data/')"
   ],
   "metadata": {
    "collapsed": false,
    "ExecuteTime": {
     "end_time": "2024-08-07T13:10:06.473753Z",
     "start_time": "2024-08-07T13:10:06.233624Z"
    }
   },
   "id": "d870a99895a95d92",
   "execution_count": 85
  },
  {
   "cell_type": "code",
   "outputs": [
    {
     "name": "stdout",
     "output_type": "stream",
     "text": [
      "root\n",
      " |-- VendorID: integer (nullable = true)\n",
      " |-- tpep_pickup_datetime: timestamp_ntz (nullable = true)\n",
      " |-- tpep_dropoff_datetime: timestamp_ntz (nullable = true)\n",
      " |-- passenger_count: long (nullable = true)\n",
      " |-- trip_distance: double (nullable = true)\n",
      " |-- RatecodeID: long (nullable = true)\n",
      " |-- store_and_fwd_flag: string (nullable = true)\n",
      " |-- PULocationID: integer (nullable = true)\n",
      " |-- DOLocationID: integer (nullable = true)\n",
      " |-- payment_type: long (nullable = true)\n",
      " |-- fare_amount: double (nullable = true)\n",
      " |-- extra: double (nullable = true)\n",
      " |-- mta_tax: double (nullable = true)\n",
      " |-- tip_amount: double (nullable = true)\n",
      " |-- tolls_amount: double (nullable = true)\n",
      " |-- improvement_surcharge: double (nullable = true)\n",
      " |-- total_amount: double (nullable = true)\n",
      " |-- congestion_surcharge: double (nullable = true)\n",
      " |-- Airport_fee: double (nullable = true)\n"
     ]
    }
   ],
   "source": [
    "sdf_all.printSchema()"
   ],
   "metadata": {
    "collapsed": false,
    "ExecuteTime": {
     "end_time": "2024-08-07T13:10:06.479588Z",
     "start_time": "2024-08-07T13:10:06.475238Z"
    }
   },
   "id": "b106a3d96a9aa28",
   "execution_count": 86
  },
  {
   "cell_type": "code",
   "outputs": [
    {
     "name": "stdout",
     "output_type": "stream",
     "text": [
      "+--------+--------------------+---------------------+---------------+-------------+----------+------------------+------------+------------+------------+-----------+-----+-------+----------+------------+---------------------+------------+--------------------+-----------+\n",
      "|VendorID|tpep_pickup_datetime|tpep_dropoff_datetime|passenger_count|trip_distance|RatecodeID|store_and_fwd_flag|PULocationID|DOLocationID|payment_type|fare_amount|extra|mta_tax|tip_amount|tolls_amount|improvement_surcharge|total_amount|congestion_surcharge|Airport_fee|\n",
      "+--------+--------------------+---------------------+---------------+-------------+----------+------------------+------------+------------+------------+-----------+-----+-------+----------+------------+---------------------+------------+--------------------+-----------+\n",
      "|       1| 2024-03-01 00:18:51|  2024-03-01 00:23:45|              0|          1.3|         1|                 N|         142|         239|           1|        8.6|  3.5|    0.5|       2.7|         0.0|                  1.0|        16.3|                 2.5|        0.0|\n",
      "|       1| 2024-03-01 00:26:00|  2024-03-01 00:29:06|              0|          1.1|         1|                 N|         238|          24|           1|        7.2|  3.5|    0.5|       3.0|         0.0|                  1.0|        15.2|                 2.5|        0.0|\n",
      "|       2| 2024-03-01 00:09:22|  2024-03-01 00:15:24|              1|         0.86|         1|                 N|         263|          75|           2|        7.9|  1.0|    0.5|       0.0|         0.0|                  1.0|        10.4|                 0.0|        0.0|\n",
      "|       2| 2024-03-01 00:33:45|  2024-03-01 00:39:34|              1|         0.82|         1|                 N|         164|         162|           1|        7.9|  1.0|    0.5|      1.29|         0.0|                  1.0|       14.19|                 2.5|        0.0|\n",
      "|       1| 2024-03-01 00:05:43|  2024-03-01 00:26:22|              0|          4.9|         1|                 N|         263|           7|           2|       25.4|  3.5|    0.5|       0.0|         0.0|                  1.0|        30.4|                 2.5|        0.0|\n",
      "+--------+--------------------+---------------------+---------------+-------------+----------+------------------+------------+------------+------------+-----------+-----+-------+----------+------------+---------------------+------------+--------------------+-----------+\n"
     ]
    }
   ],
   "source": [
    "sdf_all.show(5)"
   ],
   "metadata": {
    "collapsed": false,
    "ExecuteTime": {
     "end_time": "2024-08-07T13:10:06.623092Z",
     "start_time": "2024-08-07T13:10:06.482389Z"
    }
   },
   "id": "1466ea40f9762ea6",
   "execution_count": 87
  },
  {
   "cell_type": "code",
   "outputs": [
    {
     "name": "stderr",
     "output_type": "stream",
     "text": [
      "                                                                                \r"
     ]
    },
    {
     "name": "stdout",
     "output_type": "stream",
     "text": [
      "Column VendorID has 0 missing values.\n",
      "Column tpep_pickup_datetime has 0 missing values.\n",
      "Column tpep_dropoff_datetime has 0 missing values.\n",
      "Column passenger_count has 1532766 missing values.\n",
      "Column trip_distance has 0 missing values.\n",
      "Column RatecodeID has 1532766 missing values.\n",
      "Column store_and_fwd_flag has 1532766 missing values.\n",
      "Column PULocationID has 0 missing values.\n",
      "Column DOLocationID has 0 missing values.\n",
      "Column payment_type has 0 missing values.\n",
      "Column fare_amount has 0 missing values.\n",
      "Column extra has 0 missing values.\n",
      "Column mta_tax has 0 missing values.\n",
      "Column tip_amount has 0 missing values.\n",
      "Column tolls_amount has 0 missing values.\n",
      "Column improvement_surcharge has 0 missing values.\n",
      "Column total_amount has 0 missing values.\n",
      "Column congestion_surcharge has 1532766 missing values.\n",
      "Column Airport_fee has 1532766 missing values.\n"
     ]
    }
   ],
   "source": [
    "from pyspark.sql import functions as F\n",
    "\n",
    "# Create a dictionary to hold the counts of missing values (written by ChatGPT)\n",
    "missing_counts = {col: sdf_all.filter(sdf_all[col].isNull()).count() for col in sdf_all.columns}\n",
    "\n",
    "# Display the counts\n",
    "for column, count in missing_counts.items():\n",
    "    print(f\"Column {column} has {count} missing values.\")"
   ],
   "metadata": {
    "collapsed": false,
    "ExecuteTime": {
     "end_time": "2024-08-07T13:10:10.992968Z",
     "start_time": "2024-08-07T13:10:06.625385Z"
    }
   },
   "id": "6ff13865a727223e",
   "execution_count": 88
  },
  {
   "cell_type": "code",
   "outputs": [
    {
     "name": "stderr",
     "output_type": "stream",
     "text": [
      "[Stage 572:==================================================>      (8 + 1) / 9]\r"
     ]
    },
    {
     "name": "stdout",
     "output_type": "stream",
     "text": [
      "Drop Report\n",
      "Number of rows before dropping: 28371384\n",
      "Number of rows after dropping: 26838618\n",
      "Number of rows dropped: 1532766\n",
      "Percentage of rows dropped: 5.40%\n"
     ]
    },
    {
     "name": "stderr",
     "output_type": "stream",
     "text": [
      "                                                                                \r"
     ]
    }
   ],
   "source": [
    "num_rows = sdf_all.count()\n",
    "sdf_all = sdf_all.dropna()\n",
    "num_rows_after_drop = sdf_all.count()\n",
    "\n",
    "print(\"Drop Report\")\n",
    "print(f\"Number of rows before dropping: {num_rows}\")\n",
    "print(f\"Number of rows after dropping: {num_rows_after_drop}\")\n",
    "print(f\"Number of rows dropped: {num_rows - num_rows_after_drop}\")\n",
    "print(f\"Percentage of rows dropped: {(num_rows - num_rows_after_drop) / num_rows * 100:.2f}%\")"
   ],
   "metadata": {
    "collapsed": false,
    "ExecuteTime": {
     "end_time": "2024-08-07T13:10:13.817711Z",
     "start_time": "2024-08-07T13:10:10.993953Z"
    }
   },
   "id": "f97a53e37e3ff99b",
   "execution_count": 89
  },
  {
   "cell_type": "code",
   "outputs": [
    {
     "name": "stderr",
     "output_type": "stream",
     "text": [
      "                                                                                \r"
     ]
    },
    {
     "name": "stdout",
     "output_type": "stream",
     "text": [
      "Drop Report\n",
      "Number of rows before dropping: 28371384\n",
      "Number of rows after dropping: 25838880\n",
      "Number of rows dropped: 2532504\n",
      "Cum. Percentage of rows dropped: 8.93%\n"
     ]
    }
   ],
   "source": [
    "# Identifying invalid data\n",
    "sdf_all = sdf_all.filter((F.col('passenger_count') > 0) & (F.col('fare_amount') > 0) & (F.col('trip_distance') > 0))\n",
    "num_rows_after_drop = sdf_all.count()\n",
    "\n",
    "print(\"Drop Report\")\n",
    "print(f\"Number of rows before dropping: {num_rows}\")\n",
    "print(f\"Number of rows after dropping: {num_rows_after_drop}\")\n",
    "print(f\"Number of rows dropped: {num_rows - num_rows_after_drop}\")\n",
    "print(f\"Cum. Percentage of rows dropped: {(num_rows - num_rows_after_drop) / num_rows * 100:.2f}%\")"
   ],
   "metadata": {
    "collapsed": false,
    "ExecuteTime": {
     "end_time": "2024-08-07T13:10:16.024633Z",
     "start_time": "2024-08-07T13:10:13.822083Z"
    }
   },
   "id": "6c1d2c8d4746dfe7",
   "execution_count": 90
  },
  {
   "cell_type": "code",
   "outputs": [],
   "source": [
    "# Identifying invalid data\n",
    "sdf_all = sdf_all.filter((F.col('passenger_count') > 0) & (F.col('fare_amount') > 0) & (F.col('trip_distance') > 0))\n",
    "num_rows_after_drop = sdf_all.count()\n",
    "\n",
    "print(\"Drop Report\")\n",
    "print(f\"Number of rows before dropping: {num_rows}\")\n",
    "print(f\"Number of rows after dropping: {num_rows_after_drop}\")\n",
    "print(f\"Number of rows dropped: {num_rows - num_rows_after_drop}\")\n",
    "print(f\"Cum. Percentage of rows dropped: {(num_rows - num_rows_after_drop) / num_rows * 100:.2f}%\")"
   ],
   "metadata": {
    "collapsed": false
   },
   "id": "65a0046cbe48a898"
  },
  {
   "cell_type": "code",
   "outputs": [
    {
     "name": "stderr",
     "output_type": "stream",
     "text": [
      "24/08/07 23:10:16 WARN MemoryManager: Total allocation exceeds 95.00% (1,020,054,720 bytes) of heap memory\n",
      "Scaling row group sizes to 95.00% for 8 writers\n",
      "24/08/07 23:10:28 WARN MemoryManager: Total allocation exceeds 95.00% (1,020,054,720 bytes) of heap memory\n",
      "Scaling row group sizes to 95.00% for 8 writers\n",
      "                                                                                \r"
     ]
    }
   ],
   "source": [
    "sdf_all.write.mode('overwrite').parquet('../data/raw/tlc_data')"
   ],
   "metadata": {
    "collapsed": false,
    "ExecuteTime": {
     "end_time": "2024-08-07T13:10:32.805890Z",
     "start_time": "2024-08-07T13:10:16.025569Z"
    }
   },
   "id": "db410d1f148c5169",
   "execution_count": 91
  }
 ],
 "metadata": {
  "kernelspec": {
   "display_name": "Python 3",
   "language": "python",
   "name": "python3"
  },
  "language_info": {
   "codemirror_mode": {
    "name": "ipython",
    "version": 2
   },
   "file_extension": ".py",
   "mimetype": "text/x-python",
   "name": "python",
   "nbconvert_exporter": "python",
   "pygments_lexer": "ipython2",
   "version": "2.7.6"
  }
 },
 "nbformat": 4,
 "nbformat_minor": 5
}
