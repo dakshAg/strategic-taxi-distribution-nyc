{
 "cells": [
  {
   "cell_type": "code",
   "execution_count": 1,
   "id": "initial_id",
   "metadata": {
    "collapsed": true,
    "ExecuteTime": {
     "end_time": "2024-08-18T00:24:14.236623Z",
     "start_time": "2024-08-18T00:24:11.473992Z"
    }
   },
   "outputs": [
    {
     "name": "stderr",
     "output_type": "stream",
     "text": [
      "24/08/18 10:24:13 WARN Utils: Your hostname, coldbrew.local resolves to a loopback address: 127.0.0.1; using 172.16.119.23 instead (on interface en0)\n",
      "24/08/18 10:24:13 WARN Utils: Set SPARK_LOCAL_IP if you need to bind to another address\n",
      "Setting default log level to \"WARN\".\n",
      "To adjust logging level use sc.setLogLevel(newLevel). For SparkR, use setLogLevel(newLevel).\n",
      "24/08/18 10:24:13 WARN NativeCodeLoader: Unable to load native-hadoop library for your platform... using builtin-java classes where applicable\n"
     ]
    }
   ],
   "source": [
    "from pyspark.sql import SparkSession\n",
    "\n",
    "# Create a spark session (which will run spark jobs)\n",
    "spark = (\n",
    "    SparkSession.builder.appName(\"MAST30034 Tutorial 1\")\n",
    "    .config(\"spark.sql.repl.eagerEval.enabled\", True) \n",
    "    .config(\"spark.sql.parquet.cacheMetadata\", \"true\")\n",
    "    .config(\"spark.sql.session.timeZone\", \"Etc/UTC\")\n",
    "    .config(\"spark.driver.memory\", \"15g\")\n",
    "    .getOrCreate()\n",
    ")"
   ]
  },
  {
   "cell_type": "code",
   "outputs": [
    {
     "name": "stderr",
     "output_type": "stream",
     "text": [
      "                                                                                \r"
     ]
    }
   ],
   "source": [
    "sdf_all = spark.read.parquet('../data/landing/tlc_data/')"
   ],
   "metadata": {
    "collapsed": false,
    "ExecuteTime": {
     "end_time": "2024-08-18T00:24:16.381448Z",
     "start_time": "2024-08-18T00:24:14.237748Z"
    }
   },
   "id": "d870a99895a95d92",
   "execution_count": 2
  },
  {
   "cell_type": "code",
   "outputs": [
    {
     "name": "stderr",
     "output_type": "stream",
     "text": [
      "[Stage 1:======================================================>  (22 + 1) / 23]\r"
     ]
    },
    {
     "name": "stdout",
     "output_type": "stream",
     "text": [
      "Number of rows 121257739\n",
      "root\n",
      " |-- hvfhs_license_num: string (nullable = true)\n",
      " |-- dispatching_base_num: string (nullable = true)\n",
      " |-- originating_base_num: string (nullable = true)\n",
      " |-- request_datetime: timestamp_ntz (nullable = true)\n",
      " |-- on_scene_datetime: timestamp_ntz (nullable = true)\n",
      " |-- pickup_datetime: timestamp_ntz (nullable = true)\n",
      " |-- dropoff_datetime: timestamp_ntz (nullable = true)\n",
      " |-- PULocationID: integer (nullable = true)\n",
      " |-- DOLocationID: integer (nullable = true)\n",
      " |-- trip_miles: double (nullable = true)\n",
      " |-- trip_time: long (nullable = true)\n",
      " |-- base_passenger_fare: double (nullable = true)\n",
      " |-- tolls: double (nullable = true)\n",
      " |-- bcf: double (nullable = true)\n",
      " |-- sales_tax: double (nullable = true)\n",
      " |-- congestion_surcharge: double (nullable = true)\n",
      " |-- airport_fee: double (nullable = true)\n",
      " |-- tips: double (nullable = true)\n",
      " |-- driver_pay: double (nullable = true)\n",
      " |-- shared_request_flag: string (nullable = true)\n",
      " |-- shared_match_flag: string (nullable = true)\n",
      " |-- access_a_ride_flag: string (nullable = true)\n",
      " |-- wav_request_flag: string (nullable = true)\n",
      " |-- wav_match_flag: string (nullable = true)\n"
     ]
    },
    {
     "name": "stderr",
     "output_type": "stream",
     "text": [
      "                                                                                \r"
     ]
    }
   ],
   "source": [
    "num_rows = sdf_all.count()\n",
    "print(\"Number of rows\",num_rows)\n",
    "sdf_all.printSchema()"
   ],
   "metadata": {
    "collapsed": false,
    "ExecuteTime": {
     "end_time": "2024-08-18T00:24:17.908452Z",
     "start_time": "2024-08-18T00:24:16.387021Z"
    }
   },
   "id": "b106a3d96a9aa28",
   "execution_count": 3
  },
  {
   "cell_type": "code",
   "outputs": [
    {
     "name": "stderr",
     "output_type": "stream",
     "text": [
      "                                                                                \r"
     ]
    },
    {
     "name": "stdout",
     "output_type": "stream",
     "text": [
      "+-----------------+--------------------+--------------------+-------------------+-------------------+-------------------+-------------------+------------+------------+----------+---------+-------------------+-----+----+---------+--------------------+-----------+----+----------+-------------------+-----------------+------------------+----------------+--------------+\n",
      "|hvfhs_license_num|dispatching_base_num|originating_base_num|   request_datetime|  on_scene_datetime|    pickup_datetime|   dropoff_datetime|PULocationID|DOLocationID|trip_miles|trip_time|base_passenger_fare|tolls| bcf|sales_tax|congestion_surcharge|airport_fee|tips|driver_pay|shared_request_flag|shared_match_flag|access_a_ride_flag|wav_request_flag|wav_match_flag|\n",
      "+-----------------+--------------------+--------------------+-------------------+-------------------+-------------------+-------------------+------------+------------+----------+---------+-------------------+-----+----+---------+--------------------+-----------+----+----------+-------------------+-----------------+------------------+----------------+--------------+\n",
      "|           HV0003|              B03404|              B03404|2024-02-01 00:13:55|2024-02-01 00:19:59|2024-02-01 00:20:54|2024-02-01 00:27:54|         149|         210|      1.23|      420|               8.88|  0.0|0.24|     0.79|                 0.0|        0.0| 0.0|      5.57|                  N|                N|                 N|               N|             N|\n",
      "|           HV0003|              B03404|              B03404|2024-02-01 00:00:14|2024-02-01 00:03:28|2024-02-01 00:04:37|2024-02-01 00:09:37|         127|         136|      1.28|      300|               7.91|  0.0|0.22|      0.7|                 0.0|        0.0| 0.0|      5.39|                  N|                N|                 N|               N|             N|\n",
      "|           HV0003|              B03404|              B03404|2024-02-01 00:13:57|2024-02-01 00:15:44|2024-02-01 00:17:46|2024-02-01 00:31:54|         127|          69|      3.93|      848|               17.6|  0.0|0.48|     1.56|                 0.0|        0.0| 0.0|     13.13|                  N|                N|                 N|               N|             N|\n",
      "|           HV0005|              B03406|                NULL|2024-02-01 00:40:21|               NULL|2024-02-01 00:41:55|2024-02-01 00:50:56|         169|         169|     1.252|      541|               11.4|  0.0|0.31|     1.01|                 0.0|        0.0| 0.0|      6.79|                  N|                N|                 N|               N|             N|\n",
      "|           HV0003|              B03404|              B03404|2024-02-01 00:14:14|2024-02-01 00:15:55|2024-02-01 00:16:39|2024-02-01 00:27:37|         142|         152|      3.77|      658|              11.39|  0.0|0.31|     1.01|                2.75|        0.0| 3.0|     15.14|                  N|                N|                 N|               N|             Y|\n",
      "+-----------------+--------------------+--------------------+-------------------+-------------------+-------------------+-------------------+------------+------------+----------+---------+-------------------+-----+----+---------+--------------------+-----------+----+----------+-------------------+-----------------+------------------+----------------+--------------+\n"
     ]
    }
   ],
   "source": [
    "sdf_all.show(5)"
   ],
   "metadata": {
    "collapsed": false,
    "ExecuteTime": {
     "end_time": "2024-08-18T00:24:19.467607Z",
     "start_time": "2024-08-18T00:24:17.913056Z"
    }
   },
   "id": "1466ea40f9762ea6",
   "execution_count": 4
  },
  {
   "cell_type": "code",
   "outputs": [
    {
     "name": "stderr",
     "output_type": "stream",
     "text": [
      "[Stage 74:======================================>                 (16 + 7) / 23]\r"
     ]
    },
    {
     "name": "stdout",
     "output_type": "stream",
     "text": [
      "Column hvfhs_license_num has 0 missing values.\n",
      "Column dispatching_base_num has 0 missing values.\n",
      "Column originating_base_num has 32186718 missing values.\n",
      "Column request_datetime has 0 missing values.\n",
      "Column on_scene_datetime has 32186330 missing values.\n",
      "Column pickup_datetime has 0 missing values.\n",
      "Column dropoff_datetime has 0 missing values.\n",
      "Column PULocationID has 0 missing values.\n",
      "Column DOLocationID has 0 missing values.\n",
      "Column trip_miles has 0 missing values.\n",
      "Column trip_time has 0 missing values.\n",
      "Column base_passenger_fare has 0 missing values.\n",
      "Column tolls has 0 missing values.\n",
      "Column bcf has 0 missing values.\n",
      "Column sales_tax has 0 missing values.\n",
      "Column congestion_surcharge has 0 missing values.\n",
      "Column airport_fee has 0 missing values.\n",
      "Column tips has 0 missing values.\n",
      "Column driver_pay has 0 missing values.\n",
      "Column shared_request_flag has 0 missing values.\n",
      "Column shared_match_flag has 0 missing values.\n",
      "Column access_a_ride_flag has 0 missing values.\n",
      "Column wav_request_flag has 0 missing values.\n",
      "Column wav_match_flag has 0 missing values.\n"
     ]
    },
    {
     "name": "stderr",
     "output_type": "stream",
     "text": [
      "                                                                                \r"
     ]
    }
   ],
   "source": [
    "from pyspark.sql import functions as F\n",
    "\n",
    "# Create a dictionary to hold the counts of missing values (written by ChatGPT)\n",
    "missing_counts = {col: sdf_all.filter(sdf_all[col].isNull()).count() for col in sdf_all.columns}\n",
    "\n",
    "# Display the counts\n",
    "for column, count in missing_counts.items():\n",
    "    print(f\"Column {column} has {count} missing values.\")"
   ],
   "metadata": {
    "collapsed": false,
    "ExecuteTime": {
     "end_time": "2024-08-18T00:24:48.583733Z",
     "start_time": "2024-08-18T00:24:19.532709Z"
    }
   },
   "id": "6ff13865a727223e",
   "execution_count": 5
  },
  {
   "cell_type": "code",
   "outputs": [],
   "source": [
    "sdf_all = sdf_all.drop('originating_base_num', 'on_scene_datetime')"
   ],
   "metadata": {
    "collapsed": false,
    "ExecuteTime": {
     "end_time": "2024-08-18T00:24:48.942606Z",
     "start_time": "2024-08-18T00:24:48.572704Z"
    }
   },
   "id": "f97a53e37e3ff99b",
   "execution_count": 6
  },
  {
   "cell_type": "code",
   "outputs": [
    {
     "name": "stderr",
     "output_type": "stream",
     "text": [
      "[Stage 77:======================================>                 (16 + 7) / 23]\r"
     ]
    },
    {
     "name": "stdout",
     "output_type": "stream",
     "text": [
      "Number of rows dropping 17959\n",
      "Percentage of rows dropping 0.00014810601078418592\n"
     ]
    },
    {
     "name": "stderr",
     "output_type": "stream",
     "text": [
      "                                                                                \r"
     ]
    }
   ],
   "source": [
    "# Identifying invalid data\n",
    "num_rows_after_drop = sdf_all.filter((F.col('trip_miles') > 0) & (F.col('trip_time') > 0) & (F.col('tips') >= 0)).count()\n",
    "print(\"Number of rows dropping\",num_rows-num_rows_after_drop)\n",
    "print(\"Percentage of rows dropping\", (num_rows-num_rows_after_drop)/num_rows)"
   ],
   "metadata": {
    "collapsed": false,
    "ExecuteTime": {
     "end_time": "2024-08-18T00:24:52.008078Z",
     "start_time": "2024-08-18T00:24:48.607460Z"
    }
   },
   "id": "6c1d2c8d4746dfe7",
   "execution_count": 7
  },
  {
   "cell_type": "markdown",
   "source": [],
   "metadata": {
    "collapsed": false
   },
   "id": "7967b81488810398"
  },
  {
   "cell_type": "code",
   "outputs": [
    {
     "name": "stderr",
     "output_type": "stream",
     "text": [
      "                                                                                \r"
     ]
    }
   ],
   "source": [
    "sdf_all.write.mode('overwrite').parquet('../data/raw/tlc_data')"
   ],
   "metadata": {
    "collapsed": false,
    "ExecuteTime": {
     "end_time": "2024-08-18T00:29:06.439188Z",
     "start_time": "2024-08-18T00:24:52.011750Z"
    }
   },
   "id": "db410d1f148c5169",
   "execution_count": 8
  },
  {
   "cell_type": "code",
   "outputs": [
    {
     "name": "stdout",
     "output_type": "stream",
     "text": [
      "root\n",
      " |-- latitude: string (nullable = true)\n",
      " |-- longitude: string (nullable = true)\n",
      " |-- assesstot: string (nullable = true)\n"
     ]
    },
    {
     "name": "stderr",
     "output_type": "stream",
     "text": [
      "                                                                                \r"
     ]
    },
    {
     "name": "stdout",
     "output_type": "stream",
     "text": [
      "Number of rows 859012\n",
      "+----------+-----------+--------------+\n",
      "|  latitude|  longitude|     assesstot|\n",
      "+----------+-----------+--------------+\n",
      "|40.8993514|-73.8669496| 7792200.00000|\n",
      "|40.8878889|-73.8594210| 4099950.00000|\n",
      "|40.9023086|-73.8542356| 3050100.00000|\n",
      "|40.8957548|-73.8461911|24497847.00000|\n",
      "|40.6690273|-73.7577478|24963300.00000|\n",
      "+----------+-----------+--------------+\n",
      "only showing top 5 rows\n"
     ]
    }
   ],
   "source": [
    "pluto_all = spark.read.parquet('../data/landing/pluto_data/')\n",
    "pluto_all.printSchema()\n",
    "print(\"Number of rows\",pluto_all.count())\n",
    "pluto_all.show(5)"
   ],
   "metadata": {
    "collapsed": false,
    "ExecuteTime": {
     "end_time": "2024-08-18T00:29:09.652106Z",
     "start_time": "2024-08-18T00:29:06.445796Z"
    }
   },
   "id": "9026b2ceaf064274",
   "execution_count": 9
  },
  {
   "cell_type": "code",
   "outputs": [
    {
     "name": "stdout",
     "output_type": "stream",
     "text": [
      "Column latitude has 1635 missing values.\n",
      "Column longitude has 1635 missing values.\n",
      "Column assesstot has 327 missing values.\n"
     ]
    }
   ],
   "source": [
    "# Create a dictionary to hold the counts of missing values (written by ChatGPT)\n",
    "missing_counts = {col: pluto_all.filter(pluto_all[col].isNull()).count() for col in pluto_all.columns}\n",
    "\n",
    "# Display the counts\n",
    "for column, count in missing_counts.items():\n",
    "    print(f\"Column {column} has {count} missing values.\")"
   ],
   "metadata": {
    "collapsed": false,
    "ExecuteTime": {
     "end_time": "2024-08-18T00:29:11.134727Z",
     "start_time": "2024-08-18T00:29:09.473173Z"
    }
   },
   "id": "ff383ab027fe751e",
   "execution_count": 10
  },
  {
   "cell_type": "code",
   "outputs": [
    {
     "name": "stdout",
     "output_type": "stream",
     "text": [
      "Number of rows 857051\n"
     ]
    }
   ],
   "source": [
    "pluto_all = pluto_all.dropna()\n",
    "print(\"Number of rows\",pluto_all.count())"
   ],
   "metadata": {
    "collapsed": false,
    "ExecuteTime": {
     "end_time": "2024-08-18T00:29:11.876022Z",
     "start_time": "2024-08-18T00:29:11.134194Z"
    }
   },
   "id": "f003343cff0e2a31",
   "execution_count": 11
  },
  {
   "cell_type": "code",
   "outputs": [],
   "source": [
    "from pyspark.sql.types import DoubleType\n",
    "\n",
    "# Convert the columns to the correct data type\n",
    "pluto_all = pluto_all.withColumn(\"latitude\", pluto_all[\"latitude\"].cast(DoubleType()))\n",
    "pluto_all = pluto_all.withColumn(\"longitude\", pluto_all[\"longitude\"].cast(DoubleType()))\n",
    "pluto_all = pluto_all.withColumn(\"assesstot\", pluto_all[\"assesstot\"].cast(DoubleType()))"
   ],
   "metadata": {
    "collapsed": false,
    "ExecuteTime": {
     "end_time": "2024-08-18T00:29:11.974796Z",
     "start_time": "2024-08-18T00:29:11.885698Z"
    }
   },
   "id": "e854093eaa86bfbd",
   "execution_count": 12
  },
  {
   "cell_type": "code",
   "outputs": [
    {
     "name": "stdout",
     "output_type": "stream",
     "text": [
      "Number of rows 853692\n"
     ]
    },
    {
     "name": "stderr",
     "output_type": "stream",
     "text": [
      "                                                                                \r"
     ]
    }
   ],
   "source": [
    "# Identifying invalid data\n",
    "pluto_all = pluto_all.filter((F.col('assesstot') > 0))\n",
    "print(\"Number of rows\",pluto_all.count())"
   ],
   "metadata": {
    "collapsed": false,
    "ExecuteTime": {
     "end_time": "2024-08-18T00:29:12.778423Z",
     "start_time": "2024-08-18T00:29:11.962801Z"
    }
   },
   "id": "a6a59cad5aa9e0e",
   "execution_count": 13
  },
  {
   "cell_type": "code",
   "outputs": [
    {
     "name": "stderr",
     "output_type": "stream",
     "text": [
      "                                                                                \r"
     ]
    }
   ],
   "source": [
    "pluto_all.write.mode('overwrite').parquet('../data/raw/pluto_data')"
   ],
   "metadata": {
    "collapsed": false,
    "ExecuteTime": {
     "end_time": "2024-08-18T00:29:14.440857Z",
     "start_time": "2024-08-18T00:29:12.784062Z"
    }
   },
   "id": "c178a7062244931f",
   "execution_count": 14
  },
  {
   "cell_type": "code",
   "outputs": [],
   "source": [],
   "metadata": {
    "collapsed": false,
    "ExecuteTime": {
     "end_time": "2024-08-18T00:29:14.575519Z",
     "start_time": "2024-08-18T00:29:14.440619Z"
    }
   },
   "id": "6b8279c19d8994cb",
   "execution_count": 14
  }
 ],
 "metadata": {
  "kernelspec": {
   "display_name": "Python 3",
   "language": "python",
   "name": "python3"
  },
  "language_info": {
   "codemirror_mode": {
    "name": "ipython",
    "version": 2
   },
   "file_extension": ".py",
   "mimetype": "text/x-python",
   "name": "python",
   "nbconvert_exporter": "python",
   "pygments_lexer": "ipython2",
   "version": "2.7.6"
  }
 },
 "nbformat": 4,
 "nbformat_minor": 5
}
