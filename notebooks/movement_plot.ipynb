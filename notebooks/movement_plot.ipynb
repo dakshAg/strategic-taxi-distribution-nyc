{
 "cells": [
  {
   "cell_type": "code",
   "execution_count": 20,
   "id": "initial_id",
   "metadata": {
    "collapsed": true,
    "ExecuteTime": {
     "end_time": "2024-08-20T09:09:41.967993Z",
     "start_time": "2024-08-20T09:09:41.961764Z"
    }
   },
   "outputs": [],
   "source": [
    "import pandas as pd\n",
    "import plotly.graph_objects as go\n",
    "from plotly.subplots import make_subplots"
   ]
  },
  {
   "cell_type": "code",
   "outputs": [],
   "source": [
    "df = pd.read_parquet('../data/movement_aggregates')"
   ],
   "metadata": {
    "collapsed": false,
    "ExecuteTime": {
     "end_time": "2024-08-20T09:09:42.081713Z",
     "start_time": "2024-08-20T09:09:41.965587Z"
    }
   },
   "id": "eed70e72947abbe6",
   "execution_count": 21
  },
  {
   "cell_type": "code",
   "outputs": [
    {
     "name": "stdout",
     "output_type": "stream",
     "text": [
      "(986, 4)\n"
     ]
    },
    {
     "data": {
      "text/plain": "  pickup_borough dropoff_borough  pickup_hour_of_day  num_trips\n0          Bronx          Queens                   0      11329\n1         Queens          Queens                   6     403525\n2       Brooklyn        Brooklyn                   7     732999\n3  Staten Island         Unknown                  11       1393\n4  Staten Island       Manhattan                  18       1969",
      "text/html": "<div>\n<style scoped>\n    .dataframe tbody tr th:only-of-type {\n        vertical-align: middle;\n    }\n\n    .dataframe tbody tr th {\n        vertical-align: top;\n    }\n\n    .dataframe thead th {\n        text-align: right;\n    }\n</style>\n<table border=\"1\" class=\"dataframe\">\n  <thead>\n    <tr style=\"text-align: right;\">\n      <th></th>\n      <th>pickup_borough</th>\n      <th>dropoff_borough</th>\n      <th>pickup_hour_of_day</th>\n      <th>num_trips</th>\n    </tr>\n  </thead>\n  <tbody>\n    <tr>\n      <th>0</th>\n      <td>Bronx</td>\n      <td>Queens</td>\n      <td>0</td>\n      <td>11329</td>\n    </tr>\n    <tr>\n      <th>1</th>\n      <td>Queens</td>\n      <td>Queens</td>\n      <td>6</td>\n      <td>403525</td>\n    </tr>\n    <tr>\n      <th>2</th>\n      <td>Brooklyn</td>\n      <td>Brooklyn</td>\n      <td>7</td>\n      <td>732999</td>\n    </tr>\n    <tr>\n      <th>3</th>\n      <td>Staten Island</td>\n      <td>Unknown</td>\n      <td>11</td>\n      <td>1393</td>\n    </tr>\n    <tr>\n      <th>4</th>\n      <td>Staten Island</td>\n      <td>Manhattan</td>\n      <td>18</td>\n      <td>1969</td>\n    </tr>\n  </tbody>\n</table>\n</div>"
     },
     "execution_count": 22,
     "metadata": {},
     "output_type": "execute_result"
    }
   ],
   "source": [
    "print(df.shape)\n",
    "df.head()"
   ],
   "metadata": {
    "collapsed": false,
    "ExecuteTime": {
     "end_time": "2024-08-20T09:09:42.102287Z",
     "start_time": "2024-08-20T09:09:42.093572Z"
    }
   },
   "id": "127504f12885a9d4",
   "execution_count": 22
  },
  {
   "cell_type": "code",
   "outputs": [],
   "source": [
    "borough_mapping = {\n",
    "    'Manhattan': 0,\n",
    "    'Brooklyn': 1,\n",
    "    'Queens': 2,\n",
    "    'Bronx': 3,\n",
    "    'Staten Island': 4,\n",
    "    'EWR': 5,\n",
    "    \"Unknown\": 6\n",
    "}"
   ],
   "metadata": {
    "collapsed": false,
    "ExecuteTime": {
     "end_time": "2024-08-20T09:09:42.102546Z",
     "start_time": "2024-08-20T09:09:42.100061Z"
    }
   },
   "id": "40c7665b849416a7",
   "execution_count": 23
  },
  {
   "cell_type": "code",
   "outputs": [],
   "source": [
    "df['pickup_borough'] = df['pickup_borough'].map(borough_mapping)\n",
    "df['dropoff_borough'] = df['dropoff_borough'].map(borough_mapping)"
   ],
   "metadata": {
    "collapsed": false,
    "ExecuteTime": {
     "end_time": "2024-08-20T09:09:42.140995Z",
     "start_time": "2024-08-20T09:09:42.105830Z"
    }
   },
   "id": "2aefdf47a0921d29",
   "execution_count": 24
  },
  {
   "cell_type": "code",
   "outputs": [
    {
     "name": "stdout",
     "output_type": "stream",
     "text": [
      "Unique pickup locations:  [3 2 1 4 0 6 5]\n",
      "Unique dropoff locations:  [2 1 6 0 3 5 4]\n",
      "Unique pickup times:  [ 0  6  7 11 18 20 10 12 17 21  4 13 14  1  9  8 19 15  2  3 23 22  5 16]\n"
     ]
    }
   ],
   "source": [
    "print(\"Unique pickup locations: \", df['pickup_borough'].unique())\n",
    "print(\"Unique dropoff locations: \", df['dropoff_borough'].unique())\n",
    "print(\"Unique pickup times: \", df['pickup_hour_of_day'].unique())"
   ],
   "metadata": {
    "collapsed": false,
    "ExecuteTime": {
     "end_time": "2024-08-20T09:09:42.141388Z",
     "start_time": "2024-08-20T09:09:42.109707Z"
    }
   },
   "id": "37639e1f2203945a",
   "execution_count": 25
  },
  {
   "cell_type": "code",
   "outputs": [],
   "source": [
    "pastel_colors = [\n",
    "    \"#FFB3BA\",  # Light Pink\n",
    "    \"#FFDFBA\",  # Light Peach\n",
    "    \"#BAFFC9\",  # Light Mint\n",
    "    \"#BAE1FF\",  # Light Blue\n",
    "    \"#E2C6FF\",  # Light Lavender\n",
    "    \"#FADADD\",  # Light Rose\n",
    "    \"#CFF0CC\",  # Light Green\n",
    "    \"#FFB7C5\",  # Light Coral\n",
    "    \"#FFD1DC\",  # Light Blush\n",
    "]"
   ],
   "metadata": {
    "collapsed": false,
    "ExecuteTime": {
     "end_time": "2024-08-20T09:09:42.141542Z",
     "start_time": "2024-08-20T09:09:42.116268Z"
    }
   },
   "id": "4e97ac39ad4f697a",
   "execution_count": 26
  },
  {
   "cell_type": "code",
   "outputs": [],
   "source": [
    "def sankey_for_hour(hour):\n",
    "    df_hour = df[(df['pickup_hour_of_day'] == hour) & (df['num_trips'] > 150000)]\n",
    "    fig = go.Sankey(\n",
    "        node=dict(\n",
    "            pad=15,\n",
    "            thickness=20,\n",
    "            line=dict(color=\"black\", width=0.5),\n",
    "            label=list(borough_mapping.keys()) * 2,\n",
    "            color=\"blue\"\n",
    "        ),\n",
    "        link=dict(\n",
    "            source=df_hour['pickup_borough'],\n",
    "            target=df_hour['dropoff_borough'] + 7,\n",
    "            value=df_hour['num_trips'],\n",
    "            color=pastel_colors\n",
    "        ))\n",
    "    return fig"
   ],
   "metadata": {
    "collapsed": false,
    "ExecuteTime": {
     "end_time": "2024-08-20T09:09:42.141688Z",
     "start_time": "2024-08-20T09:09:42.120224Z"
    }
   },
   "id": "81ea7f2c8f922d42",
   "execution_count": 27
  },
  {
   "cell_type": "code",
   "outputs": [],
   "source": [
    "figs = make_subplots(\n",
    "    rows=6, \n",
    "    cols=4, \n",
    "    subplot_titles=[f\"Hour {i}\" for i in range(24)],\n",
    "    specs=[[{'type' : 'sankey'}] * 4 for _ in range(6)]\n",
    ")\n",
    "for i in sorted(df['pickup_hour_of_day'].unique()):\n",
    "    figs.add_trace(sankey_for_hour(i), row=(i // 4) + 1, col=(i % 4) + 1)\n",
    "figs.update_layout(height=1410, width=1000, title_text=\"Movement from borough to borough at different hours\")\n",
    "figs.write_image(\"../plots/movement_plot.png\", engine=\"kaleido\")"
   ],
   "metadata": {
    "collapsed": false,
    "ExecuteTime": {
     "end_time": "2024-08-20T09:09:42.558831Z",
     "start_time": "2024-08-20T09:09:42.139446Z"
    }
   },
   "id": "f0610cc0caa2deeb",
   "execution_count": 28
  },
  {
   "cell_type": "code",
   "outputs": [],
   "source": [],
   "metadata": {
    "collapsed": false,
    "ExecuteTime": {
     "end_time": "2024-08-20T09:09:42.559440Z",
     "start_time": "2024-08-20T09:09:42.555959Z"
    }
   },
   "id": "96965089e3fe8099",
   "execution_count": 28
  }
 ],
 "metadata": {
  "kernelspec": {
   "display_name": "Python 3",
   "language": "python",
   "name": "python3"
  },
  "language_info": {
   "codemirror_mode": {
    "name": "ipython",
    "version": 2
   },
   "file_extension": ".py",
   "mimetype": "text/x-python",
   "name": "python",
   "nbconvert_exporter": "python",
   "pygments_lexer": "ipython2",
   "version": "2.7.6"
  }
 },
 "nbformat": 4,
 "nbformat_minor": 5
}
