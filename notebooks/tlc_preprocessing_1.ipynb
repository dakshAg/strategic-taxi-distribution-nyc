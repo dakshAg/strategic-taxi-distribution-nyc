{
 "cells": [
  {
   "cell_type": "markdown",
   "source": [
    "# TLC Data Preprocessing (Part 1)\n",
    "This notebook reads in from landing data and exports to raw, while performing the following preprocessing steps:\n",
    "1. Missing Value Analysis\n",
    "2. Invalid Data Analysis"
   ],
   "metadata": {
    "collapsed": false
   },
   "id": "ec859c20e486a7ed"
  },
  {
   "cell_type": "code",
   "outputs": [],
   "source": [
    "from pyspark.sql import SparkSession"
   ],
   "metadata": {
    "collapsed": false,
    "ExecuteTime": {
     "end_time": "2024-08-24T15:55:04.079217Z",
     "start_time": "2024-08-24T15:55:03.992952Z"
    }
   },
   "id": "6fc77847b31a01f",
   "execution_count": 1
  },
  {
   "cell_type": "code",
   "execution_count": 2,
   "id": "initial_id",
   "metadata": {
    "collapsed": true,
    "ExecuteTime": {
     "end_time": "2024-08-24T15:55:07.065019Z",
     "start_time": "2024-08-24T15:55:04.078633Z"
    }
   },
   "outputs": [
    {
     "name": "stderr",
     "output_type": "stream",
     "text": [
      "24/08/25 01:55:05 WARN Utils: Your hostname, coldbrew.local resolves to a loopback address: 127.0.0.1; using 172.16.119.16 instead (on interface en0)\n",
      "24/08/25 01:55:05 WARN Utils: Set SPARK_LOCAL_IP if you need to bind to another address\n",
      "Setting default log level to \"WARN\".\n",
      "To adjust logging level use sc.setLogLevel(newLevel). For SparkR, use setLogLevel(newLevel).\n",
      "24/08/25 01:55:05 WARN NativeCodeLoader: Unable to load native-hadoop library for your platform... using builtin-java classes where applicable\n"
     ]
    }
   ],
   "source": [
    "# Create a spark session (which will run spark jobs)\n",
    "spark = (\n",
    "    SparkSession.builder.appName(\"MAST30034 Tutorial 1\")\n",
    "    .config(\"spark.sql.repl.eagerEval.enabled\", True)\n",
    "    .config(\"spark.sql.parquet.cacheMetadata\", \"true\")\n",
    "    .config(\"spark.sql.session.timeZone\", \"Etc/UTC\")\n",
    "    .config(\"spark.sql.parquet.writeLegacyFormat\", True)\n",
    "    .config(\"spark.driver.memory\", \"15g\")\n",
    "    .config(\"spark.sql.parquet.enableVectorizedReader\", \"false\")\n",
    "    .getOrCreate()\n",
    ")"
   ]
  },
  {
   "cell_type": "markdown",
   "source": [],
   "metadata": {
    "collapsed": false
   },
   "id": "716753464bd1b0e4"
  },
  {
   "cell_type": "code",
   "outputs": [
    {
     "name": "stderr",
     "output_type": "stream",
     "text": [
      "                                                                                \r"
     ]
    }
   ],
   "source": [
    "sdf_all = spark.read.parquet('../data/landing/tlc_data/')"
   ],
   "metadata": {
    "collapsed": false,
    "ExecuteTime": {
     "end_time": "2024-08-24T15:55:09.194517Z",
     "start_time": "2024-08-24T15:55:07.065409Z"
    }
   },
   "id": "d870a99895a95d92",
   "execution_count": 3
  },
  {
   "cell_type": "code",
   "outputs": [
    {
     "name": "stderr",
     "output_type": "stream",
     "text": [
      "[Stage 1:======================================================>  (20 + 1) / 21]\r"
     ]
    },
    {
     "name": "stdout",
     "output_type": "stream",
     "text": [
      "Number of rows 102914393\n",
      "root\n",
      " |-- hvfhs_license_num: string (nullable = true)\n",
      " |-- dispatching_base_num: string (nullable = true)\n",
      " |-- originating_base_num: string (nullable = true)\n",
      " |-- request_datetime: timestamp_ntz (nullable = true)\n",
      " |-- on_scene_datetime: timestamp_ntz (nullable = true)\n",
      " |-- pickup_datetime: timestamp_ntz (nullable = true)\n",
      " |-- dropoff_datetime: timestamp_ntz (nullable = true)\n",
      " |-- PULocationID: long (nullable = true)\n",
      " |-- DOLocationID: long (nullable = true)\n",
      " |-- trip_miles: double (nullable = true)\n",
      " |-- trip_time: long (nullable = true)\n",
      " |-- base_passenger_fare: double (nullable = true)\n",
      " |-- tolls: double (nullable = true)\n",
      " |-- bcf: double (nullable = true)\n",
      " |-- sales_tax: double (nullable = true)\n",
      " |-- congestion_surcharge: double (nullable = true)\n",
      " |-- airport_fee: double (nullable = true)\n",
      " |-- tips: double (nullable = true)\n",
      " |-- driver_pay: double (nullable = true)\n",
      " |-- shared_request_flag: string (nullable = true)\n",
      " |-- shared_match_flag: string (nullable = true)\n",
      " |-- access_a_ride_flag: string (nullable = true)\n",
      " |-- wav_request_flag: string (nullable = true)\n",
      " |-- wav_match_flag: string (nullable = true)\n"
     ]
    },
    {
     "name": "stderr",
     "output_type": "stream",
     "text": [
      "                                                                                \r"
     ]
    }
   ],
   "source": [
    "# Preview the data\n",
    "num_rows = sdf_all.count()\n",
    "print(\"Number of rows\", num_rows)\n",
    "sdf_all.printSchema()"
   ],
   "metadata": {
    "collapsed": false,
    "ExecuteTime": {
     "end_time": "2024-08-24T15:55:13.675630Z",
     "start_time": "2024-08-24T15:55:09.197010Z"
    }
   },
   "id": "b106a3d96a9aa28",
   "execution_count": 4
  },
  {
   "cell_type": "code",
   "outputs": [
    {
     "name": "stderr",
     "output_type": "stream",
     "text": [
      "                                                                                \r"
     ]
    },
    {
     "name": "stdout",
     "output_type": "stream",
     "text": [
      "+-----------------+--------------------+--------------------+-------------------+-------------------+-------------------+-------------------+------------+------------+----------+---------+-------------------+-----+----+---------+--------------------+-----------+----+----------+-------------------+-----------------+------------------+----------------+--------------+\n",
      "|hvfhs_license_num|dispatching_base_num|originating_base_num|   request_datetime|  on_scene_datetime|    pickup_datetime|   dropoff_datetime|PULocationID|DOLocationID|trip_miles|trip_time|base_passenger_fare|tolls| bcf|sales_tax|congestion_surcharge|airport_fee|tips|driver_pay|shared_request_flag|shared_match_flag|access_a_ride_flag|wav_request_flag|wav_match_flag|\n",
      "+-----------------+--------------------+--------------------+-------------------+-------------------+-------------------+-------------------+------------+------------+----------+---------+-------------------+-----+----+---------+--------------------+-----------+----+----------+-------------------+-----------------+------------------+----------------+--------------+\n",
      "|           HV0003|              B03404|              B03404|2022-04-01 00:18:10|2022-04-01 00:23:57|2022-04-01 00:24:06|2022-04-01 00:38:16|         230|         137|      2.63|      850|              15.44|  0.0|0.46|     1.37|                2.75|        0.0| 0.0|     12.43|                  N|                N|                  |               N|             N|\n",
      "|           HV0003|              B03404|              B03404|2022-04-01 00:40:52|2022-04-01 00:42:09|2022-04-01 00:44:10|2022-04-01 00:51:41|         170|         237|      2.02|      451|              11.58|  0.0|0.35|     1.03|                2.75|        0.0| 0.0|      8.23|                  N|                N|                  |               N|             N|\n",
      "|           HV0003|              B03404|              B03404|2022-04-01 00:53:46|2022-04-01 00:56:21|2022-04-01 00:56:31|2022-04-01 01:01:55|         237|         141|      0.73|      324|               7.72|  0.0|0.23|     0.69|                2.75|        0.0| 1.0|      7.29|                  N|                N|                  |               N|             N|\n",
      "|           HV0003|              B03404|              B03404|2022-04-01 00:03:24|2022-04-01 00:06:03|2022-04-01 00:06:30|2022-04-01 00:13:39|         198|         198|       1.1|      429|               8.27|  0.0|0.25|     0.73|                 0.0|        0.0| 0.0|      6.78|                  N|                N|                  |               N|             N|\n",
      "|           HV0003|              B03404|              B03404|2022-04-01 00:13:38|2022-04-01 00:19:27|2022-04-01 00:21:11|2022-04-01 00:32:11|          36|         177|      1.55|      660|              11.12|  0.0|0.33|     0.99|                 0.0|        0.0| 0.0|       9.0|                  N|                N|                  |               N|             N|\n",
      "+-----------------+--------------------+--------------------+-------------------+-------------------+-------------------+-------------------+------------+------------+----------+---------+-------------------+-----+----+---------+--------------------+-----------+----+----------+-------------------+-----------------+------------------+----------------+--------------+\n"
     ]
    }
   ],
   "source": [
    "sdf_all.show(5)"
   ],
   "metadata": {
    "collapsed": false,
    "ExecuteTime": {
     "end_time": "2024-08-24T15:55:15.534061Z",
     "start_time": "2024-08-24T15:55:13.675690Z"
    }
   },
   "id": "1466ea40f9762ea6",
   "execution_count": 5
  },
  {
   "cell_type": "code",
   "outputs": [
    {
     "name": "stderr",
     "output_type": "stream",
     "text": [
      "                                                                                \r"
     ]
    },
    {
     "name": "stdout",
     "output_type": "stream",
     "text": [
      "Column hvfhs_license_num has 0 missing values.\n",
      "Column dispatching_base_num has 0 missing values.\n",
      "Column originating_base_num has 28093518 missing values.\n",
      "Column request_datetime has 0 missing values.\n",
      "Column on_scene_datetime has 28092882 missing values.\n",
      "Column pickup_datetime has 0 missing values.\n",
      "Column dropoff_datetime has 0 missing values.\n",
      "Column PULocationID has 0 missing values.\n",
      "Column DOLocationID has 0 missing values.\n",
      "Column trip_miles has 0 missing values.\n",
      "Column trip_time has 0 missing values.\n",
      "Column base_passenger_fare has 0 missing values.\n",
      "Column tolls has 0 missing values.\n",
      "Column bcf has 0 missing values.\n",
      "Column sales_tax has 0 missing values.\n",
      "Column congestion_surcharge has 0 missing values.\n",
      "Column airport_fee has 0 missing values.\n",
      "Column tips has 0 missing values.\n",
      "Column driver_pay has 0 missing values.\n",
      "Column shared_request_flag has 0 missing values.\n",
      "Column shared_match_flag has 0 missing values.\n",
      "Column access_a_ride_flag has 0 missing values.\n",
      "Column wav_request_flag has 0 missing values.\n",
      "Column wav_match_flag has 0 missing values.\n"
     ]
    }
   ],
   "source": [
    "from pyspark.sql import functions as F\n",
    "\n",
    "# Create a dictionary to hold the counts of missing values (written by ChatGPT)\n",
    "missing_counts = {col: sdf_all.filter(sdf_all[col].isNull()).count() for col in sdf_all.columns}\n",
    "\n",
    "# Display the counts\n",
    "for column, count in missing_counts.items():\n",
    "    print(f\"Column {column} has {count} missing values.\")"
   ],
   "metadata": {
    "collapsed": false,
    "ExecuteTime": {
     "end_time": "2024-08-24T15:56:11.521217Z",
     "start_time": "2024-08-24T15:55:15.539820Z"
    }
   },
   "id": "6ff13865a727223e",
   "execution_count": 6
  },
  {
   "cell_type": "markdown",
   "source": [
    "Only the `originating_base_num` and `on_scene_datetime` columns have missing values. Since these columns are not relevant to our analysis, we can drop them."
   ],
   "metadata": {
    "collapsed": false
   },
   "id": "4a896a9d322bc6aa"
  },
  {
   "cell_type": "code",
   "outputs": [],
   "source": [
    "sdf_all = sdf_all.drop('originating_base_num', 'on_scene_datetime')"
   ],
   "metadata": {
    "collapsed": false,
    "ExecuteTime": {
     "end_time": "2024-08-24T15:56:11.544180Z",
     "start_time": "2024-08-24T15:56:11.521218Z"
    }
   },
   "id": "f97a53e37e3ff99b",
   "execution_count": 7
  },
  {
   "cell_type": "code",
   "outputs": [
    {
     "name": "stderr",
     "output_type": "stream",
     "text": [
      "[Stage 78:=====================================================>  (20 + 1) / 21]\r"
     ]
    },
    {
     "name": "stdout",
     "output_type": "stream",
     "text": [
      "Number of rows dropping 21604\n",
      "Percentage of rows dropping 0.0002099220465693268\n"
     ]
    },
    {
     "name": "stderr",
     "output_type": "stream",
     "text": [
      "                                                                                \r"
     ]
    }
   ],
   "source": [
    "# Identifying invalid data\n",
    "num_rows_after_drop = sdf_all.filter(\n",
    "    (F.col('trip_miles') > 0) & (F.col('trip_time') > 0) & (F.col('tips') >= 0)).count()\n",
    "print(\"Number of rows dropping\", num_rows - num_rows_after_drop)\n",
    "print(\"Percentage of rows dropping\", (num_rows - num_rows_after_drop) / num_rows)"
   ],
   "metadata": {
    "collapsed": false,
    "ExecuteTime": {
     "end_time": "2024-08-24T15:56:29.076142Z",
     "start_time": "2024-08-24T15:56:11.534816Z"
    }
   },
   "id": "6c1d2c8d4746dfe7",
   "execution_count": 8
  },
  {
   "cell_type": "markdown",
   "source": [
    "Only a small percentage of rows are dropped, so we can proceed with dropping these rows."
   ],
   "metadata": {
    "collapsed": false
   },
   "id": "e36b71e9e2292d5c"
  },
  {
   "cell_type": "markdown",
   "source": [],
   "metadata": {
    "collapsed": false
   },
   "id": "7967b81488810398"
  },
  {
   "cell_type": "code",
   "outputs": [
    {
     "name": "stderr",
     "output_type": "stream",
     "text": [
      "                                                                                \r"
     ]
    }
   ],
   "source": [
    "sdf_all.write.mode('overwrite').parquet('../data/raw/tlc_data')"
   ],
   "metadata": {
    "collapsed": false,
    "ExecuteTime": {
     "end_time": "2024-08-24T15:59:12.582052Z",
     "start_time": "2024-08-24T15:56:29.075566Z"
    }
   },
   "id": "db410d1f148c5169",
   "execution_count": 9
  }
 ],
 "metadata": {
  "kernelspec": {
   "display_name": "Python 3",
   "language": "python",
   "name": "python3"
  },
  "language_info": {
   "codemirror_mode": {
    "name": "ipython",
    "version": 2
   },
   "file_extension": ".py",
   "mimetype": "text/x-python",
   "name": "python",
   "nbconvert_exporter": "python",
   "pygments_lexer": "ipython2",
   "version": "2.7.6"
  }
 },
 "nbformat": 4,
 "nbformat_minor": 5
}
